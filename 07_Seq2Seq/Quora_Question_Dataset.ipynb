{
  "nbformat": 4,
  "nbformat_minor": 0,
  "metadata": {
    "colab": {
      "name": "Quora-Question-Dataset.ipynb",
      "provenance": [],
      "collapsed_sections": [],
      "include_colab_link": true
    },
    "kernelspec": {
      "name": "python3",
      "display_name": "Python 3"
    },
    "language_info": {
      "name": "python"
    },
    "widgets": {
      "application/vnd.jupyter.widget-state+json": {
        "bc40e9347b7f4d7188c0c6fb7c4e9125": {
          "model_module": "@jupyter-widgets/controls",
          "model_name": "HBoxModel",
          "state": {
            "_view_name": "HBoxView",
            "_dom_classes": [],
            "_model_name": "HBoxModel",
            "_view_module": "@jupyter-widgets/controls",
            "_model_module_version": "1.5.0",
            "_view_count": null,
            "_view_module_version": "1.5.0",
            "box_style": "",
            "layout": "IPY_MODEL_fcdde50b367c48bdbf1392f9eaec2d30",
            "_model_module": "@jupyter-widgets/controls",
            "children": [
              "IPY_MODEL_ec69465d12e141b686d1f548888521dc",
              "IPY_MODEL_17574d7d4c464f5980a85c451c238955"
            ]
          }
        },
        "fcdde50b367c48bdbf1392f9eaec2d30": {
          "model_module": "@jupyter-widgets/base",
          "model_name": "LayoutModel",
          "state": {
            "_view_name": "LayoutView",
            "grid_template_rows": null,
            "right": null,
            "justify_content": null,
            "_view_module": "@jupyter-widgets/base",
            "overflow": null,
            "_model_module_version": "1.2.0",
            "_view_count": null,
            "flex_flow": null,
            "width": null,
            "min_width": null,
            "border": null,
            "align_items": null,
            "bottom": null,
            "_model_module": "@jupyter-widgets/base",
            "top": null,
            "grid_column": null,
            "overflow_y": null,
            "overflow_x": null,
            "grid_auto_flow": null,
            "grid_area": null,
            "grid_template_columns": null,
            "flex": null,
            "_model_name": "LayoutModel",
            "justify_items": null,
            "grid_row": null,
            "max_height": null,
            "align_content": null,
            "visibility": null,
            "align_self": null,
            "height": null,
            "min_height": null,
            "padding": null,
            "grid_auto_rows": null,
            "grid_gap": null,
            "max_width": null,
            "order": null,
            "_view_module_version": "1.2.0",
            "grid_template_areas": null,
            "object_position": null,
            "object_fit": null,
            "grid_auto_columns": null,
            "margin": null,
            "display": null,
            "left": null
          }
        },
        "ec69465d12e141b686d1f548888521dc": {
          "model_module": "@jupyter-widgets/controls",
          "model_name": "FloatProgressModel",
          "state": {
            "_view_name": "ProgressView",
            "style": "IPY_MODEL_caa2409a5b6340adb0ae81db86eba1b6",
            "_dom_classes": [],
            "description": "100%",
            "_model_name": "FloatProgressModel",
            "bar_style": "success",
            "max": 208968,
            "_view_module": "@jupyter-widgets/controls",
            "_model_module_version": "1.5.0",
            "value": 208968,
            "_view_count": null,
            "_view_module_version": "1.5.0",
            "orientation": "horizontal",
            "min": 0,
            "description_tooltip": null,
            "_model_module": "@jupyter-widgets/controls",
            "layout": "IPY_MODEL_98bf40c2e53e4d339c8078320c3d6ef5"
          }
        },
        "17574d7d4c464f5980a85c451c238955": {
          "model_module": "@jupyter-widgets/controls",
          "model_name": "HTMLModel",
          "state": {
            "_view_name": "HTMLView",
            "style": "IPY_MODEL_4a0102633a0a4d94a752cc9537b962aa",
            "_dom_classes": [],
            "description": "",
            "_model_name": "HTMLModel",
            "placeholder": "​",
            "_view_module": "@jupyter-widgets/controls",
            "_model_module_version": "1.5.0",
            "value": " 208968/208968 [00:12&lt;00:00, 16122.50lines/s]",
            "_view_count": null,
            "_view_module_version": "1.5.0",
            "description_tooltip": null,
            "_model_module": "@jupyter-widgets/controls",
            "layout": "IPY_MODEL_9de34de8b7b94f8090f85c22f607af7d"
          }
        },
        "caa2409a5b6340adb0ae81db86eba1b6": {
          "model_module": "@jupyter-widgets/controls",
          "model_name": "ProgressStyleModel",
          "state": {
            "_view_name": "StyleView",
            "_model_name": "ProgressStyleModel",
            "description_width": "initial",
            "_view_module": "@jupyter-widgets/base",
            "_model_module_version": "1.5.0",
            "_view_count": null,
            "_view_module_version": "1.2.0",
            "bar_color": null,
            "_model_module": "@jupyter-widgets/controls"
          }
        },
        "98bf40c2e53e4d339c8078320c3d6ef5": {
          "model_module": "@jupyter-widgets/base",
          "model_name": "LayoutModel",
          "state": {
            "_view_name": "LayoutView",
            "grid_template_rows": null,
            "right": null,
            "justify_content": null,
            "_view_module": "@jupyter-widgets/base",
            "overflow": null,
            "_model_module_version": "1.2.0",
            "_view_count": null,
            "flex_flow": null,
            "width": null,
            "min_width": null,
            "border": null,
            "align_items": null,
            "bottom": null,
            "_model_module": "@jupyter-widgets/base",
            "top": null,
            "grid_column": null,
            "overflow_y": null,
            "overflow_x": null,
            "grid_auto_flow": null,
            "grid_area": null,
            "grid_template_columns": null,
            "flex": null,
            "_model_name": "LayoutModel",
            "justify_items": null,
            "grid_row": null,
            "max_height": null,
            "align_content": null,
            "visibility": null,
            "align_self": null,
            "height": null,
            "min_height": null,
            "padding": null,
            "grid_auto_rows": null,
            "grid_gap": null,
            "max_width": null,
            "order": null,
            "_view_module_version": "1.2.0",
            "grid_template_areas": null,
            "object_position": null,
            "object_fit": null,
            "grid_auto_columns": null,
            "margin": null,
            "display": null,
            "left": null
          }
        },
        "4a0102633a0a4d94a752cc9537b962aa": {
          "model_module": "@jupyter-widgets/controls",
          "model_name": "DescriptionStyleModel",
          "state": {
            "_view_name": "StyleView",
            "_model_name": "DescriptionStyleModel",
            "description_width": "",
            "_view_module": "@jupyter-widgets/base",
            "_model_module_version": "1.5.0",
            "_view_count": null,
            "_view_module_version": "1.2.0",
            "_model_module": "@jupyter-widgets/controls"
          }
        },
        "9de34de8b7b94f8090f85c22f607af7d": {
          "model_module": "@jupyter-widgets/base",
          "model_name": "LayoutModel",
          "state": {
            "_view_name": "LayoutView",
            "grid_template_rows": null,
            "right": null,
            "justify_content": null,
            "_view_module": "@jupyter-widgets/base",
            "overflow": null,
            "_model_module_version": "1.2.0",
            "_view_count": null,
            "flex_flow": null,
            "width": null,
            "min_width": null,
            "border": null,
            "align_items": null,
            "bottom": null,
            "_model_module": "@jupyter-widgets/base",
            "top": null,
            "grid_column": null,
            "overflow_y": null,
            "overflow_x": null,
            "grid_auto_flow": null,
            "grid_area": null,
            "grid_template_columns": null,
            "flex": null,
            "_model_name": "LayoutModel",
            "justify_items": null,
            "grid_row": null,
            "max_height": null,
            "align_content": null,
            "visibility": null,
            "align_self": null,
            "height": null,
            "min_height": null,
            "padding": null,
            "grid_auto_rows": null,
            "grid_gap": null,
            "max_width": null,
            "order": null,
            "_view_module_version": "1.2.0",
            "grid_template_areas": null,
            "object_position": null,
            "object_fit": null,
            "grid_auto_columns": null,
            "margin": null,
            "display": null,
            "left": null
          }
        },
        "b9a85661c1464ee982ead3511037c001": {
          "model_module": "@jupyter-widgets/controls",
          "model_name": "HBoxModel",
          "state": {
            "_view_name": "HBoxView",
            "_dom_classes": [],
            "_model_name": "HBoxModel",
            "_view_module": "@jupyter-widgets/controls",
            "_model_module_version": "1.5.0",
            "_view_count": null,
            "_view_module_version": "1.5.0",
            "box_style": "",
            "layout": "IPY_MODEL_ac5a88b93e444977b65b8c9b6b01b294",
            "_model_module": "@jupyter-widgets/controls",
            "children": [
              "IPY_MODEL_5bfdabbb530449559533fb392a6f92ba",
              "IPY_MODEL_bcd7737fff974ffd84bc8053a6faec88"
            ]
          }
        },
        "ac5a88b93e444977b65b8c9b6b01b294": {
          "model_module": "@jupyter-widgets/base",
          "model_name": "LayoutModel",
          "state": {
            "_view_name": "LayoutView",
            "grid_template_rows": null,
            "right": null,
            "justify_content": null,
            "_view_module": "@jupyter-widgets/base",
            "overflow": null,
            "_model_module_version": "1.2.0",
            "_view_count": null,
            "flex_flow": null,
            "width": null,
            "min_width": null,
            "border": null,
            "align_items": null,
            "bottom": null,
            "_model_module": "@jupyter-widgets/base",
            "top": null,
            "grid_column": null,
            "overflow_y": null,
            "overflow_x": null,
            "grid_auto_flow": null,
            "grid_area": null,
            "grid_template_columns": null,
            "flex": null,
            "_model_name": "LayoutModel",
            "justify_items": null,
            "grid_row": null,
            "max_height": null,
            "align_content": null,
            "visibility": null,
            "align_self": null,
            "height": null,
            "min_height": null,
            "padding": null,
            "grid_auto_rows": null,
            "grid_gap": null,
            "max_width": null,
            "order": null,
            "_view_module_version": "1.2.0",
            "grid_template_areas": null,
            "object_position": null,
            "object_fit": null,
            "grid_auto_columns": null,
            "margin": null,
            "display": null,
            "left": null
          }
        },
        "5bfdabbb530449559533fb392a6f92ba": {
          "model_module": "@jupyter-widgets/controls",
          "model_name": "FloatProgressModel",
          "state": {
            "_view_name": "ProgressView",
            "style": "IPY_MODEL_ef76b4623cdb414198bb35653f3297e5",
            "_dom_classes": [],
            "description": "100%",
            "_model_name": "FloatProgressModel",
            "bar_style": "success",
            "max": 208968,
            "_view_module": "@jupyter-widgets/controls",
            "_model_module_version": "1.5.0",
            "value": 208968,
            "_view_count": null,
            "_view_module_version": "1.5.0",
            "orientation": "horizontal",
            "min": 0,
            "description_tooltip": null,
            "_model_module": "@jupyter-widgets/controls",
            "layout": "IPY_MODEL_49efb512369740979858e20d8b96ba27"
          }
        },
        "bcd7737fff974ffd84bc8053a6faec88": {
          "model_module": "@jupyter-widgets/controls",
          "model_name": "HTMLModel",
          "state": {
            "_view_name": "HTMLView",
            "style": "IPY_MODEL_aac99eb9b5744ea9bb416609f1b70899",
            "_dom_classes": [],
            "description": "",
            "_model_name": "HTMLModel",
            "placeholder": "​",
            "_view_module": "@jupyter-widgets/controls",
            "_model_module_version": "1.5.0",
            "value": " 208968/208968 [00:13&lt;00:00, 15720.24lines/s]",
            "_view_count": null,
            "_view_module_version": "1.5.0",
            "description_tooltip": null,
            "_model_module": "@jupyter-widgets/controls",
            "layout": "IPY_MODEL_e743ddc34c234701a4bd7e5160fb952e"
          }
        },
        "ef76b4623cdb414198bb35653f3297e5": {
          "model_module": "@jupyter-widgets/controls",
          "model_name": "ProgressStyleModel",
          "state": {
            "_view_name": "StyleView",
            "_model_name": "ProgressStyleModel",
            "description_width": "initial",
            "_view_module": "@jupyter-widgets/base",
            "_model_module_version": "1.5.0",
            "_view_count": null,
            "_view_module_version": "1.2.0",
            "bar_color": null,
            "_model_module": "@jupyter-widgets/controls"
          }
        },
        "49efb512369740979858e20d8b96ba27": {
          "model_module": "@jupyter-widgets/base",
          "model_name": "LayoutModel",
          "state": {
            "_view_name": "LayoutView",
            "grid_template_rows": null,
            "right": null,
            "justify_content": null,
            "_view_module": "@jupyter-widgets/base",
            "overflow": null,
            "_model_module_version": "1.2.0",
            "_view_count": null,
            "flex_flow": null,
            "width": null,
            "min_width": null,
            "border": null,
            "align_items": null,
            "bottom": null,
            "_model_module": "@jupyter-widgets/base",
            "top": null,
            "grid_column": null,
            "overflow_y": null,
            "overflow_x": null,
            "grid_auto_flow": null,
            "grid_area": null,
            "grid_template_columns": null,
            "flex": null,
            "_model_name": "LayoutModel",
            "justify_items": null,
            "grid_row": null,
            "max_height": null,
            "align_content": null,
            "visibility": null,
            "align_self": null,
            "height": null,
            "min_height": null,
            "padding": null,
            "grid_auto_rows": null,
            "grid_gap": null,
            "max_width": null,
            "order": null,
            "_view_module_version": "1.2.0",
            "grid_template_areas": null,
            "object_position": null,
            "object_fit": null,
            "grid_auto_columns": null,
            "margin": null,
            "display": null,
            "left": null
          }
        },
        "aac99eb9b5744ea9bb416609f1b70899": {
          "model_module": "@jupyter-widgets/controls",
          "model_name": "DescriptionStyleModel",
          "state": {
            "_view_name": "StyleView",
            "_model_name": "DescriptionStyleModel",
            "description_width": "",
            "_view_module": "@jupyter-widgets/base",
            "_model_module_version": "1.5.0",
            "_view_count": null,
            "_view_module_version": "1.2.0",
            "_model_module": "@jupyter-widgets/controls"
          }
        },
        "e743ddc34c234701a4bd7e5160fb952e": {
          "model_module": "@jupyter-widgets/base",
          "model_name": "LayoutModel",
          "state": {
            "_view_name": "LayoutView",
            "grid_template_rows": null,
            "right": null,
            "justify_content": null,
            "_view_module": "@jupyter-widgets/base",
            "overflow": null,
            "_model_module_version": "1.2.0",
            "_view_count": null,
            "flex_flow": null,
            "width": null,
            "min_width": null,
            "border": null,
            "align_items": null,
            "bottom": null,
            "_model_module": "@jupyter-widgets/base",
            "top": null,
            "grid_column": null,
            "overflow_y": null,
            "overflow_x": null,
            "grid_auto_flow": null,
            "grid_area": null,
            "grid_template_columns": null,
            "flex": null,
            "_model_name": "LayoutModel",
            "justify_items": null,
            "grid_row": null,
            "max_height": null,
            "align_content": null,
            "visibility": null,
            "align_self": null,
            "height": null,
            "min_height": null,
            "padding": null,
            "grid_auto_rows": null,
            "grid_gap": null,
            "max_width": null,
            "order": null,
            "_view_module_version": "1.2.0",
            "grid_template_areas": null,
            "object_position": null,
            "object_fit": null,
            "grid_auto_columns": null,
            "margin": null,
            "display": null,
            "left": null
          }
        },
        "df78e928ea5440149113ad990b0f599d": {
          "model_module": "@jupyter-widgets/controls",
          "model_name": "HBoxModel",
          "state": {
            "_view_name": "HBoxView",
            "_dom_classes": [],
            "_model_name": "HBoxModel",
            "_view_module": "@jupyter-widgets/controls",
            "_model_module_version": "1.5.0",
            "_view_count": null,
            "_view_module_version": "1.5.0",
            "box_style": "",
            "layout": "IPY_MODEL_d709c36ec10140af913f327a5252202b",
            "_model_module": "@jupyter-widgets/controls",
            "children": [
              "IPY_MODEL_8e01fe2494ff4b2eb6fa6c6ff97ef5c0",
              "IPY_MODEL_ae7219daff814cd888c36139210e081a"
            ]
          }
        },
        "d709c36ec10140af913f327a5252202b": {
          "model_module": "@jupyter-widgets/base",
          "model_name": "LayoutModel",
          "state": {
            "_view_name": "LayoutView",
            "grid_template_rows": null,
            "right": null,
            "justify_content": null,
            "_view_module": "@jupyter-widgets/base",
            "overflow": null,
            "_model_module_version": "1.2.0",
            "_view_count": null,
            "flex_flow": null,
            "width": null,
            "min_width": null,
            "border": null,
            "align_items": null,
            "bottom": null,
            "_model_module": "@jupyter-widgets/base",
            "top": null,
            "grid_column": null,
            "overflow_y": null,
            "overflow_x": null,
            "grid_auto_flow": null,
            "grid_area": null,
            "grid_template_columns": null,
            "flex": null,
            "_model_name": "LayoutModel",
            "justify_items": null,
            "grid_row": null,
            "max_height": null,
            "align_content": null,
            "visibility": null,
            "align_self": null,
            "height": null,
            "min_height": null,
            "padding": null,
            "grid_auto_rows": null,
            "grid_gap": null,
            "max_width": null,
            "order": null,
            "_view_module_version": "1.2.0",
            "grid_template_areas": null,
            "object_position": null,
            "object_fit": null,
            "grid_auto_columns": null,
            "margin": null,
            "display": null,
            "left": null
          }
        },
        "8e01fe2494ff4b2eb6fa6c6ff97ef5c0": {
          "model_module": "@jupyter-widgets/controls",
          "model_name": "FloatProgressModel",
          "state": {
            "_view_name": "ProgressView",
            "style": "IPY_MODEL_2c108b674e4142eba4776f99c06a1444",
            "_dom_classes": [],
            "description": "100%",
            "_model_name": "FloatProgressModel",
            "bar_style": "success",
            "max": 208968,
            "_view_module": "@jupyter-widgets/controls",
            "_model_module_version": "1.5.0",
            "value": 208968,
            "_view_count": null,
            "_view_module_version": "1.5.0",
            "orientation": "horizontal",
            "min": 0,
            "description_tooltip": null,
            "_model_module": "@jupyter-widgets/controls",
            "layout": "IPY_MODEL_d80bbfb4fdf94adeba82752617246d10"
          }
        },
        "ae7219daff814cd888c36139210e081a": {
          "model_module": "@jupyter-widgets/controls",
          "model_name": "HTMLModel",
          "state": {
            "_view_name": "HTMLView",
            "style": "IPY_MODEL_315eba276e4c4f3db0b4e665291214c9",
            "_dom_classes": [],
            "description": "",
            "_model_name": "HTMLModel",
            "placeholder": "​",
            "_view_module": "@jupyter-widgets/controls",
            "_model_module_version": "1.5.0",
            "value": " 208968/208968 [00:11&lt;00:00, 17563.64lines/s]",
            "_view_count": null,
            "_view_module_version": "1.5.0",
            "description_tooltip": null,
            "_model_module": "@jupyter-widgets/controls",
            "layout": "IPY_MODEL_8cf27f93cc0b4f789b174690c6025296"
          }
        },
        "2c108b674e4142eba4776f99c06a1444": {
          "model_module": "@jupyter-widgets/controls",
          "model_name": "ProgressStyleModel",
          "state": {
            "_view_name": "StyleView",
            "_model_name": "ProgressStyleModel",
            "description_width": "initial",
            "_view_module": "@jupyter-widgets/base",
            "_model_module_version": "1.5.0",
            "_view_count": null,
            "_view_module_version": "1.2.0",
            "bar_color": null,
            "_model_module": "@jupyter-widgets/controls"
          }
        },
        "d80bbfb4fdf94adeba82752617246d10": {
          "model_module": "@jupyter-widgets/base",
          "model_name": "LayoutModel",
          "state": {
            "_view_name": "LayoutView",
            "grid_template_rows": null,
            "right": null,
            "justify_content": null,
            "_view_module": "@jupyter-widgets/base",
            "overflow": null,
            "_model_module_version": "1.2.0",
            "_view_count": null,
            "flex_flow": null,
            "width": null,
            "min_width": null,
            "border": null,
            "align_items": null,
            "bottom": null,
            "_model_module": "@jupyter-widgets/base",
            "top": null,
            "grid_column": null,
            "overflow_y": null,
            "overflow_x": null,
            "grid_auto_flow": null,
            "grid_area": null,
            "grid_template_columns": null,
            "flex": null,
            "_model_name": "LayoutModel",
            "justify_items": null,
            "grid_row": null,
            "max_height": null,
            "align_content": null,
            "visibility": null,
            "align_self": null,
            "height": null,
            "min_height": null,
            "padding": null,
            "grid_auto_rows": null,
            "grid_gap": null,
            "max_width": null,
            "order": null,
            "_view_module_version": "1.2.0",
            "grid_template_areas": null,
            "object_position": null,
            "object_fit": null,
            "grid_auto_columns": null,
            "margin": null,
            "display": null,
            "left": null
          }
        },
        "315eba276e4c4f3db0b4e665291214c9": {
          "model_module": "@jupyter-widgets/controls",
          "model_name": "DescriptionStyleModel",
          "state": {
            "_view_name": "StyleView",
            "_model_name": "DescriptionStyleModel",
            "description_width": "",
            "_view_module": "@jupyter-widgets/base",
            "_model_module_version": "1.5.0",
            "_view_count": null,
            "_view_module_version": "1.2.0",
            "_model_module": "@jupyter-widgets/controls"
          }
        },
        "8cf27f93cc0b4f789b174690c6025296": {
          "model_module": "@jupyter-widgets/base",
          "model_name": "LayoutModel",
          "state": {
            "_view_name": "LayoutView",
            "grid_template_rows": null,
            "right": null,
            "justify_content": null,
            "_view_module": "@jupyter-widgets/base",
            "overflow": null,
            "_model_module_version": "1.2.0",
            "_view_count": null,
            "flex_flow": null,
            "width": null,
            "min_width": null,
            "border": null,
            "align_items": null,
            "bottom": null,
            "_model_module": "@jupyter-widgets/base",
            "top": null,
            "grid_column": null,
            "overflow_y": null,
            "overflow_x": null,
            "grid_auto_flow": null,
            "grid_area": null,
            "grid_template_columns": null,
            "flex": null,
            "_model_name": "LayoutModel",
            "justify_items": null,
            "grid_row": null,
            "max_height": null,
            "align_content": null,
            "visibility": null,
            "align_self": null,
            "height": null,
            "min_height": null,
            "padding": null,
            "grid_auto_rows": null,
            "grid_gap": null,
            "max_width": null,
            "order": null,
            "_view_module_version": "1.2.0",
            "grid_template_areas": null,
            "object_position": null,
            "object_fit": null,
            "grid_auto_columns": null,
            "margin": null,
            "display": null,
            "left": null
          }
        }
      }
    }
  },
  "cells": [
    {
      "cell_type": "markdown",
      "metadata": {
        "id": "view-in-github",
        "colab_type": "text"
      },
      "source": [
        "<a href=\"https://colab.research.google.com/github/satyajitghana/TSAI-DeepNLP-END2.0/blob/main/07_Seq2Seq/Quora_Question_Dataset.ipynb\" target=\"_parent\"><img src=\"https://colab.research.google.com/assets/colab-badge.svg\" alt=\"Open In Colab\"/></a>"
      ]
    },
    {
      "cell_type": "markdown",
      "metadata": {
        "id": "O-dA3lpk_bgR"
      },
      "source": [
        "# Quora Similar Questions Dataset"
      ]
    },
    {
      "cell_type": "code",
      "metadata": {
        "id": "peGei6L3UUBi",
        "colab": {
          "base_uri": "https://localhost:8080/"
        },
        "outputId": "d47c548d-e322-4953-b0ed-6a6c52de7629"
      },
      "source": [
        "! pip install colorlog --quiet\n",
        "! pip install gdown==3.13.0 --quiet\n",
        "! pip install spacy==3.0.6 --quiet\n",
        "! pip install pytorch-lightning --quiet"
      ],
      "execution_count": null,
      "outputs": [
        {
          "output_type": "stream",
          "text": [
            "Looking in links: https://download.pytorch.org/whl/nightly/cu111/torch_nightly.html\n",
            "Requirement already satisfied: torch in /usr/local/lib/python3.7/dist-packages (1.9.0+cu102)\n",
            "Requirement already satisfied: torchvision in /usr/local/lib/python3.7/dist-packages (0.10.0+cu102)\n",
            "Requirement already satisfied: torchtext in /usr/local/lib/python3.7/dist-packages (0.10.0)\n",
            "Requirement already satisfied: typing-extensions in /usr/local/lib/python3.7/dist-packages (from torch) (3.7.4.3)\n",
            "Requirement already satisfied: numpy in /usr/local/lib/python3.7/dist-packages (from torchvision) (1.19.5)\n",
            "Requirement already satisfied: pillow>=5.3.0 in /usr/local/lib/python3.7/dist-packages (from torchvision) (7.1.2)\n",
            "Requirement already satisfied: requests in /usr/local/lib/python3.7/dist-packages (from torchtext) (2.23.0)\n",
            "Requirement already satisfied: tqdm in /usr/local/lib/python3.7/dist-packages (from torchtext) (4.41.1)\n",
            "Requirement already satisfied: certifi>=2017.4.17 in /usr/local/lib/python3.7/dist-packages (from requests->torchtext) (2021.5.30)\n",
            "Requirement already satisfied: chardet<4,>=3.0.2 in /usr/local/lib/python3.7/dist-packages (from requests->torchtext) (3.0.4)\n",
            "Requirement already satisfied: urllib3!=1.25.0,!=1.25.1,<1.26,>=1.21.1 in /usr/local/lib/python3.7/dist-packages (from requests->torchtext) (1.24.3)\n",
            "Requirement already satisfied: idna<3,>=2.5 in /usr/local/lib/python3.7/dist-packages (from requests->torchtext) (2.10)\n"
          ],
          "name": "stdout"
        }
      ]
    },
    {
      "cell_type": "code",
      "metadata": {
        "id": "GG_uHJKxkQAL"
      },
      "source": [
        "! pip install --pre torch==1.8.0 torchtext==0.9.0 -f https://download.pytorch.org/whl/nightly/cu111/torch_nightly.html"
      ],
      "execution_count": null,
      "outputs": []
    },
    {
      "cell_type": "code",
      "metadata": {
        "id": "vVDRcedWoDX4"
      },
      "source": [
        "! python -m spacy download en_core_web_sm"
      ],
      "execution_count": null,
      "outputs": []
    },
    {
      "cell_type": "markdown",
      "metadata": {
        "id": "WyfQ2yHkW-dK"
      },
      "source": [
        "NOTE: Torchtext 0.9.0 and TorchText Nightly are the two version of torchtext working for this notebook"
      ]
    },
    {
      "cell_type": "code",
      "metadata": {
        "id": "NvairrPsUS0M"
      },
      "source": [
        "import colorlog\n",
        "\n",
        "logger = colorlog.getLogger()\n",
        "logger.setLevel(colorlog.colorlog.logging.DEBUG)\n",
        "\n",
        "handler = colorlog.StreamHandler()\n",
        "handler.setFormatter(\n",
        "    colorlog.ColoredFormatter(\n",
        "        '%(log_color)s [%(asctime)s] %(levelname)s [%(filename)s.%(funcName)s:%(lineno)d] %(message)s', datefmt='%a, %d %b %Y %H:%M:%S',\n",
        "        log_colors={\n",
        "                'DEBUG':    'cyan',\n",
        "                'INFO':     'green',\n",
        "                'WARNING':  'yellow',\n",
        "                'ERROR':    'red',\n",
        "                'CRITICAL': 'red,bg_white',\n",
        "            },\n",
        "        )\n",
        "    )\n",
        "logger.addHandler(handler)"
      ],
      "execution_count": null,
      "outputs": []
    },
    {
      "cell_type": "code",
      "metadata": {
        "colab": {
          "base_uri": "https://localhost:8080/"
        },
        "id": "x6pOYJzWHGTe",
        "outputId": "e448b3a3-e466-41f9-aa37-fb3c2e0577d3"
      },
      "source": [
        "! wget http://qim.fs.quoracdn.net/quora_duplicate_questions.tsv"
      ],
      "execution_count": null,
      "outputs": [
        {
          "output_type": "stream",
          "text": [
            "--2021-06-22 15:10:02--  http://qim.fs.quoracdn.net/quora_duplicate_questions.tsv\n",
            "Resolving qim.fs.quoracdn.net (qim.fs.quoracdn.net)... 151.101.1.2, 151.101.65.2, 151.101.129.2, ...\n",
            "Connecting to qim.fs.quoracdn.net (qim.fs.quoracdn.net)|151.101.1.2|:80... connected.\n",
            "HTTP request sent, awaiting response... 200 OK\n",
            "Length: 58176133 (55M) [text/tab-separated-values]\n",
            "Saving to: ‘quora_duplicate_questions.tsv.1’\n",
            "\n",
            "quora_duplicate_que 100%[===================>]  55.48M   117MB/s    in 0.5s    \n",
            "\n",
            "2021-06-22 15:10:03 (117 MB/s) - ‘quora_duplicate_questions.tsv.1’ saved [58176133/58176133]\n",
            "\n"
          ],
          "name": "stdout"
        }
      ]
    },
    {
      "cell_type": "code",
      "metadata": {
        "id": "0LO0HhImHT_V"
      },
      "source": [
        "import pandas as pd"
      ],
      "execution_count": null,
      "outputs": []
    },
    {
      "cell_type": "code",
      "metadata": {
        "colab": {
          "base_uri": "https://localhost:8080/"
        },
        "id": "yeNxq_YBH1sO",
        "outputId": "53bfc42e-ecd5-4cf4-b1d7-9d3e3facfff1"
      },
      "source": [
        "! cat quora_duplicate_questions.tsv | head"
      ],
      "execution_count": null,
      "outputs": [
        {
          "output_type": "stream",
          "text": [
            "id\tqid1\tqid2\tquestion1\tquestion2\tis_duplicate\n",
            "0\t1\t2\tWhat is the step by step guide to invest in share market in india?\tWhat is the step by step guide to invest in share market?\t0\n",
            "1\t3\t4\tWhat is the story of Kohinoor (Koh-i-Noor) Diamond?\tWhat would happen if the Indian government stole the Kohinoor (Koh-i-Noor) diamond back?\t0\n",
            "2\t5\t6\tHow can I increase the speed of my internet connection while using a VPN?\tHow can Internet speed be increased by hacking through DNS?\t0\n",
            "3\t7\t8\tWhy am I mentally very lonely? How can I solve it?\tFind the remainder when [math]23^{24}[/math] is divided by 24,23?\t0\n",
            "4\t9\t10\tWhich one dissolve in water quikly sugar, salt, methane and carbon di oxide?\tWhich fish would survive in salt water?\t0\n",
            "5\t11\t12\tAstrology: I am a Capricorn Sun Cap moon and cap rising...what does that say about me?\tI'm a triple Capricorn (Sun, Moon and ascendant in Capricorn) What does this say about me?\t1\n",
            "6\t13\t14\tShould I buy tiago?\tWhat keeps childern active and far from phone and video games?\t0\n",
            "7\t15\t16\tHow can I be a good geologist?\tWhat should I do to be a great geologist?\t1\n",
            "8\t17\t18\tWhen do you use シ instead of し?\t\"When do you use \"\"&\"\" instead of \"\"and\"\"?\"\t0\n"
          ],
          "name": "stdout"
        }
      ]
    },
    {
      "cell_type": "code",
      "metadata": {
        "colab": {
          "base_uri": "https://localhost:8080/",
          "height": 417
        },
        "id": "QC18k_LfHv7u",
        "outputId": "4adbcc10-c304-4def-a94b-a70561cacd0e"
      },
      "source": [
        "quora_df = pd.read_csv('quora_duplicate_questions.tsv', sep=\"\\t\")\n",
        "quora_df"
      ],
      "execution_count": null,
      "outputs": [
        {
          "output_type": "execute_result",
          "data": {
            "text/html": [
              "<div>\n",
              "<style scoped>\n",
              "    .dataframe tbody tr th:only-of-type {\n",
              "        vertical-align: middle;\n",
              "    }\n",
              "\n",
              "    .dataframe tbody tr th {\n",
              "        vertical-align: top;\n",
              "    }\n",
              "\n",
              "    .dataframe thead th {\n",
              "        text-align: right;\n",
              "    }\n",
              "</style>\n",
              "<table border=\"1\" class=\"dataframe\">\n",
              "  <thead>\n",
              "    <tr style=\"text-align: right;\">\n",
              "      <th></th>\n",
              "      <th>id</th>\n",
              "      <th>qid1</th>\n",
              "      <th>qid2</th>\n",
              "      <th>question1</th>\n",
              "      <th>question2</th>\n",
              "      <th>is_duplicate</th>\n",
              "    </tr>\n",
              "  </thead>\n",
              "  <tbody>\n",
              "    <tr>\n",
              "      <th>0</th>\n",
              "      <td>0</td>\n",
              "      <td>1</td>\n",
              "      <td>2</td>\n",
              "      <td>What is the step by step guide to invest in sh...</td>\n",
              "      <td>What is the step by step guide to invest in sh...</td>\n",
              "      <td>0</td>\n",
              "    </tr>\n",
              "    <tr>\n",
              "      <th>1</th>\n",
              "      <td>1</td>\n",
              "      <td>3</td>\n",
              "      <td>4</td>\n",
              "      <td>What is the story of Kohinoor (Koh-i-Noor) Dia...</td>\n",
              "      <td>What would happen if the Indian government sto...</td>\n",
              "      <td>0</td>\n",
              "    </tr>\n",
              "    <tr>\n",
              "      <th>2</th>\n",
              "      <td>2</td>\n",
              "      <td>5</td>\n",
              "      <td>6</td>\n",
              "      <td>How can I increase the speed of my internet co...</td>\n",
              "      <td>How can Internet speed be increased by hacking...</td>\n",
              "      <td>0</td>\n",
              "    </tr>\n",
              "    <tr>\n",
              "      <th>3</th>\n",
              "      <td>3</td>\n",
              "      <td>7</td>\n",
              "      <td>8</td>\n",
              "      <td>Why am I mentally very lonely? How can I solve...</td>\n",
              "      <td>Find the remainder when [math]23^{24}[/math] i...</td>\n",
              "      <td>0</td>\n",
              "    </tr>\n",
              "    <tr>\n",
              "      <th>4</th>\n",
              "      <td>4</td>\n",
              "      <td>9</td>\n",
              "      <td>10</td>\n",
              "      <td>Which one dissolve in water quikly sugar, salt...</td>\n",
              "      <td>Which fish would survive in salt water?</td>\n",
              "      <td>0</td>\n",
              "    </tr>\n",
              "    <tr>\n",
              "      <th>...</th>\n",
              "      <td>...</td>\n",
              "      <td>...</td>\n",
              "      <td>...</td>\n",
              "      <td>...</td>\n",
              "      <td>...</td>\n",
              "      <td>...</td>\n",
              "    </tr>\n",
              "    <tr>\n",
              "      <th>404285</th>\n",
              "      <td>404285</td>\n",
              "      <td>433578</td>\n",
              "      <td>379845</td>\n",
              "      <td>How many keywords are there in the Racket prog...</td>\n",
              "      <td>How many keywords are there in PERL Programmin...</td>\n",
              "      <td>0</td>\n",
              "    </tr>\n",
              "    <tr>\n",
              "      <th>404286</th>\n",
              "      <td>404286</td>\n",
              "      <td>18840</td>\n",
              "      <td>155606</td>\n",
              "      <td>Do you believe there is life after death?</td>\n",
              "      <td>Is it true that there is life after death?</td>\n",
              "      <td>1</td>\n",
              "    </tr>\n",
              "    <tr>\n",
              "      <th>404287</th>\n",
              "      <td>404287</td>\n",
              "      <td>537928</td>\n",
              "      <td>537929</td>\n",
              "      <td>What is one coin?</td>\n",
              "      <td>What's this coin?</td>\n",
              "      <td>0</td>\n",
              "    </tr>\n",
              "    <tr>\n",
              "      <th>404288</th>\n",
              "      <td>404288</td>\n",
              "      <td>537930</td>\n",
              "      <td>537931</td>\n",
              "      <td>What is the approx annual cost of living while...</td>\n",
              "      <td>I am having little hairfall problem but I want...</td>\n",
              "      <td>0</td>\n",
              "    </tr>\n",
              "    <tr>\n",
              "      <th>404289</th>\n",
              "      <td>404289</td>\n",
              "      <td>537932</td>\n",
              "      <td>537933</td>\n",
              "      <td>What is like to have sex with cousin?</td>\n",
              "      <td>What is it like to have sex with your cousin?</td>\n",
              "      <td>0</td>\n",
              "    </tr>\n",
              "  </tbody>\n",
              "</table>\n",
              "<p>404290 rows × 6 columns</p>\n",
              "</div>"
            ],
            "text/plain": [
              "            id  ...  is_duplicate\n",
              "0            0  ...             0\n",
              "1            1  ...             0\n",
              "2            2  ...             0\n",
              "3            3  ...             0\n",
              "4            4  ...             0\n",
              "...        ...  ...           ...\n",
              "404285  404285  ...             0\n",
              "404286  404286  ...             1\n",
              "404287  404287  ...             0\n",
              "404288  404288  ...             0\n",
              "404289  404289  ...             0\n",
              "\n",
              "[404290 rows x 6 columns]"
            ]
          },
          "metadata": {
            "tags": []
          },
          "execution_count": 8
        }
      ]
    },
    {
      "cell_type": "code",
      "metadata": {
        "id": "GFtfQdvxH7UO",
        "colab": {
          "base_uri": "https://localhost:8080/",
          "height": 417
        },
        "outputId": "069d9842-caa9-4ce6-f8a9-83ffc1df13c2"
      },
      "source": [
        "duplicate_df = quora_df[quora_df['is_duplicate'] == 1]\n",
        "duplicate_df"
      ],
      "execution_count": null,
      "outputs": [
        {
          "output_type": "execute_result",
          "data": {
            "text/html": [
              "<div>\n",
              "<style scoped>\n",
              "    .dataframe tbody tr th:only-of-type {\n",
              "        vertical-align: middle;\n",
              "    }\n",
              "\n",
              "    .dataframe tbody tr th {\n",
              "        vertical-align: top;\n",
              "    }\n",
              "\n",
              "    .dataframe thead th {\n",
              "        text-align: right;\n",
              "    }\n",
              "</style>\n",
              "<table border=\"1\" class=\"dataframe\">\n",
              "  <thead>\n",
              "    <tr style=\"text-align: right;\">\n",
              "      <th></th>\n",
              "      <th>id</th>\n",
              "      <th>qid1</th>\n",
              "      <th>qid2</th>\n",
              "      <th>question1</th>\n",
              "      <th>question2</th>\n",
              "      <th>is_duplicate</th>\n",
              "    </tr>\n",
              "  </thead>\n",
              "  <tbody>\n",
              "    <tr>\n",
              "      <th>5</th>\n",
              "      <td>5</td>\n",
              "      <td>11</td>\n",
              "      <td>12</td>\n",
              "      <td>Astrology: I am a Capricorn Sun Cap moon and c...</td>\n",
              "      <td>I'm a triple Capricorn (Sun, Moon and ascendan...</td>\n",
              "      <td>1</td>\n",
              "    </tr>\n",
              "    <tr>\n",
              "      <th>7</th>\n",
              "      <td>7</td>\n",
              "      <td>15</td>\n",
              "      <td>16</td>\n",
              "      <td>How can I be a good geologist?</td>\n",
              "      <td>What should I do to be a great geologist?</td>\n",
              "      <td>1</td>\n",
              "    </tr>\n",
              "    <tr>\n",
              "      <th>11</th>\n",
              "      <td>11</td>\n",
              "      <td>23</td>\n",
              "      <td>24</td>\n",
              "      <td>How do I read and find my YouTube comments?</td>\n",
              "      <td>How can I see all my Youtube comments?</td>\n",
              "      <td>1</td>\n",
              "    </tr>\n",
              "    <tr>\n",
              "      <th>12</th>\n",
              "      <td>12</td>\n",
              "      <td>25</td>\n",
              "      <td>26</td>\n",
              "      <td>What can make Physics easy to learn?</td>\n",
              "      <td>How can you make physics easy to learn?</td>\n",
              "      <td>1</td>\n",
              "    </tr>\n",
              "    <tr>\n",
              "      <th>13</th>\n",
              "      <td>13</td>\n",
              "      <td>27</td>\n",
              "      <td>28</td>\n",
              "      <td>What was your first sexual experience like?</td>\n",
              "      <td>What was your first sexual experience?</td>\n",
              "      <td>1</td>\n",
              "    </tr>\n",
              "    <tr>\n",
              "      <th>...</th>\n",
              "      <td>...</td>\n",
              "      <td>...</td>\n",
              "      <td>...</td>\n",
              "      <td>...</td>\n",
              "      <td>...</td>\n",
              "      <td>...</td>\n",
              "    </tr>\n",
              "    <tr>\n",
              "      <th>404280</th>\n",
              "      <td>404280</td>\n",
              "      <td>537922</td>\n",
              "      <td>537923</td>\n",
              "      <td>What are some outfit ideas to wear to a frat p...</td>\n",
              "      <td>What are some outfit ideas wear to a frat them...</td>\n",
              "      <td>1</td>\n",
              "    </tr>\n",
              "    <tr>\n",
              "      <th>404281</th>\n",
              "      <td>404281</td>\n",
              "      <td>99131</td>\n",
              "      <td>81495</td>\n",
              "      <td>Why is Manaphy childish in Pokémon Ranger and ...</td>\n",
              "      <td>Why is Manaphy annoying in Pokemon ranger and ...</td>\n",
              "      <td>1</td>\n",
              "    </tr>\n",
              "    <tr>\n",
              "      <th>404282</th>\n",
              "      <td>404282</td>\n",
              "      <td>1931</td>\n",
              "      <td>16773</td>\n",
              "      <td>How does a long distance relationship work?</td>\n",
              "      <td>How are long distance relationships maintained?</td>\n",
              "      <td>1</td>\n",
              "    </tr>\n",
              "    <tr>\n",
              "      <th>404284</th>\n",
              "      <td>404284</td>\n",
              "      <td>537926</td>\n",
              "      <td>537927</td>\n",
              "      <td>What does Jainism say about homosexuality?</td>\n",
              "      <td>What does Jainism say about Gays and Homosexua...</td>\n",
              "      <td>1</td>\n",
              "    </tr>\n",
              "    <tr>\n",
              "      <th>404286</th>\n",
              "      <td>404286</td>\n",
              "      <td>18840</td>\n",
              "      <td>155606</td>\n",
              "      <td>Do you believe there is life after death?</td>\n",
              "      <td>Is it true that there is life after death?</td>\n",
              "      <td>1</td>\n",
              "    </tr>\n",
              "  </tbody>\n",
              "</table>\n",
              "<p>149263 rows × 6 columns</p>\n",
              "</div>"
            ],
            "text/plain": [
              "            id  ...  is_duplicate\n",
              "5            5  ...             1\n",
              "7            7  ...             1\n",
              "11          11  ...             1\n",
              "12          12  ...             1\n",
              "13          13  ...             1\n",
              "...        ...  ...           ...\n",
              "404280  404280  ...             1\n",
              "404281  404281  ...             1\n",
              "404282  404282  ...             1\n",
              "404284  404284  ...             1\n",
              "404286  404286  ...             1\n",
              "\n",
              "[149263 rows x 6 columns]"
            ]
          },
          "metadata": {
            "tags": []
          },
          "execution_count": 10
        }
      ]
    },
    {
      "cell_type": "code",
      "metadata": {
        "id": "bFnKQwEhRfhQ"
      },
      "source": [
        "duplicate_df.to_csv('quora_duplicate_only_questions.csv')"
      ],
      "execution_count": null,
      "outputs": []
    },
    {
      "cell_type": "markdown",
      "metadata": {
        "id": "G4IlC6ZyPsPP"
      },
      "source": [
        "## Quora Similar Questions Dataset"
      ]
    },
    {
      "cell_type": "code",
      "metadata": {
        "id": "Xe76WJFTRypc",
        "colab": {
          "base_uri": "https://localhost:8080/"
        },
        "outputId": "577a6a3c-bd1c-4fb1-c7d2-dd12ab8078cb"
      },
      "source": [
        "! gdown https://drive.google.com/uc?id=1g2YqSPXBWdCU1SjkCb69ENUuoEuxPbLg"
      ],
      "execution_count": null,
      "outputs": [
        {
          "output_type": "stream",
          "text": [
            "Downloading...\n",
            "From: https://drive.google.com/uc?id=1g2YqSPXBWdCU1SjkCb69ENUuoEuxPbLg\n",
            "To: /content/quora_duplicate_only_questions.csv\n",
            "20.4MB [00:00, 74.3MB/s]\n"
          ],
          "name": "stdout"
        }
      ]
    },
    {
      "cell_type": "code",
      "metadata": {
        "id": "n6Asb6CTP2G-"
      },
      "source": [
        "import pandas as pd"
      ],
      "execution_count": null,
      "outputs": []
    },
    {
      "cell_type": "code",
      "metadata": {
        "colab": {
          "base_uri": "https://localhost:8080/",
          "height": 417
        },
        "id": "E53JidQ1P3jz",
        "outputId": "6534408e-edcb-403b-a235-e943baeb8adf"
      },
      "source": [
        "pd.read_csv('/content/quora_duplicate_only_questions.csv', index_col=0)"
      ],
      "execution_count": null,
      "outputs": [
        {
          "output_type": "execute_result",
          "data": {
            "text/html": [
              "<div>\n",
              "<style scoped>\n",
              "    .dataframe tbody tr th:only-of-type {\n",
              "        vertical-align: middle;\n",
              "    }\n",
              "\n",
              "    .dataframe tbody tr th {\n",
              "        vertical-align: top;\n",
              "    }\n",
              "\n",
              "    .dataframe thead th {\n",
              "        text-align: right;\n",
              "    }\n",
              "</style>\n",
              "<table border=\"1\" class=\"dataframe\">\n",
              "  <thead>\n",
              "    <tr style=\"text-align: right;\">\n",
              "      <th></th>\n",
              "      <th>id</th>\n",
              "      <th>qid1</th>\n",
              "      <th>qid2</th>\n",
              "      <th>question1</th>\n",
              "      <th>question2</th>\n",
              "      <th>is_duplicate</th>\n",
              "    </tr>\n",
              "  </thead>\n",
              "  <tbody>\n",
              "    <tr>\n",
              "      <th>5</th>\n",
              "      <td>5</td>\n",
              "      <td>11</td>\n",
              "      <td>12</td>\n",
              "      <td>Astrology: I am a Capricorn Sun Cap moon and c...</td>\n",
              "      <td>I'm a triple Capricorn (Sun, Moon and ascendan...</td>\n",
              "      <td>1</td>\n",
              "    </tr>\n",
              "    <tr>\n",
              "      <th>7</th>\n",
              "      <td>7</td>\n",
              "      <td>15</td>\n",
              "      <td>16</td>\n",
              "      <td>How can I be a good geologist?</td>\n",
              "      <td>What should I do to be a great geologist?</td>\n",
              "      <td>1</td>\n",
              "    </tr>\n",
              "    <tr>\n",
              "      <th>11</th>\n",
              "      <td>11</td>\n",
              "      <td>23</td>\n",
              "      <td>24</td>\n",
              "      <td>How do I read and find my YouTube comments?</td>\n",
              "      <td>How can I see all my Youtube comments?</td>\n",
              "      <td>1</td>\n",
              "    </tr>\n",
              "    <tr>\n",
              "      <th>12</th>\n",
              "      <td>12</td>\n",
              "      <td>25</td>\n",
              "      <td>26</td>\n",
              "      <td>What can make Physics easy to learn?</td>\n",
              "      <td>How can you make physics easy to learn?</td>\n",
              "      <td>1</td>\n",
              "    </tr>\n",
              "    <tr>\n",
              "      <th>13</th>\n",
              "      <td>13</td>\n",
              "      <td>27</td>\n",
              "      <td>28</td>\n",
              "      <td>What was your first sexual experience like?</td>\n",
              "      <td>What was your first sexual experience?</td>\n",
              "      <td>1</td>\n",
              "    </tr>\n",
              "    <tr>\n",
              "      <th>...</th>\n",
              "      <td>...</td>\n",
              "      <td>...</td>\n",
              "      <td>...</td>\n",
              "      <td>...</td>\n",
              "      <td>...</td>\n",
              "      <td>...</td>\n",
              "    </tr>\n",
              "    <tr>\n",
              "      <th>404280</th>\n",
              "      <td>404280</td>\n",
              "      <td>537922</td>\n",
              "      <td>537923</td>\n",
              "      <td>What are some outfit ideas to wear to a frat p...</td>\n",
              "      <td>What are some outfit ideas wear to a frat them...</td>\n",
              "      <td>1</td>\n",
              "    </tr>\n",
              "    <tr>\n",
              "      <th>404281</th>\n",
              "      <td>404281</td>\n",
              "      <td>99131</td>\n",
              "      <td>81495</td>\n",
              "      <td>Why is Manaphy childish in Pokémon Ranger and ...</td>\n",
              "      <td>Why is Manaphy annoying in Pokemon ranger and ...</td>\n",
              "      <td>1</td>\n",
              "    </tr>\n",
              "    <tr>\n",
              "      <th>404282</th>\n",
              "      <td>404282</td>\n",
              "      <td>1931</td>\n",
              "      <td>16773</td>\n",
              "      <td>How does a long distance relationship work?</td>\n",
              "      <td>How are long distance relationships maintained?</td>\n",
              "      <td>1</td>\n",
              "    </tr>\n",
              "    <tr>\n",
              "      <th>404284</th>\n",
              "      <td>404284</td>\n",
              "      <td>537926</td>\n",
              "      <td>537927</td>\n",
              "      <td>What does Jainism say about homosexuality?</td>\n",
              "      <td>What does Jainism say about Gays and Homosexua...</td>\n",
              "      <td>1</td>\n",
              "    </tr>\n",
              "    <tr>\n",
              "      <th>404286</th>\n",
              "      <td>404286</td>\n",
              "      <td>18840</td>\n",
              "      <td>155606</td>\n",
              "      <td>Do you believe there is life after death?</td>\n",
              "      <td>Is it true that there is life after death?</td>\n",
              "      <td>1</td>\n",
              "    </tr>\n",
              "  </tbody>\n",
              "</table>\n",
              "<p>149263 rows × 6 columns</p>\n",
              "</div>"
            ],
            "text/plain": [
              "            id  ...  is_duplicate\n",
              "5            5  ...             1\n",
              "7            7  ...             1\n",
              "11          11  ...             1\n",
              "12          12  ...             1\n",
              "13          13  ...             1\n",
              "...        ...  ...           ...\n",
              "404280  404280  ...             1\n",
              "404281  404281  ...             1\n",
              "404282  404282  ...             1\n",
              "404284  404284  ...             1\n",
              "404286  404286  ...             1\n",
              "\n",
              "[149263 rows x 6 columns]"
            ]
          },
          "metadata": {
            "tags": []
          },
          "execution_count": 4
        }
      ]
    },
    {
      "cell_type": "code",
      "metadata": {
        "id": "eUa9Sew3QQSQ"
      },
      "source": [
        "import torch\n",
        "import torchtext\n",
        "import gdown\n",
        "\n",
        "import pytorch_lightning as pl\n",
        "\n",
        "from torch.utils.data import Dataset, DataLoader, random_split\n",
        "\n",
        "from torchtext.data.utils import get_tokenizer\n",
        "# from torchtext.vocab import build_vocab_from_iterator\n",
        "\n",
        "import torchtext.experimental.functional as text_f\n",
        "\n",
        "from sklearn.model_selection import train_test_split\n",
        "\n",
        "from pathlib import Path\n",
        "from functools import partial\n",
        "from tqdm.auto import tqdm\n",
        "\n",
        "from collections import Counter\n",
        "from torchtext.vocab import Vocab\n",
        "\n",
        "import pandas as pd\n",
        "\n",
        "from typing import *"
      ],
      "execution_count": null,
      "outputs": []
    },
    {
      "cell_type": "code",
      "metadata": {
        "id": "WmXEPktyww3y"
      },
      "source": [
        "def build_vocab_from_iterator(iterator, num_lines=None, *args, **kwargs):\n",
        "    \"\"\"\n",
        "    Build a Vocab from an iterator.\n",
        "\n",
        "    Args:\n",
        "        iterator: Iterator used to build Vocab. Must yield list or iterator of tokens.\n",
        "        num_lines: The expected number of elements returned by the iterator.\n",
        "            (Default: None)\n",
        "            Optionally, if known, the expected number of elements can be passed to\n",
        "            this factory function for improved progress reporting.\n",
        "    \"\"\"\n",
        "\n",
        "    counter = Counter()\n",
        "    with tqdm(unit_scale=0, unit='lines', total=num_lines) as t:\n",
        "        for tokens in iterator:\n",
        "            counter.update(tokens)\n",
        "            t.update(1)\n",
        "    word_vocab = Vocab(counter, *args, **kwargs)\n",
        "    return word_vocab"
      ],
      "execution_count": null,
      "outputs": []
    },
    {
      "cell_type": "code",
      "metadata": {
        "id": "CJmZggvGTEPL"
      },
      "source": [
        "class QuoraSQDataset(Dataset):\n",
        "    \"\"\"\n",
        "    Quora Similar Questions Dataset\n",
        "    \"\"\"\n",
        "\n",
        "    URL = 'https://drive.google.com/uc?id=1g2YqSPXBWdCU1SjkCb69ENUuoEuxPbLg'\n",
        "    OUTPUT = 'quora_duplicate_only_questions.csv'\n",
        " \n",
        "\n",
        "    def __init__(self, root, split='train', vocab=None, vectors=None, text_transforms=None, label_transforms=None, ngrams=1):\n",
        "        \"\"\"Initiate dataset.\n",
        "        Args:\n",
        "            vocab: Vocabulary object used for dataset.\n",
        "        \"\"\"\n",
        "\n",
        "        super(self.__class__, self).__init__()\n",
        "\n",
        "        if vectors:\n",
        "            raise NotImplementedError(f'vectors not supported for this dataset as of now') \n",
        "\n",
        "        if split not in ['train', 'test']:\n",
        "            raise ValueError(f'split must be either \"train\" or \"test\" unknown split {split}')\n",
        "\n",
        "        if vocab and vectors:\n",
        "            raise ValueError(f'both vocab and vectors cannot be provided')\n",
        "\n",
        "        self.vocab = vocab\n",
        "        self.vectors = vectors\n",
        "\n",
        "        gdown.cached_download(self.URL, Path(root) / self.OUTPUT)\n",
        "\n",
        "        self.generate_tweet_dataset(Path(root) / self.OUTPUT)\n",
        "\n",
        "        self.train_dset, self.test_dset = train_test_split(self.full_dataset_, test_size=0.3, random_state=42)\n",
        "\n",
        "        if split == 'train':\n",
        "            self.dataset = self.train_dset\n",
        "        elif split == 'test':\n",
        "            self.dataset = self.test_dset\n",
        "        else:\n",
        "            raise ValueError(\"What did you do? you stupid potato?\")\n",
        "\n",
        "        # create the tokenizer, here we use spacy\n",
        "        tokenizer = get_tokenizer(\"spacy\", language=\"en_core_web_sm\")\n",
        "        self.tokenizer = tokenizer\n",
        "\n",
        "        # the text transform can only work at the sentence level\n",
        "        # the rest of tokenization and vocab is done by this class\n",
        "        self.text_transform = text_f.sequential_transforms(tokenizer, text_f.ngrams_func(ngrams))\n",
        "\n",
        "        self.vocab_transforms = text_f.sequential_transforms()\n",
        "        self.vector_transforms = text_f.sequential_transforms()\n",
        "\n",
        "        def build_vocab(data, transforms):\n",
        "            def apply_transforms(data):\n",
        "                for line in data:\n",
        "                    yield transforms(line)\n",
        "            return build_vocab_from_iterator(apply_transforms(data), len(data), specials=['<unk>', '<pad>', '<bos>', '<eos>'])\n",
        "\n",
        "        if self.vectors:\n",
        "            self.vector_transforms = text_f.sequential_transforms(\n",
        "                partial(vectors.get_vecs_by_tokens, lower_case_backup=True)\n",
        "            )\n",
        "        elif self.vocab is None:\n",
        "            self.vocab = build_vocab(\n",
        "                pd.concat([self.train_dset['question1'], self.train_dset['question2']]),\n",
        "                self.text_transform\n",
        "            )\n",
        "            self.PAD_IDX = self.vocab['<pad>']\n",
        "            self.BOS_IDX = self.vocab['<bos>']\n",
        "            self.EOS_IDX = self.vocab['<eos>']\n",
        "\n",
        "    \n",
        "        # if the user is using vocab, instead of vector\n",
        "        if self.vocab:\n",
        "            self.vocab_transforms = text_f.sequential_transforms(\n",
        "                text_f.vocab_func(self.vocab), text_f.totensor(dtype=torch.long)\n",
        "            )\n",
        "\n",
        "        # label transform is similar to text_transform for this dataset except this does not have vectors\n",
        "        self.label_transform = text_f.sequential_transforms(\n",
        "            self.text_transform, self.vocab_transforms\n",
        "        )\n",
        "\n",
        "        if text_transforms is not None:\n",
        "            self.text_transform = text_f.sequential_transforms(\n",
        "                self.text_transform, text_transforms, self.vocab_transforms, self.vector_transforms \n",
        "            )\n",
        "        else:\n",
        "            self.text_transform = text_f.sequential_transforms(\n",
        "                self.text_transform, self.vocab_transforms, self.vector_transforms\n",
        "            )\n",
        "        \n",
        "\n",
        "    def generate_tweet_dataset(self, dataset_file):\n",
        "        self.full_dataset_ = pd.read_csv(dataset_file)\n",
        "\n",
        "    def __getitem__(self, idx):\n",
        "        text = self.text_transform(self.dataset['question1'].iloc[idx])\n",
        "        label = self.label_transform(self.dataset['question2'].iloc[idx])\n",
        "        return label, text\n",
        "\n",
        "    def __len__(self):\n",
        "        return len(self.dataset)\n",
        "\n",
        "    def get_vocab(self):\n",
        "        return self.vocab\n",
        "\n",
        "    def get_vectors(self):\n",
        "        return self.vectors\n",
        "\n",
        "    def batch_sampler_fn(self):\n",
        "        raise NotImplementedError(f'batch_sampler function WIP')\n",
        "\n",
        "        def batch_sampler():\n",
        "            indices = [(i, len(self.tokenizer(s[1]))) for i, s in enumerate(train_list)]\n",
        "            random.shuffle(indices)\n",
        "            pooled_indices = []\n",
        "            # create pool of indices with similar lengths \n",
        "            for i in range(0, len(indices), batch_size * 100):\n",
        "                pooled_indices.extend(sorted(indices[i:i + batch_size * 100], key=lambda x: x[1]))\n",
        "\n",
        "            pooled_indices = [x[0] for x in pooled_indices]\n",
        "\n",
        "            # yield indices for current batch\n",
        "            for i in range(0, len(pooled_indices), batch_size):\n",
        "                yield pooled_indices[i:i + batch_size]\n",
        "        return batch_sampler()\n",
        "\n",
        "\n",
        "    def collator_fn(self):\n",
        "        def collate_fn(batch):\n",
        "            \n",
        "            targets, sequences = zip(*batch)\n",
        "\n",
        "            lengths = torch.LongTensor([len(sequence) for sequence in sequences])\n",
        "\n",
        "            targets = [torch.cat([torch.tensor([self.BOS_IDX]), item, torch.tensor([self.EOS_IDX])]) for item in targets]\n",
        "            sequences = [torch.cat([torch.tensor([self.BOS_IDX]), item, torch.tensor([self.EOS_IDX])]) for item in sequences]\n",
        "\n",
        "            if not self.vectors:\n",
        "                pad_idx = self.PAD_IDX\n",
        "                sequences = torch.nn.utils.rnn.pad_sequence(sequences, \n",
        "                                                            padding_value = pad_idx,\n",
        "                                                            batch_first=True\n",
        "                                                            )\n",
        "                targets = torch.nn.utils.rnn.pad_sequence(targets, \n",
        "                                            padding_value = pad_idx,\n",
        "                                            batch_first=True\n",
        "                                            )\n",
        "            \n",
        "            return targets, sequences, lengths\n",
        "        \n",
        "        return collate_fn"
      ],
      "execution_count": null,
      "outputs": []
    },
    {
      "cell_type": "code",
      "metadata": {
        "colab": {
          "base_uri": "https://localhost:8080/",
          "height": 82,
          "referenced_widgets": [
            "bc40e9347b7f4d7188c0c6fb7c4e9125",
            "fcdde50b367c48bdbf1392f9eaec2d30",
            "ec69465d12e141b686d1f548888521dc",
            "17574d7d4c464f5980a85c451c238955",
            "caa2409a5b6340adb0ae81db86eba1b6",
            "98bf40c2e53e4d339c8078320c3d6ef5",
            "4a0102633a0a4d94a752cc9537b962aa",
            "9de34de8b7b94f8090f85c22f607af7d"
          ]
        },
        "id": "1GB8q7-Znpwx",
        "outputId": "c8ba7620-6238-4e54-9b7b-f9ddfd9a8c45"
      },
      "source": [
        "dataset = QuoraSQDataset(root='.', split='train')"
      ],
      "execution_count": null,
      "outputs": [
        {
          "output_type": "stream",
          "text": [
            "File exists: quora_duplicate_only_questions.csv\n"
          ],
          "name": "stdout"
        },
        {
          "output_type": "display_data",
          "data": {
            "application/vnd.jupyter.widget-view+json": {
              "model_id": "bc40e9347b7f4d7188c0c6fb7c4e9125",
              "version_minor": 0,
              "version_major": 2
            },
            "text/plain": [
              "HBox(children=(FloatProgress(value=0.0, max=208968.0), HTML(value='')))"
            ]
          },
          "metadata": {
            "tags": []
          }
        },
        {
          "output_type": "stream",
          "text": [
            "\n"
          ],
          "name": "stdout"
        }
      ]
    },
    {
      "cell_type": "code",
      "metadata": {
        "colab": {
          "base_uri": "https://localhost:8080/"
        },
        "id": "E_xxtYjRnyHg",
        "outputId": "45bd0e32-3520-4592-bd7e-aa8b7ddbd426"
      },
      "source": [
        "dataset[0]"
      ],
      "execution_count": null,
      "outputs": [
        {
          "output_type": "execute_result",
          "data": {
            "text/plain": [
              "(tensor([ 467,   29,  296,  231, 1924, 1597,   23,   18,    4,   83,   79,   25,\n",
              "           73,   68,   18,  396,    4]),\n",
              " tensor([   7,   32,   29,  231,  477, 1597,   23,   18,    4]))"
            ]
          },
          "metadata": {
            "tags": []
          },
          "execution_count": 58
        }
      ]
    },
    {
      "cell_type": "code",
      "metadata": {
        "id": "R-p57vusot_I"
      },
      "source": [
        "loader = DataLoader(\n",
        "            dataset,\n",
        "            batch_size=16,\n",
        "            shuffle=False,\n",
        "            num_workers=2,\n",
        "            pin_memory=True,\n",
        "            collate_fn=dataset.collator_fn()\n",
        "        )"
      ],
      "execution_count": null,
      "outputs": []
    },
    {
      "cell_type": "code",
      "metadata": {
        "id": "rRhZhV_do0lQ"
      },
      "source": [
        "targets, sequences, lengths = next(iter(loader))"
      ],
      "execution_count": null,
      "outputs": []
    },
    {
      "cell_type": "code",
      "metadata": {
        "colab": {
          "base_uri": "https://localhost:8080/"
        },
        "id": "A-F0XuNVqEhn",
        "outputId": "3343d0ac-25ea-49e1-ae98-0b0d2d45940c"
      },
      "source": [
        "targets.shape, sequences.shape, len(lengths)"
      ],
      "execution_count": null,
      "outputs": [
        {
          "output_type": "execute_result",
          "data": {
            "text/plain": [
              "(torch.Size([16, 35]), torch.Size([16, 35]), 16)"
            ]
          },
          "metadata": {
            "tags": []
          },
          "execution_count": 61
        }
      ]
    },
    {
      "cell_type": "code",
      "metadata": {
        "colab": {
          "base_uri": "https://localhost:8080/",
          "height": 52
        },
        "id": "RChRUcteqaam",
        "outputId": "f9ed0878-0848-40ea-da7f-410224895434"
      },
      "source": [
        "' '.join(dataset.get_vocab().itos[x] for x in sequences[0])"
      ],
      "execution_count": null,
      "outputs": [
        {
          "output_type": "execute_result",
          "data": {
            "application/vnd.google.colaboratory.intrinsic+json": {
              "type": "string"
            },
            "text/plain": [
              "'<bos> How does your mind play tricks on you ? <eos> <pad> <pad> <pad> <pad> <pad> <pad> <pad> <pad> <pad> <pad> <pad> <pad> <pad> <pad> <pad> <pad> <pad> <pad> <pad> <pad> <pad> <pad> <pad> <pad>'"
            ]
          },
          "metadata": {
            "tags": []
          },
          "execution_count": 62
        }
      ]
    },
    {
      "cell_type": "code",
      "metadata": {
        "colab": {
          "base_uri": "https://localhost:8080/",
          "height": 52
        },
        "id": "h3ZcZ325qJJA",
        "outputId": "e80584e3-d34c-47cb-9070-8e869844af67"
      },
      "source": [
        "' '.join(dataset.get_vocab().itos[x] for x in targets[0])"
      ],
      "execution_count": null,
      "outputs": [
        {
          "output_type": "execute_result",
          "data": {
            "application/vnd.google.colaboratory.intrinsic+json": {
              "type": "string"
            },
            "text/plain": [
              "'<bos> Has your own mind played tricks on you ? If so , what did you experience ? <eos> <pad> <pad> <pad> <pad> <pad> <pad> <pad> <pad> <pad> <pad> <pad> <pad> <pad> <pad> <pad> <pad>'"
            ]
          },
          "metadata": {
            "tags": []
          },
          "execution_count": 63
        }
      ]
    },
    {
      "cell_type": "code",
      "metadata": {
        "id": "vOjsDTBNZFgv"
      },
      "source": [
        "class QuoraSQDataModule(pl.LightningDataModule):\n",
        "    \"\"\"\n",
        "    DataModule for Quora Similar Questions, train, val, test splits and transforms\n",
        "    \"\"\"\n",
        "\n",
        "    name = \"quora similar questions\"\n",
        "\n",
        "    def __init__(\n",
        "        self,\n",
        "        data_dir: str = '.',\n",
        "        num_workers: int = 2,\n",
        "        batch_size: int = 128,\n",
        "        *args,\n",
        "        **kwargs,\n",
        "    ):\n",
        "        \"\"\"\n",
        "        Args:\n",
        "            data_dir: where to save/load the data\n",
        "            val_split: how many of the training images to use for the validation split\n",
        "            num_workers: how many workers to use for loading data\n",
        "            normalize: If true applies image normalize\n",
        "            batch_size: desired batch size.\n",
        "        \"\"\"\n",
        "        super().__init__(*args, **kwargs)\n",
        "\n",
        "        self.data_dir = data_dir\n",
        "        self.num_workers = num_workers\n",
        "        self.batch_size = batch_size\n",
        "\n",
        "        self.dataset_train = ...\n",
        "        self.dataset_val = ...\n",
        "        self.dataset_test = ...\n",
        "        self.vectors = ...\n",
        "\n",
        "        self.Dataset = QuoraSQDataset\n",
        "\n",
        "    def prepare_data(self):\n",
        "        \"\"\"Saves IMDB files to `data_dir`\"\"\"\n",
        "        self.Dataset(self.data_dir)\n",
        "\n",
        "    def setup(self, stage: Optional[str] = None):\n",
        "        \"\"\"Split the train and valid dataset\"\"\"\n",
        "\n",
        "        self.dataset_train = self.Dataset(self.data_dir, split='train')\n",
        "        self.dataset_test = self.Dataset(self.data_dir, split='test')\n",
        "\n",
        "    def train_dataloader(self):\n",
        "        loader = DataLoader(\n",
        "            self.dataset_train,\n",
        "            batch_size=self.batch_size,\n",
        "            shuffle=True,\n",
        "            num_workers=self.num_workers,\n",
        "            pin_memory=True,\n",
        "            collate_fn=self.collator_fn\n",
        "        )\n",
        "        return loader\n",
        "\n",
        "    def val_dataloader(self):\n",
        "        loader = DataLoader(\n",
        "            self.dataset_test,\n",
        "            batch_size=self.batch_size,\n",
        "            shuffle=False,\n",
        "            num_workers=self.num_workers,\n",
        "            pin_memory=True,\n",
        "            collate_fn=self.collator_fn\n",
        "        )\n",
        "        return loader\n",
        "\n",
        "    def test_dataloader(self):\n",
        "        loader = DataLoader(\n",
        "            self.dataset_test,\n",
        "            batch_size=self.batch_size,\n",
        "            shuffle=False,\n",
        "            num_workers=self.num_workers,\n",
        "            pin_memory=True,\n",
        "            collate_fn=self.collator_fn\n",
        "        )\n",
        "        return loader\n",
        "\n",
        "    def get_vocab(self):\n",
        "        return self.dataset_train.get_vocab()\n",
        "    \n",
        "    def get_vectors(self):\n",
        "        return self.dataset_train.get_vectors()\n",
        "\n",
        "    @property\n",
        "    def default_transforms(self):\n",
        "        raise NotImplementedError(f'default_transforms not implemented')\n",
        "        train_transforms = {\n",
        "            'text_transforms': text_f.sequential_transforms(\n",
        "                random_deletion,\n",
        "                random_swap\n",
        "            ),\n",
        "            'label_transforms': None\n",
        "        }\n",
        "        test_transforms = {\n",
        "            'text_transforms': None,\n",
        "            'label_transforms': None\n",
        "        }\n",
        "\n",
        "        return train_transforms, test_transforms\n",
        "\n",
        "    @property\n",
        "    def collator_fn(self):\n",
        "        return self.dataset_train.collator_fn()"
      ],
      "execution_count": null,
      "outputs": []
    },
    {
      "cell_type": "code",
      "metadata": {
        "colab": {
          "base_uri": "https://localhost:8080/",
          "height": 148,
          "referenced_widgets": [
            "b9a85661c1464ee982ead3511037c001",
            "ac5a88b93e444977b65b8c9b6b01b294",
            "5bfdabbb530449559533fb392a6f92ba",
            "bcd7737fff974ffd84bc8053a6faec88",
            "ef76b4623cdb414198bb35653f3297e5",
            "49efb512369740979858e20d8b96ba27",
            "aac99eb9b5744ea9bb416609f1b70899",
            "e743ddc34c234701a4bd7e5160fb952e",
            "df78e928ea5440149113ad990b0f599d",
            "d709c36ec10140af913f327a5252202b",
            "8e01fe2494ff4b2eb6fa6c6ff97ef5c0",
            "ae7219daff814cd888c36139210e081a",
            "2c108b674e4142eba4776f99c06a1444",
            "d80bbfb4fdf94adeba82752617246d10",
            "315eba276e4c4f3db0b4e665291214c9",
            "8cf27f93cc0b4f789b174690c6025296"
          ]
        },
        "id": "W2EyN8nHsAWx",
        "outputId": "83ebf9e8-79c4-4957-86a0-7064096757e4"
      },
      "source": [
        "datamodule = QuoraSQDataModule(batch_size=16)\n",
        "datamodule.setup()"
      ],
      "execution_count": null,
      "outputs": [
        {
          "output_type": "stream",
          "text": [
            "File exists: quora_duplicate_only_questions.csv\n"
          ],
          "name": "stdout"
        },
        {
          "output_type": "display_data",
          "data": {
            "application/vnd.jupyter.widget-view+json": {
              "model_id": "b9a85661c1464ee982ead3511037c001",
              "version_minor": 0,
              "version_major": 2
            },
            "text/plain": [
              "HBox(children=(FloatProgress(value=0.0, max=208968.0), HTML(value='')))"
            ]
          },
          "metadata": {
            "tags": []
          }
        },
        {
          "output_type": "stream",
          "text": [
            "\n",
            "File exists: quora_duplicate_only_questions.csv\n"
          ],
          "name": "stdout"
        },
        {
          "output_type": "display_data",
          "data": {
            "application/vnd.jupyter.widget-view+json": {
              "model_id": "df78e928ea5440149113ad990b0f599d",
              "version_minor": 0,
              "version_major": 2
            },
            "text/plain": [
              "HBox(children=(FloatProgress(value=0.0, max=208968.0), HTML(value='')))"
            ]
          },
          "metadata": {
            "tags": []
          }
        },
        {
          "output_type": "stream",
          "text": [
            "\n"
          ],
          "name": "stdout"
        }
      ]
    },
    {
      "cell_type": "code",
      "metadata": {
        "id": "SpqyaWmssFEJ"
      },
      "source": [
        "train_loader = datamodule.train_dataloader()\n",
        "val_loader = datamodule.val_dataloader()\n",
        "test_loader = datamodule.test_dataloader()"
      ],
      "execution_count": null,
      "outputs": []
    },
    {
      "cell_type": "code",
      "metadata": {
        "colab": {
          "base_uri": "https://localhost:8080/"
        },
        "id": "RR3d2Pp5sO5d",
        "outputId": "0f4d05a9-e528-4ad8-eaa3-13fcb76e68e2"
      },
      "source": [
        "len(train_loader), len(val_loader), len(test_loader)"
      ],
      "execution_count": null,
      "outputs": [
        {
          "output_type": "execute_result",
          "data": {
            "text/plain": [
              "(6531, 2799, 2799)"
            ]
          },
          "metadata": {
            "tags": []
          },
          "execution_count": 67
        }
      ]
    },
    {
      "cell_type": "code",
      "metadata": {
        "id": "29UcZD6WsQaW"
      },
      "source": [
        "a, b, c = next(iter(train_loader))"
      ],
      "execution_count": null,
      "outputs": []
    },
    {
      "cell_type": "code",
      "metadata": {
        "colab": {
          "base_uri": "https://localhost:8080/"
        },
        "id": "Vv-ylshKsURu",
        "outputId": "8b933444-602f-49df-b42e-1e1109d134bf"
      },
      "source": [
        "a.shape, b.shape, len(c)"
      ],
      "execution_count": null,
      "outputs": [
        {
          "output_type": "execute_result",
          "data": {
            "text/plain": [
              "(torch.Size([16, 26]), torch.Size([16, 23]), 16)"
            ]
          },
          "metadata": {
            "tags": []
          },
          "execution_count": 69
        }
      ]
    },
    {
      "cell_type": "code",
      "metadata": {
        "id": "Tp0AQ3eRsV0I"
      },
      "source": [
        ""
      ],
      "execution_count": null,
      "outputs": []
    }
  ]
}