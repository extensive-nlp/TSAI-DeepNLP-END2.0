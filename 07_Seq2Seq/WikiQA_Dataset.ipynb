{
  "nbformat": 4,
  "nbformat_minor": 0,
  "metadata": {
    "colab": {
      "name": "WikiQA-Dataset.ipynb",
      "provenance": [],
      "collapsed_sections": [],
      "authorship_tag": "ABX9TyO17afm4DrglAqgz6jm3cPa",
      "include_colab_link": true
    },
    "kernelspec": {
      "name": "python3",
      "display_name": "Python 3"
    },
    "language_info": {
      "name": "python"
    },
    "widgets": {
      "application/vnd.jupyter.widget-state+json": {
        "8ba4a125cfd94df5b106972c987d854e": {
          "model_module": "@jupyter-widgets/controls",
          "model_name": "HBoxModel",
          "state": {
            "_view_name": "HBoxView",
            "_dom_classes": [],
            "_model_name": "HBoxModel",
            "_view_module": "@jupyter-widgets/controls",
            "_model_module_version": "1.5.0",
            "_view_count": null,
            "_view_module_version": "1.5.0",
            "box_style": "",
            "layout": "IPY_MODEL_2865d643c95c4059a165c3fa822364b7",
            "_model_module": "@jupyter-widgets/controls",
            "children": [
              "IPY_MODEL_be4ff395daef47abb618100318b869df",
              "IPY_MODEL_3101c2e421224987b40625a603a0d99a"
            ]
          }
        },
        "2865d643c95c4059a165c3fa822364b7": {
          "model_module": "@jupyter-widgets/base",
          "model_name": "LayoutModel",
          "state": {
            "_view_name": "LayoutView",
            "grid_template_rows": null,
            "right": null,
            "justify_content": null,
            "_view_module": "@jupyter-widgets/base",
            "overflow": null,
            "_model_module_version": "1.2.0",
            "_view_count": null,
            "flex_flow": null,
            "width": null,
            "min_width": null,
            "border": null,
            "align_items": null,
            "bottom": null,
            "_model_module": "@jupyter-widgets/base",
            "top": null,
            "grid_column": null,
            "overflow_y": null,
            "overflow_x": null,
            "grid_auto_flow": null,
            "grid_area": null,
            "grid_template_columns": null,
            "flex": null,
            "_model_name": "LayoutModel",
            "justify_items": null,
            "grid_row": null,
            "max_height": null,
            "align_content": null,
            "visibility": null,
            "align_self": null,
            "height": null,
            "min_height": null,
            "padding": null,
            "grid_auto_rows": null,
            "grid_gap": null,
            "max_width": null,
            "order": null,
            "_view_module_version": "1.2.0",
            "grid_template_areas": null,
            "object_position": null,
            "object_fit": null,
            "grid_auto_columns": null,
            "margin": null,
            "display": null,
            "left": null
          }
        },
        "be4ff395daef47abb618100318b869df": {
          "model_module": "@jupyter-widgets/controls",
          "model_name": "FloatProgressModel",
          "state": {
            "_view_name": "ProgressView",
            "style": "IPY_MODEL_a4b2577328d94ca3b08617ba0953069e",
            "_dom_classes": [],
            "description": "100%",
            "_model_name": "FloatProgressModel",
            "bar_style": "success",
            "max": 4790,
            "_view_module": "@jupyter-widgets/controls",
            "_model_module_version": "1.5.0",
            "value": 4790,
            "_view_count": null,
            "_view_module_version": "1.5.0",
            "orientation": "horizontal",
            "min": 0,
            "description_tooltip": null,
            "_model_module": "@jupyter-widgets/controls",
            "layout": "IPY_MODEL_8293ecc9e0e84e2184fefd873d4a0482"
          }
        },
        "3101c2e421224987b40625a603a0d99a": {
          "model_module": "@jupyter-widgets/controls",
          "model_name": "HTMLModel",
          "state": {
            "_view_name": "HTMLView",
            "style": "IPY_MODEL_f96d853c4a1e4cde9725eab85bfd2c91",
            "_dom_classes": [],
            "description": "",
            "_model_name": "HTMLModel",
            "placeholder": "​",
            "_view_module": "@jupyter-widgets/controls",
            "_model_module_version": "1.5.0",
            "value": " 4790/4790 [00:00&lt;00:00, 8687.21lines/s]",
            "_view_count": null,
            "_view_module_version": "1.5.0",
            "description_tooltip": null,
            "_model_module": "@jupyter-widgets/controls",
            "layout": "IPY_MODEL_56ef6b94d0874157bcff5826e4630f80"
          }
        },
        "a4b2577328d94ca3b08617ba0953069e": {
          "model_module": "@jupyter-widgets/controls",
          "model_name": "ProgressStyleModel",
          "state": {
            "_view_name": "StyleView",
            "_model_name": "ProgressStyleModel",
            "description_width": "initial",
            "_view_module": "@jupyter-widgets/base",
            "_model_module_version": "1.5.0",
            "_view_count": null,
            "_view_module_version": "1.2.0",
            "bar_color": null,
            "_model_module": "@jupyter-widgets/controls"
          }
        },
        "8293ecc9e0e84e2184fefd873d4a0482": {
          "model_module": "@jupyter-widgets/base",
          "model_name": "LayoutModel",
          "state": {
            "_view_name": "LayoutView",
            "grid_template_rows": null,
            "right": null,
            "justify_content": null,
            "_view_module": "@jupyter-widgets/base",
            "overflow": null,
            "_model_module_version": "1.2.0",
            "_view_count": null,
            "flex_flow": null,
            "width": null,
            "min_width": null,
            "border": null,
            "align_items": null,
            "bottom": null,
            "_model_module": "@jupyter-widgets/base",
            "top": null,
            "grid_column": null,
            "overflow_y": null,
            "overflow_x": null,
            "grid_auto_flow": null,
            "grid_area": null,
            "grid_template_columns": null,
            "flex": null,
            "_model_name": "LayoutModel",
            "justify_items": null,
            "grid_row": null,
            "max_height": null,
            "align_content": null,
            "visibility": null,
            "align_self": null,
            "height": null,
            "min_height": null,
            "padding": null,
            "grid_auto_rows": null,
            "grid_gap": null,
            "max_width": null,
            "order": null,
            "_view_module_version": "1.2.0",
            "grid_template_areas": null,
            "object_position": null,
            "object_fit": null,
            "grid_auto_columns": null,
            "margin": null,
            "display": null,
            "left": null
          }
        },
        "f96d853c4a1e4cde9725eab85bfd2c91": {
          "model_module": "@jupyter-widgets/controls",
          "model_name": "DescriptionStyleModel",
          "state": {
            "_view_name": "StyleView",
            "_model_name": "DescriptionStyleModel",
            "description_width": "",
            "_view_module": "@jupyter-widgets/base",
            "_model_module_version": "1.5.0",
            "_view_count": null,
            "_view_module_version": "1.2.0",
            "_model_module": "@jupyter-widgets/controls"
          }
        },
        "56ef6b94d0874157bcff5826e4630f80": {
          "model_module": "@jupyter-widgets/base",
          "model_name": "LayoutModel",
          "state": {
            "_view_name": "LayoutView",
            "grid_template_rows": null,
            "right": null,
            "justify_content": null,
            "_view_module": "@jupyter-widgets/base",
            "overflow": null,
            "_model_module_version": "1.2.0",
            "_view_count": null,
            "flex_flow": null,
            "width": null,
            "min_width": null,
            "border": null,
            "align_items": null,
            "bottom": null,
            "_model_module": "@jupyter-widgets/base",
            "top": null,
            "grid_column": null,
            "overflow_y": null,
            "overflow_x": null,
            "grid_auto_flow": null,
            "grid_area": null,
            "grid_template_columns": null,
            "flex": null,
            "_model_name": "LayoutModel",
            "justify_items": null,
            "grid_row": null,
            "max_height": null,
            "align_content": null,
            "visibility": null,
            "align_self": null,
            "height": null,
            "min_height": null,
            "padding": null,
            "grid_auto_rows": null,
            "grid_gap": null,
            "max_width": null,
            "order": null,
            "_view_module_version": "1.2.0",
            "grid_template_areas": null,
            "object_position": null,
            "object_fit": null,
            "grid_auto_columns": null,
            "margin": null,
            "display": null,
            "left": null
          }
        },
        "17f5f04e6b9e4902957d49f5a408a02c": {
          "model_module": "@jupyter-widgets/controls",
          "model_name": "HBoxModel",
          "state": {
            "_view_name": "HBoxView",
            "_dom_classes": [],
            "_model_name": "HBoxModel",
            "_view_module": "@jupyter-widgets/controls",
            "_model_module_version": "1.5.0",
            "_view_count": null,
            "_view_module_version": "1.5.0",
            "box_style": "",
            "layout": "IPY_MODEL_4fc05706f1fe442dba99c611b880ba52",
            "_model_module": "@jupyter-widgets/controls",
            "children": [
              "IPY_MODEL_bcb861b31bba4134be053b99abd5a8bb",
              "IPY_MODEL_30414b2e62ef4ea2a6b741414bd283f2"
            ]
          }
        },
        "4fc05706f1fe442dba99c611b880ba52": {
          "model_module": "@jupyter-widgets/base",
          "model_name": "LayoutModel",
          "state": {
            "_view_name": "LayoutView",
            "grid_template_rows": null,
            "right": null,
            "justify_content": null,
            "_view_module": "@jupyter-widgets/base",
            "overflow": null,
            "_model_module_version": "1.2.0",
            "_view_count": null,
            "flex_flow": null,
            "width": null,
            "min_width": null,
            "border": null,
            "align_items": null,
            "bottom": null,
            "_model_module": "@jupyter-widgets/base",
            "top": null,
            "grid_column": null,
            "overflow_y": null,
            "overflow_x": null,
            "grid_auto_flow": null,
            "grid_area": null,
            "grid_template_columns": null,
            "flex": null,
            "_model_name": "LayoutModel",
            "justify_items": null,
            "grid_row": null,
            "max_height": null,
            "align_content": null,
            "visibility": null,
            "align_self": null,
            "height": null,
            "min_height": null,
            "padding": null,
            "grid_auto_rows": null,
            "grid_gap": null,
            "max_width": null,
            "order": null,
            "_view_module_version": "1.2.0",
            "grid_template_areas": null,
            "object_position": null,
            "object_fit": null,
            "grid_auto_columns": null,
            "margin": null,
            "display": null,
            "left": null
          }
        },
        "bcb861b31bba4134be053b99abd5a8bb": {
          "model_module": "@jupyter-widgets/controls",
          "model_name": "FloatProgressModel",
          "state": {
            "_view_name": "ProgressView",
            "style": "IPY_MODEL_6e59053c90454fe4b12d1cd93e488e90",
            "_dom_classes": [],
            "description": "100%",
            "_model_name": "FloatProgressModel",
            "bar_style": "success",
            "max": 4790,
            "_view_module": "@jupyter-widgets/controls",
            "_model_module_version": "1.5.0",
            "value": 4790,
            "_view_count": null,
            "_view_module_version": "1.5.0",
            "orientation": "horizontal",
            "min": 0,
            "description_tooltip": null,
            "_model_module": "@jupyter-widgets/controls",
            "layout": "IPY_MODEL_6b03bab25ea940eea35342c74e51775b"
          }
        },
        "30414b2e62ef4ea2a6b741414bd283f2": {
          "model_module": "@jupyter-widgets/controls",
          "model_name": "HTMLModel",
          "state": {
            "_view_name": "HTMLView",
            "style": "IPY_MODEL_1f0f3618f68b4f749deb5d71f69d19ce",
            "_dom_classes": [],
            "description": "",
            "_model_name": "HTMLModel",
            "placeholder": "​",
            "_view_module": "@jupyter-widgets/controls",
            "_model_module_version": "1.5.0",
            "value": " 4790/4790 [00:00&lt;00:00, 5997.10lines/s]",
            "_view_count": null,
            "_view_module_version": "1.5.0",
            "description_tooltip": null,
            "_model_module": "@jupyter-widgets/controls",
            "layout": "IPY_MODEL_67f6a1e6cfdc4681a7f43e77065c448d"
          }
        },
        "6e59053c90454fe4b12d1cd93e488e90": {
          "model_module": "@jupyter-widgets/controls",
          "model_name": "ProgressStyleModel",
          "state": {
            "_view_name": "StyleView",
            "_model_name": "ProgressStyleModel",
            "description_width": "initial",
            "_view_module": "@jupyter-widgets/base",
            "_model_module_version": "1.5.0",
            "_view_count": null,
            "_view_module_version": "1.2.0",
            "bar_color": null,
            "_model_module": "@jupyter-widgets/controls"
          }
        },
        "6b03bab25ea940eea35342c74e51775b": {
          "model_module": "@jupyter-widgets/base",
          "model_name": "LayoutModel",
          "state": {
            "_view_name": "LayoutView",
            "grid_template_rows": null,
            "right": null,
            "justify_content": null,
            "_view_module": "@jupyter-widgets/base",
            "overflow": null,
            "_model_module_version": "1.2.0",
            "_view_count": null,
            "flex_flow": null,
            "width": null,
            "min_width": null,
            "border": null,
            "align_items": null,
            "bottom": null,
            "_model_module": "@jupyter-widgets/base",
            "top": null,
            "grid_column": null,
            "overflow_y": null,
            "overflow_x": null,
            "grid_auto_flow": null,
            "grid_area": null,
            "grid_template_columns": null,
            "flex": null,
            "_model_name": "LayoutModel",
            "justify_items": null,
            "grid_row": null,
            "max_height": null,
            "align_content": null,
            "visibility": null,
            "align_self": null,
            "height": null,
            "min_height": null,
            "padding": null,
            "grid_auto_rows": null,
            "grid_gap": null,
            "max_width": null,
            "order": null,
            "_view_module_version": "1.2.0",
            "grid_template_areas": null,
            "object_position": null,
            "object_fit": null,
            "grid_auto_columns": null,
            "margin": null,
            "display": null,
            "left": null
          }
        },
        "1f0f3618f68b4f749deb5d71f69d19ce": {
          "model_module": "@jupyter-widgets/controls",
          "model_name": "DescriptionStyleModel",
          "state": {
            "_view_name": "StyleView",
            "_model_name": "DescriptionStyleModel",
            "description_width": "",
            "_view_module": "@jupyter-widgets/base",
            "_model_module_version": "1.5.0",
            "_view_count": null,
            "_view_module_version": "1.2.0",
            "_model_module": "@jupyter-widgets/controls"
          }
        },
        "67f6a1e6cfdc4681a7f43e77065c448d": {
          "model_module": "@jupyter-widgets/base",
          "model_name": "LayoutModel",
          "state": {
            "_view_name": "LayoutView",
            "grid_template_rows": null,
            "right": null,
            "justify_content": null,
            "_view_module": "@jupyter-widgets/base",
            "overflow": null,
            "_model_module_version": "1.2.0",
            "_view_count": null,
            "flex_flow": null,
            "width": null,
            "min_width": null,
            "border": null,
            "align_items": null,
            "bottom": null,
            "_model_module": "@jupyter-widgets/base",
            "top": null,
            "grid_column": null,
            "overflow_y": null,
            "overflow_x": null,
            "grid_auto_flow": null,
            "grid_area": null,
            "grid_template_columns": null,
            "flex": null,
            "_model_name": "LayoutModel",
            "justify_items": null,
            "grid_row": null,
            "max_height": null,
            "align_content": null,
            "visibility": null,
            "align_self": null,
            "height": null,
            "min_height": null,
            "padding": null,
            "grid_auto_rows": null,
            "grid_gap": null,
            "max_width": null,
            "order": null,
            "_view_module_version": "1.2.0",
            "grid_template_areas": null,
            "object_position": null,
            "object_fit": null,
            "grid_auto_columns": null,
            "margin": null,
            "display": null,
            "left": null
          }
        },
        "0ea053f18cb5418ca5a4a20b2d7a0338": {
          "model_module": "@jupyter-widgets/controls",
          "model_name": "HBoxModel",
          "state": {
            "_view_name": "HBoxView",
            "_dom_classes": [],
            "_model_name": "HBoxModel",
            "_view_module": "@jupyter-widgets/controls",
            "_model_module_version": "1.5.0",
            "_view_count": null,
            "_view_module_version": "1.5.0",
            "box_style": "",
            "layout": "IPY_MODEL_abac6eeafabe445eb9d41b25a9467fef",
            "_model_module": "@jupyter-widgets/controls",
            "children": [
              "IPY_MODEL_cd2cb3f6466c441d8815c584b6f9c737",
              "IPY_MODEL_48a9822cf2a6407b94504302056a2dad"
            ]
          }
        },
        "abac6eeafabe445eb9d41b25a9467fef": {
          "model_module": "@jupyter-widgets/base",
          "model_name": "LayoutModel",
          "state": {
            "_view_name": "LayoutView",
            "grid_template_rows": null,
            "right": null,
            "justify_content": null,
            "_view_module": "@jupyter-widgets/base",
            "overflow": null,
            "_model_module_version": "1.2.0",
            "_view_count": null,
            "flex_flow": null,
            "width": null,
            "min_width": null,
            "border": null,
            "align_items": null,
            "bottom": null,
            "_model_module": "@jupyter-widgets/base",
            "top": null,
            "grid_column": null,
            "overflow_y": null,
            "overflow_x": null,
            "grid_auto_flow": null,
            "grid_area": null,
            "grid_template_columns": null,
            "flex": null,
            "_model_name": "LayoutModel",
            "justify_items": null,
            "grid_row": null,
            "max_height": null,
            "align_content": null,
            "visibility": null,
            "align_self": null,
            "height": null,
            "min_height": null,
            "padding": null,
            "grid_auto_rows": null,
            "grid_gap": null,
            "max_width": null,
            "order": null,
            "_view_module_version": "1.2.0",
            "grid_template_areas": null,
            "object_position": null,
            "object_fit": null,
            "grid_auto_columns": null,
            "margin": null,
            "display": null,
            "left": null
          }
        },
        "cd2cb3f6466c441d8815c584b6f9c737": {
          "model_module": "@jupyter-widgets/controls",
          "model_name": "FloatProgressModel",
          "state": {
            "_view_name": "ProgressView",
            "style": "IPY_MODEL_33f915e21d4d407da52f65e24fc307f5",
            "_dom_classes": [],
            "description": "100%",
            "_model_name": "FloatProgressModel",
            "bar_style": "success",
            "max": 4790,
            "_view_module": "@jupyter-widgets/controls",
            "_model_module_version": "1.5.0",
            "value": 4790,
            "_view_count": null,
            "_view_module_version": "1.5.0",
            "orientation": "horizontal",
            "min": 0,
            "description_tooltip": null,
            "_model_module": "@jupyter-widgets/controls",
            "layout": "IPY_MODEL_97185cb870cf402a8857ef11f0b66482"
          }
        },
        "48a9822cf2a6407b94504302056a2dad": {
          "model_module": "@jupyter-widgets/controls",
          "model_name": "HTMLModel",
          "state": {
            "_view_name": "HTMLView",
            "style": "IPY_MODEL_a290407397964aaaa6e7c2a64d0d8ca9",
            "_dom_classes": [],
            "description": "",
            "_model_name": "HTMLModel",
            "placeholder": "​",
            "_view_module": "@jupyter-widgets/controls",
            "_model_module_version": "1.5.0",
            "value": " 4790/4790 [00:00&lt;00:00, 8149.84lines/s]",
            "_view_count": null,
            "_view_module_version": "1.5.0",
            "description_tooltip": null,
            "_model_module": "@jupyter-widgets/controls",
            "layout": "IPY_MODEL_2632510a00e640f0a48df3a1b607ebd0"
          }
        },
        "33f915e21d4d407da52f65e24fc307f5": {
          "model_module": "@jupyter-widgets/controls",
          "model_name": "ProgressStyleModel",
          "state": {
            "_view_name": "StyleView",
            "_model_name": "ProgressStyleModel",
            "description_width": "initial",
            "_view_module": "@jupyter-widgets/base",
            "_model_module_version": "1.5.0",
            "_view_count": null,
            "_view_module_version": "1.2.0",
            "bar_color": null,
            "_model_module": "@jupyter-widgets/controls"
          }
        },
        "97185cb870cf402a8857ef11f0b66482": {
          "model_module": "@jupyter-widgets/base",
          "model_name": "LayoutModel",
          "state": {
            "_view_name": "LayoutView",
            "grid_template_rows": null,
            "right": null,
            "justify_content": null,
            "_view_module": "@jupyter-widgets/base",
            "overflow": null,
            "_model_module_version": "1.2.0",
            "_view_count": null,
            "flex_flow": null,
            "width": null,
            "min_width": null,
            "border": null,
            "align_items": null,
            "bottom": null,
            "_model_module": "@jupyter-widgets/base",
            "top": null,
            "grid_column": null,
            "overflow_y": null,
            "overflow_x": null,
            "grid_auto_flow": null,
            "grid_area": null,
            "grid_template_columns": null,
            "flex": null,
            "_model_name": "LayoutModel",
            "justify_items": null,
            "grid_row": null,
            "max_height": null,
            "align_content": null,
            "visibility": null,
            "align_self": null,
            "height": null,
            "min_height": null,
            "padding": null,
            "grid_auto_rows": null,
            "grid_gap": null,
            "max_width": null,
            "order": null,
            "_view_module_version": "1.2.0",
            "grid_template_areas": null,
            "object_position": null,
            "object_fit": null,
            "grid_auto_columns": null,
            "margin": null,
            "display": null,
            "left": null
          }
        },
        "a290407397964aaaa6e7c2a64d0d8ca9": {
          "model_module": "@jupyter-widgets/controls",
          "model_name": "DescriptionStyleModel",
          "state": {
            "_view_name": "StyleView",
            "_model_name": "DescriptionStyleModel",
            "description_width": "",
            "_view_module": "@jupyter-widgets/base",
            "_model_module_version": "1.5.0",
            "_view_count": null,
            "_view_module_version": "1.2.0",
            "_model_module": "@jupyter-widgets/controls"
          }
        },
        "2632510a00e640f0a48df3a1b607ebd0": {
          "model_module": "@jupyter-widgets/base",
          "model_name": "LayoutModel",
          "state": {
            "_view_name": "LayoutView",
            "grid_template_rows": null,
            "right": null,
            "justify_content": null,
            "_view_module": "@jupyter-widgets/base",
            "overflow": null,
            "_model_module_version": "1.2.0",
            "_view_count": null,
            "flex_flow": null,
            "width": null,
            "min_width": null,
            "border": null,
            "align_items": null,
            "bottom": null,
            "_model_module": "@jupyter-widgets/base",
            "top": null,
            "grid_column": null,
            "overflow_y": null,
            "overflow_x": null,
            "grid_auto_flow": null,
            "grid_area": null,
            "grid_template_columns": null,
            "flex": null,
            "_model_name": "LayoutModel",
            "justify_items": null,
            "grid_row": null,
            "max_height": null,
            "align_content": null,
            "visibility": null,
            "align_self": null,
            "height": null,
            "min_height": null,
            "padding": null,
            "grid_auto_rows": null,
            "grid_gap": null,
            "max_width": null,
            "order": null,
            "_view_module_version": "1.2.0",
            "grid_template_areas": null,
            "object_position": null,
            "object_fit": null,
            "grid_auto_columns": null,
            "margin": null,
            "display": null,
            "left": null
          }
        }
      }
    }
  },
  "cells": [
    {
      "cell_type": "markdown",
      "metadata": {
        "id": "view-in-github",
        "colab_type": "text"
      },
      "source": [
        "<a href=\"https://colab.research.google.com/github/satyajitghana/TSAI-DeepNLP-END2.0/blob/main/07_Seq2Seq/WikiQA_Dataset.ipynb\" target=\"_parent\"><img src=\"https://colab.research.google.com/assets/colab-badge.svg\" alt=\"Open In Colab\"/></a>"
      ]
    },
    {
      "cell_type": "code",
      "metadata": {
        "id": "peGei6L3UUBi",
        "colab": {
          "base_uri": "https://localhost:8080/"
        },
        "outputId": "3a24e3a5-5a27-4876-bb7a-0c2dd71c8b9b"
      },
      "source": [
        "! pip install colorlog --quiet\n",
        "! pip install gdown==3.13.0 --quiet\n",
        "! pip install spacy==3.0.6 --quiet\n",
        "! pip install pytorch-lightning --quiet"
      ],
      "execution_count": null,
      "outputs": [
        {
          "output_type": "stream",
          "text": [
            "  Installing build dependencies ... \u001b[?25l\u001b[?25hdone\n",
            "  Getting requirements to build wheel ... \u001b[?25l\u001b[?25hdone\n",
            "    Preparing wheel metadata ... \u001b[?25l\u001b[?25hdone\n",
            "  Building wheel for gdown (PEP 517) ... \u001b[?25l\u001b[?25hdone\n",
            "\u001b[K     |████████████████████████████████| 12.8MB 218kB/s \n",
            "\u001b[K     |████████████████████████████████| 51kB 4.8MB/s \n",
            "\u001b[K     |████████████████████████████████| 624kB 35.8MB/s \n",
            "\u001b[K     |████████████████████████████████| 460kB 37.8MB/s \n",
            "\u001b[K     |████████████████████████████████| 9.1MB 173kB/s \n",
            "\u001b[K     |████████████████████████████████| 122kB 44.7MB/s \n",
            "\u001b[?25h  Building wheel for smart-open (setup.py) ... \u001b[?25l\u001b[?25hdone\n",
            "\u001b[K     |████████████████████████████████| 819kB 4.0MB/s \n",
            "\u001b[K     |████████████████████████████████| 645kB 25.8MB/s \n",
            "\u001b[K     |████████████████████████████████| 829kB 35.2MB/s \n",
            "\u001b[K     |████████████████████████████████| 276kB 40.4MB/s \n",
            "\u001b[K     |████████████████████████████████| 10.6MB 29.9MB/s \n",
            "\u001b[K     |████████████████████████████████| 122kB 52.1MB/s \n",
            "\u001b[K     |████████████████████████████████| 1.3MB 44.6MB/s \n",
            "\u001b[K     |████████████████████████████████| 296kB 44.7MB/s \n",
            "\u001b[K     |████████████████████████████████| 143kB 54.5MB/s \n",
            "\u001b[?25h  Building wheel for future (setup.py) ... \u001b[?25l\u001b[?25hdone\n",
            "\u001b[31mERROR: tensorflow 2.5.0 has requirement tensorboard~=2.5, but you'll have tensorboard 2.4.1 which is incompatible.\u001b[0m\n"
          ],
          "name": "stdout"
        }
      ]
    },
    {
      "cell_type": "code",
      "metadata": {
        "colab": {
          "base_uri": "https://localhost:8080/"
        },
        "id": "1tEO37BPuBc7",
        "outputId": "b2b4dd42-88bd-4962-d6f9-539a5741d5bf"
      },
      "source": [
        "! pip install --pre torch==1.8.0 torchtext==0.9.0 -f https://download.pytorch.org/whl/nightly/cu111/torch_nightly.html"
      ],
      "execution_count": null,
      "outputs": [
        {
          "output_type": "stream",
          "text": [
            "Looking in links: https://download.pytorch.org/whl/nightly/cu111/torch_nightly.html\n",
            "Collecting torch==1.8.0\n",
            "\u001b[?25l  Downloading https://files.pythonhosted.org/packages/94/99/5861239a6e1ffe66e120f114a4d67e96e5c4b17c1a785dfc6ca6769585fc/torch-1.8.0-cp37-cp37m-manylinux1_x86_64.whl (735.5MB)\n",
            "\u001b[K     |████████████████████████████████| 735.5MB 23kB/s \n",
            "\u001b[?25hCollecting torchtext==0.9.0\n",
            "\u001b[?25l  Downloading https://files.pythonhosted.org/packages/36/50/84184d6230686e230c464f0dd4ff32eada2756b4a0b9cefec68b88d1d580/torchtext-0.9.0-cp37-cp37m-manylinux1_x86_64.whl (7.1MB)\n",
            "\u001b[K     |████████████████████████████████| 7.1MB 9.5MB/s \n",
            "\u001b[?25hRequirement already satisfied: numpy in /usr/local/lib/python3.7/dist-packages (from torch==1.8.0) (1.19.5)\n",
            "Requirement already satisfied: typing-extensions in /usr/local/lib/python3.7/dist-packages (from torch==1.8.0) (3.7.4.3)\n",
            "Requirement already satisfied: requests in /usr/local/lib/python3.7/dist-packages (from torchtext==0.9.0) (2.23.0)\n",
            "Requirement already satisfied: tqdm in /usr/local/lib/python3.7/dist-packages (from torchtext==0.9.0) (4.41.1)\n",
            "Requirement already satisfied: chardet<4,>=3.0.2 in /usr/local/lib/python3.7/dist-packages (from requests->torchtext==0.9.0) (3.0.4)\n",
            "Requirement already satisfied: urllib3!=1.25.0,!=1.25.1,<1.26,>=1.21.1 in /usr/local/lib/python3.7/dist-packages (from requests->torchtext==0.9.0) (1.24.3)\n",
            "Requirement already satisfied: idna<3,>=2.5 in /usr/local/lib/python3.7/dist-packages (from requests->torchtext==0.9.0) (2.10)\n",
            "Requirement already satisfied: certifi>=2017.4.17 in /usr/local/lib/python3.7/dist-packages (from requests->torchtext==0.9.0) (2021.5.30)\n",
            "\u001b[31mERROR: torchvision 0.10.0+cu102 has requirement torch==1.9.0, but you'll have torch 1.8.0 which is incompatible.\u001b[0m\n",
            "Installing collected packages: torch, torchtext\n",
            "  Found existing installation: torch 1.9.0+cu102\n",
            "    Uninstalling torch-1.9.0+cu102:\n",
            "      Successfully uninstalled torch-1.9.0+cu102\n",
            "  Found existing installation: torchtext 0.10.0\n",
            "    Uninstalling torchtext-0.10.0:\n",
            "      Successfully uninstalled torchtext-0.10.0\n",
            "Successfully installed torch-1.8.0 torchtext-0.9.0\n"
          ],
          "name": "stdout"
        }
      ]
    },
    {
      "cell_type": "code",
      "metadata": {
        "colab": {
          "base_uri": "https://localhost:8080/"
        },
        "id": "9REQ9YYnuDN9",
        "outputId": "918ae70c-36dc-489e-89a8-bd02a3d542c5"
      },
      "source": [
        "! python -m spacy download en_core_web_sm"
      ],
      "execution_count": null,
      "outputs": [
        {
          "output_type": "stream",
          "text": [
            "2021-06-24 15:55:13.015226: I tensorflow/stream_executor/platform/default/dso_loader.cc:53] Successfully opened dynamic library libcudart.so.11.0\n",
            "Collecting en-core-web-sm==3.0.0\n",
            "\u001b[?25l  Downloading https://github.com/explosion/spacy-models/releases/download/en_core_web_sm-3.0.0/en_core_web_sm-3.0.0-py3-none-any.whl (13.7MB)\n",
            "\u001b[K     |████████████████████████████████| 13.7MB 222kB/s \n",
            "\u001b[?25hRequirement already satisfied: spacy<3.1.0,>=3.0.0 in /usr/local/lib/python3.7/dist-packages (from en-core-web-sm==3.0.0) (3.0.6)\n",
            "Requirement already satisfied: packaging>=20.0 in /usr/local/lib/python3.7/dist-packages (from spacy<3.1.0,>=3.0.0->en-core-web-sm==3.0.0) (20.9)\n",
            "Requirement already satisfied: tqdm<5.0.0,>=4.38.0 in /usr/local/lib/python3.7/dist-packages (from spacy<3.1.0,>=3.0.0->en-core-web-sm==3.0.0) (4.41.1)\n",
            "Requirement already satisfied: typer<0.4.0,>=0.3.0 in /usr/local/lib/python3.7/dist-packages (from spacy<3.1.0,>=3.0.0->en-core-web-sm==3.0.0) (0.3.2)\n",
            "Requirement already satisfied: pydantic<1.8.0,>=1.7.1 in /usr/local/lib/python3.7/dist-packages (from spacy<3.1.0,>=3.0.0->en-core-web-sm==3.0.0) (1.7.4)\n",
            "Requirement already satisfied: pathy>=0.3.5 in /usr/local/lib/python3.7/dist-packages (from spacy<3.1.0,>=3.0.0->en-core-web-sm==3.0.0) (0.5.2)\n",
            "Requirement already satisfied: thinc<8.1.0,>=8.0.3 in /usr/local/lib/python3.7/dist-packages (from spacy<3.1.0,>=3.0.0->en-core-web-sm==3.0.0) (8.0.6)\n",
            "Requirement already satisfied: requests<3.0.0,>=2.13.0 in /usr/local/lib/python3.7/dist-packages (from spacy<3.1.0,>=3.0.0->en-core-web-sm==3.0.0) (2.23.0)\n",
            "Requirement already satisfied: jinja2 in /usr/local/lib/python3.7/dist-packages (from spacy<3.1.0,>=3.0.0->en-core-web-sm==3.0.0) (2.11.3)\n",
            "Requirement already satisfied: murmurhash<1.1.0,>=0.28.0 in /usr/local/lib/python3.7/dist-packages (from spacy<3.1.0,>=3.0.0->en-core-web-sm==3.0.0) (1.0.5)\n",
            "Requirement already satisfied: typing-extensions<4.0.0.0,>=3.7.4; python_version < \"3.8\" in /usr/local/lib/python3.7/dist-packages (from spacy<3.1.0,>=3.0.0->en-core-web-sm==3.0.0) (3.7.4.3)\n",
            "Requirement already satisfied: catalogue<2.1.0,>=2.0.3 in /usr/local/lib/python3.7/dist-packages (from spacy<3.1.0,>=3.0.0->en-core-web-sm==3.0.0) (2.0.4)\n",
            "Requirement already satisfied: blis<0.8.0,>=0.4.0 in /usr/local/lib/python3.7/dist-packages (from spacy<3.1.0,>=3.0.0->en-core-web-sm==3.0.0) (0.4.1)\n",
            "Requirement already satisfied: preshed<3.1.0,>=3.0.2 in /usr/local/lib/python3.7/dist-packages (from spacy<3.1.0,>=3.0.0->en-core-web-sm==3.0.0) (3.0.5)\n",
            "Requirement already satisfied: cymem<2.1.0,>=2.0.2 in /usr/local/lib/python3.7/dist-packages (from spacy<3.1.0,>=3.0.0->en-core-web-sm==3.0.0) (2.0.5)\n",
            "Requirement already satisfied: setuptools in /usr/local/lib/python3.7/dist-packages (from spacy<3.1.0,>=3.0.0->en-core-web-sm==3.0.0) (57.0.0)\n",
            "Requirement already satisfied: wasabi<1.1.0,>=0.8.1 in /usr/local/lib/python3.7/dist-packages (from spacy<3.1.0,>=3.0.0->en-core-web-sm==3.0.0) (0.8.2)\n",
            "Requirement already satisfied: numpy>=1.15.0 in /usr/local/lib/python3.7/dist-packages (from spacy<3.1.0,>=3.0.0->en-core-web-sm==3.0.0) (1.19.5)\n",
            "Requirement already satisfied: srsly<3.0.0,>=2.4.1 in /usr/local/lib/python3.7/dist-packages (from spacy<3.1.0,>=3.0.0->en-core-web-sm==3.0.0) (2.4.1)\n",
            "Requirement already satisfied: spacy-legacy<3.1.0,>=3.0.4 in /usr/local/lib/python3.7/dist-packages (from spacy<3.1.0,>=3.0.0->en-core-web-sm==3.0.0) (3.0.6)\n",
            "Requirement already satisfied: pyparsing>=2.0.2 in /usr/local/lib/python3.7/dist-packages (from packaging>=20.0->spacy<3.1.0,>=3.0.0->en-core-web-sm==3.0.0) (2.4.7)\n",
            "Requirement already satisfied: click<7.2.0,>=7.1.1 in /usr/local/lib/python3.7/dist-packages (from typer<0.4.0,>=0.3.0->spacy<3.1.0,>=3.0.0->en-core-web-sm==3.0.0) (7.1.2)\n",
            "Requirement already satisfied: smart-open<4.0.0,>=2.2.0 in /usr/local/lib/python3.7/dist-packages (from pathy>=0.3.5->spacy<3.1.0,>=3.0.0->en-core-web-sm==3.0.0) (3.0.0)\n",
            "Requirement already satisfied: urllib3!=1.25.0,!=1.25.1,<1.26,>=1.21.1 in /usr/local/lib/python3.7/dist-packages (from requests<3.0.0,>=2.13.0->spacy<3.1.0,>=3.0.0->en-core-web-sm==3.0.0) (1.24.3)\n",
            "Requirement already satisfied: idna<3,>=2.5 in /usr/local/lib/python3.7/dist-packages (from requests<3.0.0,>=2.13.0->spacy<3.1.0,>=3.0.0->en-core-web-sm==3.0.0) (2.10)\n",
            "Requirement already satisfied: certifi>=2017.4.17 in /usr/local/lib/python3.7/dist-packages (from requests<3.0.0,>=2.13.0->spacy<3.1.0,>=3.0.0->en-core-web-sm==3.0.0) (2021.5.30)\n",
            "Requirement already satisfied: chardet<4,>=3.0.2 in /usr/local/lib/python3.7/dist-packages (from requests<3.0.0,>=2.13.0->spacy<3.1.0,>=3.0.0->en-core-web-sm==3.0.0) (3.0.4)\n",
            "Requirement already satisfied: MarkupSafe>=0.23 in /usr/local/lib/python3.7/dist-packages (from jinja2->spacy<3.1.0,>=3.0.0->en-core-web-sm==3.0.0) (2.0.1)\n",
            "Requirement already satisfied: zipp>=0.5; python_version < \"3.8\" in /usr/local/lib/python3.7/dist-packages (from catalogue<2.1.0,>=2.0.3->spacy<3.1.0,>=3.0.0->en-core-web-sm==3.0.0) (3.4.1)\n",
            "Installing collected packages: en-core-web-sm\n",
            "  Found existing installation: en-core-web-sm 2.2.5\n",
            "    Uninstalling en-core-web-sm-2.2.5:\n",
            "      Successfully uninstalled en-core-web-sm-2.2.5\n",
            "Successfully installed en-core-web-sm-3.0.0\n",
            "\u001b[38;5;2m✔ Download and installation successful\u001b[0m\n",
            "You can now load the package via spacy.load('en_core_web_sm')\n"
          ],
          "name": "stdout"
        }
      ]
    },
    {
      "cell_type": "code",
      "metadata": {
        "id": "NvairrPsUS0M"
      },
      "source": [
        "import colorlog\n",
        "\n",
        "logger = colorlog.getLogger()\n",
        "logger.setLevel(colorlog.colorlog.logging.DEBUG)\n",
        "\n",
        "handler = colorlog.StreamHandler()\n",
        "handler.setFormatter(\n",
        "    colorlog.ColoredFormatter(\n",
        "        '%(log_color)s [%(asctime)s] %(levelname)s [%(filename)s.%(funcName)s:%(lineno)d] %(message)s', datefmt='%a, %d %b %Y %H:%M:%S',\n",
        "        log_colors={\n",
        "                'DEBUG':    'cyan',\n",
        "                'INFO':     'green',\n",
        "                'WARNING':  'yellow',\n",
        "                'ERROR':    'red',\n",
        "                'CRITICAL': 'red,bg_white',\n",
        "            },\n",
        "        )\n",
        "    )\n",
        "logger.addHandler(handler)\n"
      ],
      "execution_count": null,
      "outputs": []
    },
    {
      "cell_type": "code",
      "metadata": {
        "colab": {
          "base_uri": "https://localhost:8080/"
        },
        "id": "F3Q9etSIHCzV",
        "outputId": "77aa1173-cafe-47fd-9e2b-3163cbd5e68a"
      },
      "source": [
        "! wget http://www.cs.cmu.edu/~ark/QA-data/data/Question_Answer_Dataset_v1.2.tar.gz"
      ],
      "execution_count": null,
      "outputs": [
        {
          "output_type": "stream",
          "text": [
            "--2021-06-22 18:15:15--  http://www.cs.cmu.edu/~ark/QA-data/data/Question_Answer_Dataset_v1.2.tar.gz\n",
            "Resolving www.cs.cmu.edu (www.cs.cmu.edu)... 128.2.42.95\n",
            "Connecting to www.cs.cmu.edu (www.cs.cmu.edu)|128.2.42.95|:80... connected.\n",
            "HTTP request sent, awaiting response... 200 OK\n",
            "Length: 8254496 (7.9M) [application/x-gzip]\n",
            "Saving to: ‘Question_Answer_Dataset_v1.2.tar.gz’\n",
            "\n",
            "Question_Answer_Dat 100%[===================>]   7.87M  1.90MB/s    in 5.9s    \n",
            "\n",
            "2021-06-22 18:15:21 (1.33 MB/s) - ‘Question_Answer_Dataset_v1.2.tar.gz’ saved [8254496/8254496]\n",
            "\n"
          ],
          "name": "stdout"
        }
      ]
    },
    {
      "cell_type": "code",
      "metadata": {
        "id": "67a2MtZRHLsB"
      },
      "source": [
        "! tar -xf Question_Answer_Dataset_v1.2.tar.gz"
      ],
      "execution_count": null,
      "outputs": []
    },
    {
      "cell_type": "code",
      "metadata": {
        "id": "-gXFe34PSXqE"
      },
      "source": [
        "import pandas as pd"
      ],
      "execution_count": null,
      "outputs": []
    },
    {
      "cell_type": "code",
      "metadata": {
        "colab": {
          "base_uri": "https://localhost:8080/",
          "height": 189
        },
        "id": "PbtKO11uSde0",
        "outputId": "a02e4b30-fc4a-4aa7-be2a-8b80161e7b99"
      },
      "source": [
        "S08 = pd.read_csv('/content/Question_Answer_Dataset_v2.2/S10/question_answer_pairs.txt', sep='\\t', encoding = \"ISO-8859-1\")\n",
        "S08.describe()"
      ],
      "execution_count": null,
      "outputs": [
        {
          "output_type": "stream",
          "text": [
            "\u001b[32m [Tue, 22 Jun 2021 18:15:21] INFO [utils.py._init_num_threads:157] NumExpr defaulting to 2 threads.\u001b[0m\n"
          ],
          "name": "stderr"
        },
        {
          "output_type": "execute_result",
          "data": {
            "text/html": [
              "<div>\n",
              "<style scoped>\n",
              "    .dataframe tbody tr th:only-of-type {\n",
              "        vertical-align: middle;\n",
              "    }\n",
              "\n",
              "    .dataframe tbody tr th {\n",
              "        vertical-align: top;\n",
              "    }\n",
              "\n",
              "    .dataframe thead th {\n",
              "        text-align: right;\n",
              "    }\n",
              "</style>\n",
              "<table border=\"1\" class=\"dataframe\">\n",
              "  <thead>\n",
              "    <tr style=\"text-align: right;\">\n",
              "      <th></th>\n",
              "      <th>ArticleTitle</th>\n",
              "      <th>Question</th>\n",
              "      <th>Answer</th>\n",
              "      <th>DifficultyFromQuestioner</th>\n",
              "      <th>DifficultyFromAnswerer</th>\n",
              "      <th>ArticleFile</th>\n",
              "    </tr>\n",
              "  </thead>\n",
              "  <tbody>\n",
              "    <tr>\n",
              "      <th>count</th>\n",
              "      <td>1458</td>\n",
              "      <td>1440</td>\n",
              "      <td>1222</td>\n",
              "      <td>1262</td>\n",
              "      <td>1222</td>\n",
              "      <td>1458</td>\n",
              "    </tr>\n",
              "    <tr>\n",
              "      <th>unique</th>\n",
              "      <td>56</td>\n",
              "      <td>831</td>\n",
              "      <td>759</td>\n",
              "      <td>3</td>\n",
              "      <td>5</td>\n",
              "      <td>56</td>\n",
              "    </tr>\n",
              "    <tr>\n",
              "      <th>top</th>\n",
              "      <td>Alessandro_Volta</td>\n",
              "      <td>What is the basic word order in Malay?</td>\n",
              "      <td>Yes</td>\n",
              "      <td>medium</td>\n",
              "      <td>easy</td>\n",
              "      <td>data/set4/a10</td>\n",
              "    </tr>\n",
              "    <tr>\n",
              "      <th>freq</th>\n",
              "      <td>44</td>\n",
              "      <td>4</td>\n",
              "      <td>145</td>\n",
              "      <td>432</td>\n",
              "      <td>473</td>\n",
              "      <td>44</td>\n",
              "    </tr>\n",
              "  </tbody>\n",
              "</table>\n",
              "</div>"
            ],
            "text/plain": [
              "            ArticleTitle  ...    ArticleFile\n",
              "count               1458  ...           1458\n",
              "unique                56  ...             56\n",
              "top     Alessandro_Volta  ...  data/set4/a10\n",
              "freq                  44  ...             44\n",
              "\n",
              "[4 rows x 6 columns]"
            ]
          },
          "metadata": {
            "tags": []
          },
          "execution_count": 7
        }
      ]
    },
    {
      "cell_type": "code",
      "metadata": {
        "colab": {
          "base_uri": "https://localhost:8080/",
          "height": 172
        },
        "id": "vZyxqR_tSwmE",
        "outputId": "917bb11e-f9f6-40ca-dbea-8ec4ea9f4811"
      },
      "source": [
        "S09 = pd.read_csv('/content/Question_Answer_Dataset_v1.2/S09/question_answer_pairs.txt', sep='\\t', encoding = \"ISO-8859-1\")\n",
        "S09.describe()"
      ],
      "execution_count": null,
      "outputs": [
        {
          "output_type": "execute_result",
          "data": {
            "text/html": [
              "<div>\n",
              "<style scoped>\n",
              "    .dataframe tbody tr th:only-of-type {\n",
              "        vertical-align: middle;\n",
              "    }\n",
              "\n",
              "    .dataframe tbody tr th {\n",
              "        vertical-align: top;\n",
              "    }\n",
              "\n",
              "    .dataframe thead th {\n",
              "        text-align: right;\n",
              "    }\n",
              "</style>\n",
              "<table border=\"1\" class=\"dataframe\">\n",
              "  <thead>\n",
              "    <tr style=\"text-align: right;\">\n",
              "      <th></th>\n",
              "      <th>ArticleTitle</th>\n",
              "      <th>Question</th>\n",
              "      <th>Answer</th>\n",
              "      <th>DifficultyFromQuestioner</th>\n",
              "      <th>DifficultyFromAnswerer</th>\n",
              "      <th>ArticleFile</th>\n",
              "    </tr>\n",
              "  </thead>\n",
              "  <tbody>\n",
              "    <tr>\n",
              "      <th>count</th>\n",
              "      <td>825</td>\n",
              "      <td>825</td>\n",
              "      <td>725</td>\n",
              "      <td>557</td>\n",
              "      <td>723</td>\n",
              "      <td>825</td>\n",
              "    </tr>\n",
              "    <tr>\n",
              "      <th>unique</th>\n",
              "      <td>41</td>\n",
              "      <td>598</td>\n",
              "      <td>349</td>\n",
              "      <td>3</td>\n",
              "      <td>5</td>\n",
              "      <td>42</td>\n",
              "    </tr>\n",
              "    <tr>\n",
              "      <th>top</th>\n",
              "      <td>Michael_Faraday</td>\n",
              "      <td>What is the second main orchestral use of cymb...</td>\n",
              "      <td>Yes</td>\n",
              "      <td>easy</td>\n",
              "      <td>easy</td>\n",
              "      <td>data/set4/a7</td>\n",
              "    </tr>\n",
              "    <tr>\n",
              "      <th>freq</th>\n",
              "      <td>49</td>\n",
              "      <td>4</td>\n",
              "      <td>128</td>\n",
              "      <td>194</td>\n",
              "      <td>299</td>\n",
              "      <td>49</td>\n",
              "    </tr>\n",
              "  </tbody>\n",
              "</table>\n",
              "</div>"
            ],
            "text/plain": [
              "           ArticleTitle  ...   ArticleFile\n",
              "count               825  ...           825\n",
              "unique               41  ...            42\n",
              "top     Michael_Faraday  ...  data/set4/a7\n",
              "freq                 49  ...            49\n",
              "\n",
              "[4 rows x 6 columns]"
            ]
          },
          "metadata": {
            "tags": []
          },
          "execution_count": 8
        }
      ]
    },
    {
      "cell_type": "code",
      "metadata": {
        "colab": {
          "base_uri": "https://localhost:8080/",
          "height": 172
        },
        "id": "eCGTRoLxS3Db",
        "outputId": "b0ed6fb4-0d98-43e9-e036-0e5612ec0abc"
      },
      "source": [
        "S10 = pd.read_csv('/content/Question_Answer_Dataset_v1.2/S08/question_answer_pairs.txt', sep='\\t', encoding = \"ISO-8859-1\")\n",
        "S10.describe()"
      ],
      "execution_count": null,
      "outputs": [
        {
          "output_type": "execute_result",
          "data": {
            "text/html": [
              "<div>\n",
              "<style scoped>\n",
              "    .dataframe tbody tr th:only-of-type {\n",
              "        vertical-align: middle;\n",
              "    }\n",
              "\n",
              "    .dataframe tbody tr th {\n",
              "        vertical-align: top;\n",
              "    }\n",
              "\n",
              "    .dataframe thead th {\n",
              "        text-align: right;\n",
              "    }\n",
              "</style>\n",
              "<table border=\"1\" class=\"dataframe\">\n",
              "  <thead>\n",
              "    <tr style=\"text-align: right;\">\n",
              "      <th></th>\n",
              "      <th>ArticleTitle</th>\n",
              "      <th>Question</th>\n",
              "      <th>Answer</th>\n",
              "      <th>DifficultyFromQuestioner</th>\n",
              "      <th>DifficultyFromAnswerer</th>\n",
              "      <th>ArticleFile</th>\n",
              "    </tr>\n",
              "  </thead>\n",
              "  <tbody>\n",
              "    <tr>\n",
              "      <th>count</th>\n",
              "      <td>1715</td>\n",
              "      <td>1696</td>\n",
              "      <td>1475</td>\n",
              "      <td>1224</td>\n",
              "      <td>1473</td>\n",
              "      <td>1713</td>\n",
              "    </tr>\n",
              "    <tr>\n",
              "      <th>unique</th>\n",
              "      <td>38</td>\n",
              "      <td>1032</td>\n",
              "      <td>763</td>\n",
              "      <td>4</td>\n",
              "      <td>5</td>\n",
              "      <td>37</td>\n",
              "    </tr>\n",
              "    <tr>\n",
              "      <th>top</th>\n",
              "      <td>Calvin_Coolidge</td>\n",
              "      <td>Was King Victor Emmanuel III there to pay homa...</td>\n",
              "      <td>Yes</td>\n",
              "      <td>easy</td>\n",
              "      <td>easy</td>\n",
              "      <td>data/set3/a9</td>\n",
              "    </tr>\n",
              "    <tr>\n",
              "      <th>freq</th>\n",
              "      <td>77</td>\n",
              "      <td>6</td>\n",
              "      <td>219</td>\n",
              "      <td>419</td>\n",
              "      <td>572</td>\n",
              "      <td>77</td>\n",
              "    </tr>\n",
              "  </tbody>\n",
              "</table>\n",
              "</div>"
            ],
            "text/plain": [
              "           ArticleTitle  ...   ArticleFile\n",
              "count              1715  ...          1713\n",
              "unique               38  ...            37\n",
              "top     Calvin_Coolidge  ...  data/set3/a9\n",
              "freq                 77  ...            77\n",
              "\n",
              "[4 rows x 6 columns]"
            ]
          },
          "metadata": {
            "tags": []
          },
          "execution_count": 9
        }
      ]
    },
    {
      "cell_type": "code",
      "metadata": {
        "colab": {
          "base_uri": "https://localhost:8080/"
        },
        "id": "RL_omd_STOXb",
        "outputId": "dcc1057c-3a6c-4b49-af2c-52ab7a2fdea3"
      },
      "source": [
        "S08.columns"
      ],
      "execution_count": null,
      "outputs": [
        {
          "output_type": "execute_result",
          "data": {
            "text/plain": [
              "Index(['ArticleTitle', 'Question', 'Answer', 'DifficultyFromQuestioner',\n",
              "       'DifficultyFromAnswerer', 'ArticleFile'],\n",
              "      dtype='object')"
            ]
          },
          "metadata": {
            "tags": []
          },
          "execution_count": 10
        }
      ]
    },
    {
      "cell_type": "code",
      "metadata": {
        "colab": {
          "base_uri": "https://localhost:8080/"
        },
        "id": "waqx9pEvTQqA",
        "outputId": "f3ff7792-551d-4e48-d897-362082eb939e"
      },
      "source": [
        "S09.columns"
      ],
      "execution_count": null,
      "outputs": [
        {
          "output_type": "execute_result",
          "data": {
            "text/plain": [
              "Index(['ArticleTitle', 'Question', 'Answer', 'DifficultyFromQuestioner',\n",
              "       'DifficultyFromAnswerer', 'ArticleFile'],\n",
              "      dtype='object')"
            ]
          },
          "metadata": {
            "tags": []
          },
          "execution_count": 11
        }
      ]
    },
    {
      "cell_type": "code",
      "metadata": {
        "colab": {
          "base_uri": "https://localhost:8080/"
        },
        "id": "ghU-t7HaTUGj",
        "outputId": "51b10eb7-130d-410a-e571-d65ef766fbea"
      },
      "source": [
        "S10.columns"
      ],
      "execution_count": null,
      "outputs": [
        {
          "output_type": "execute_result",
          "data": {
            "text/plain": [
              "Index(['ArticleTitle', 'Question', 'Answer', 'DifficultyFromQuestioner',\n",
              "       'DifficultyFromAnswerer', 'ArticleFile'],\n",
              "      dtype='object')"
            ]
          },
          "metadata": {
            "tags": []
          },
          "execution_count": 12
        }
      ]
    },
    {
      "cell_type": "code",
      "metadata": {
        "id": "YiyVEEJHTZiz"
      },
      "source": [
        "combined_qa = pd.concat([S08, S09, S10])"
      ],
      "execution_count": null,
      "outputs": []
    },
    {
      "cell_type": "code",
      "metadata": {
        "colab": {
          "base_uri": "https://localhost:8080/"
        },
        "id": "jLXhEIvqTsFq",
        "outputId": "a003a925-de5d-4009-84fc-d2a5532a801b"
      },
      "source": [
        "assert len(combined_qa) == sum([len(S08), len(S09), len(S10)]), \"the row counts do not match\"\n",
        "\n",
        "logger.info(f'verified combined_qa with {len(combined_qa)} rows')"
      ],
      "execution_count": null,
      "outputs": [
        {
          "output_type": "stream",
          "text": [
            "\u001b[32m [Tue, 22 Jun 2021 18:15:22] INFO [<ipython-input-14-954ffd2941f2>.<module>:3] verified combined_qa with 3998 columns\u001b[0m\n"
          ],
          "name": "stderr"
        }
      ]
    },
    {
      "cell_type": "code",
      "metadata": {
        "colab": {
          "base_uri": "https://localhost:8080/",
          "height": 287
        },
        "id": "noijoQET7yvY",
        "outputId": "ed3a4f39-10b7-4761-a90d-215f41419b1d"
      },
      "source": [
        "combined_qa.head()"
      ],
      "execution_count": null,
      "outputs": [
        {
          "output_type": "execute_result",
          "data": {
            "text/html": [
              "<div>\n",
              "<style scoped>\n",
              "    .dataframe tbody tr th:only-of-type {\n",
              "        vertical-align: middle;\n",
              "    }\n",
              "\n",
              "    .dataframe tbody tr th {\n",
              "        vertical-align: top;\n",
              "    }\n",
              "\n",
              "    .dataframe thead th {\n",
              "        text-align: right;\n",
              "    }\n",
              "</style>\n",
              "<table border=\"1\" class=\"dataframe\">\n",
              "  <thead>\n",
              "    <tr style=\"text-align: right;\">\n",
              "      <th></th>\n",
              "      <th>ArticleTitle</th>\n",
              "      <th>Question</th>\n",
              "      <th>Answer</th>\n",
              "      <th>DifficultyFromQuestioner</th>\n",
              "      <th>DifficultyFromAnswerer</th>\n",
              "      <th>ArticleFile</th>\n",
              "    </tr>\n",
              "  </thead>\n",
              "  <tbody>\n",
              "    <tr>\n",
              "      <th>0</th>\n",
              "      <td>Alessandro_Volta</td>\n",
              "      <td>Was Alessandro Volta a professor of chemistry?</td>\n",
              "      <td>Alessandro Volta was not a professor of chemis...</td>\n",
              "      <td>easy</td>\n",
              "      <td>easy</td>\n",
              "      <td>data/set4/a10</td>\n",
              "    </tr>\n",
              "    <tr>\n",
              "      <th>1</th>\n",
              "      <td>Alessandro_Volta</td>\n",
              "      <td>Was Alessandro Volta a professor of chemistry?</td>\n",
              "      <td>No</td>\n",
              "      <td>easy</td>\n",
              "      <td>hard</td>\n",
              "      <td>data/set4/a10</td>\n",
              "    </tr>\n",
              "    <tr>\n",
              "      <th>2</th>\n",
              "      <td>Alessandro_Volta</td>\n",
              "      <td>Did Alessandro Volta invent the remotely opera...</td>\n",
              "      <td>Alessandro Volta did invent the remotely opera...</td>\n",
              "      <td>easy</td>\n",
              "      <td>easy</td>\n",
              "      <td>data/set4/a10</td>\n",
              "    </tr>\n",
              "    <tr>\n",
              "      <th>3</th>\n",
              "      <td>Alessandro_Volta</td>\n",
              "      <td>Did Alessandro Volta invent the remotely opera...</td>\n",
              "      <td>Yes</td>\n",
              "      <td>easy</td>\n",
              "      <td>easy</td>\n",
              "      <td>data/set4/a10</td>\n",
              "    </tr>\n",
              "    <tr>\n",
              "      <th>4</th>\n",
              "      <td>Alessandro_Volta</td>\n",
              "      <td>Was Alessandro Volta taught in public schools?</td>\n",
              "      <td>Volta was taught in public schools.</td>\n",
              "      <td>easy</td>\n",
              "      <td>easy</td>\n",
              "      <td>data/set4/a10</td>\n",
              "    </tr>\n",
              "  </tbody>\n",
              "</table>\n",
              "</div>"
            ],
            "text/plain": [
              "       ArticleTitle  ...    ArticleFile\n",
              "0  Alessandro_Volta  ...  data/set4/a10\n",
              "1  Alessandro_Volta  ...  data/set4/a10\n",
              "2  Alessandro_Volta  ...  data/set4/a10\n",
              "3  Alessandro_Volta  ...  data/set4/a10\n",
              "4  Alessandro_Volta  ...  data/set4/a10\n",
              "\n",
              "[5 rows x 6 columns]"
            ]
          },
          "metadata": {
            "tags": []
          },
          "execution_count": 16
        }
      ]
    },
    {
      "cell_type": "code",
      "metadata": {
        "id": "laoUUr1Y78rf"
      },
      "source": [
        "cleaned_qa = combined_qa[['Question', 'Answer']]\n",
        "cleaned_qa = cleaned_qa.dropna()"
      ],
      "execution_count": null,
      "outputs": []
    },
    {
      "cell_type": "code",
      "metadata": {
        "colab": {
          "base_uri": "https://localhost:8080/",
          "height": 417
        },
        "id": "s4K5Imug8Feu",
        "outputId": "e06d5ecb-5140-4a24-d570-58cb428ec20a"
      },
      "source": [
        "cleaned_qa"
      ],
      "execution_count": null,
      "outputs": [
        {
          "output_type": "execute_result",
          "data": {
            "text/html": [
              "<div>\n",
              "<style scoped>\n",
              "    .dataframe tbody tr th:only-of-type {\n",
              "        vertical-align: middle;\n",
              "    }\n",
              "\n",
              "    .dataframe tbody tr th {\n",
              "        vertical-align: top;\n",
              "    }\n",
              "\n",
              "    .dataframe thead th {\n",
              "        text-align: right;\n",
              "    }\n",
              "</style>\n",
              "<table border=\"1\" class=\"dataframe\">\n",
              "  <thead>\n",
              "    <tr style=\"text-align: right;\">\n",
              "      <th></th>\n",
              "      <th>Question</th>\n",
              "      <th>Answer</th>\n",
              "    </tr>\n",
              "  </thead>\n",
              "  <tbody>\n",
              "    <tr>\n",
              "      <th>0</th>\n",
              "      <td>Was Alessandro Volta a professor of chemistry?</td>\n",
              "      <td>Alessandro Volta was not a professor of chemis...</td>\n",
              "    </tr>\n",
              "    <tr>\n",
              "      <th>1</th>\n",
              "      <td>Was Alessandro Volta a professor of chemistry?</td>\n",
              "      <td>No</td>\n",
              "    </tr>\n",
              "    <tr>\n",
              "      <th>2</th>\n",
              "      <td>Did Alessandro Volta invent the remotely opera...</td>\n",
              "      <td>Alessandro Volta did invent the remotely opera...</td>\n",
              "    </tr>\n",
              "    <tr>\n",
              "      <th>3</th>\n",
              "      <td>Did Alessandro Volta invent the remotely opera...</td>\n",
              "      <td>Yes</td>\n",
              "    </tr>\n",
              "    <tr>\n",
              "      <th>4</th>\n",
              "      <td>Was Alessandro Volta taught in public schools?</td>\n",
              "      <td>Volta was taught in public schools.</td>\n",
              "    </tr>\n",
              "    <tr>\n",
              "      <th>...</th>\n",
              "      <td>...</td>\n",
              "      <td>...</td>\n",
              "    </tr>\n",
              "    <tr>\n",
              "      <th>1710</th>\n",
              "      <td>Was Wilson president of the American Political...</td>\n",
              "      <td>Yes</td>\n",
              "    </tr>\n",
              "    <tr>\n",
              "      <th>1711</th>\n",
              "      <td>Did he not cast his ballot for John M. Palmer ...</td>\n",
              "      <td>Yes</td>\n",
              "    </tr>\n",
              "    <tr>\n",
              "      <th>1712</th>\n",
              "      <td>Did Wilson not spend 1914 through the beginnin...</td>\n",
              "      <td>Yes</td>\n",
              "    </tr>\n",
              "    <tr>\n",
              "      <th>1713</th>\n",
              "      <td>Was Wilson , a staunch opponent of antisemitis...</td>\n",
              "      <td>Yes</td>\n",
              "    </tr>\n",
              "    <tr>\n",
              "      <th>1714</th>\n",
              "      <td>What happened in 1917?</td>\n",
              "      <td>raised billions through Liberty loans, imposed...</td>\n",
              "    </tr>\n",
              "  </tbody>\n",
              "</table>\n",
              "<p>3422 rows × 2 columns</p>\n",
              "</div>"
            ],
            "text/plain": [
              "                                               Question                                             Answer\n",
              "0        Was Alessandro Volta a professor of chemistry?  Alessandro Volta was not a professor of chemis...\n",
              "1        Was Alessandro Volta a professor of chemistry?                                                 No\n",
              "2     Did Alessandro Volta invent the remotely opera...  Alessandro Volta did invent the remotely opera...\n",
              "3     Did Alessandro Volta invent the remotely opera...                                                Yes\n",
              "4        Was Alessandro Volta taught in public schools?                Volta was taught in public schools.\n",
              "...                                                 ...                                                ...\n",
              "1710  Was Wilson president of the American Political...                                                Yes\n",
              "1711  Did he not cast his ballot for John M. Palmer ...                                                Yes\n",
              "1712  Did Wilson not spend 1914 through the beginnin...                                                Yes\n",
              "1713  Was Wilson , a staunch opponent of antisemitis...                                                Yes\n",
              "1714                             What happened in 1917?  raised billions through Liberty loans, imposed...\n",
              "\n",
              "[3422 rows x 2 columns]"
            ]
          },
          "metadata": {
            "tags": []
          },
          "execution_count": 21
        }
      ]
    },
    {
      "cell_type": "code",
      "metadata": {
        "id": "-aq_hiO08ZdG"
      },
      "source": [
        "cleaned_qa.to_csv('wikiqa_dataset.csv')"
      ],
      "execution_count": null,
      "outputs": []
    },
    {
      "cell_type": "markdown",
      "metadata": {
        "id": "TBLC4RRLuIxa"
      },
      "source": [
        "## Wiki QA Dataset"
      ]
    },
    {
      "cell_type": "code",
      "metadata": {
        "id": "Xe76WJFTRypc",
        "colab": {
          "base_uri": "https://localhost:8080/"
        },
        "outputId": "8b0cc390-bf5b-4220-aca8-b1eda8760b69"
      },
      "source": [
        "! gdown https://drive.google.com/uc?id=1FFTtPmxu63Dljelg8YsRRn8Yz475MWyv"
      ],
      "execution_count": null,
      "outputs": [
        {
          "output_type": "stream",
          "text": [
            "Downloading...\n",
            "From: https://drive.google.com/uc?id=1FFTtPmxu63Dljelg8YsRRn8Yz475MWyv\n",
            "To: /content/wikiqa_dataset.csv\n",
            "\r  0% 0.00/275k [00:00<?, ?B/s]\r100% 275k/275k [00:00<00:00, 72.0MB/s]\n"
          ],
          "name": "stdout"
        }
      ]
    },
    {
      "cell_type": "code",
      "metadata": {
        "id": "i41RArj-uQnc"
      },
      "source": [
        "import pandas as pd"
      ],
      "execution_count": null,
      "outputs": []
    },
    {
      "cell_type": "code",
      "metadata": {
        "colab": {
          "base_uri": "https://localhost:8080/",
          "height": 417
        },
        "id": "dGAi8zOVuUbR",
        "outputId": "8ff16755-bf3a-4e3b-9a35-246774784ff5"
      },
      "source": [
        "pd.read_csv('/content/wikiqa_dataset.csv', index_col=0)"
      ],
      "execution_count": null,
      "outputs": [
        {
          "output_type": "execute_result",
          "data": {
            "text/html": [
              "<div>\n",
              "<style scoped>\n",
              "    .dataframe tbody tr th:only-of-type {\n",
              "        vertical-align: middle;\n",
              "    }\n",
              "\n",
              "    .dataframe tbody tr th {\n",
              "        vertical-align: top;\n",
              "    }\n",
              "\n",
              "    .dataframe thead th {\n",
              "        text-align: right;\n",
              "    }\n",
              "</style>\n",
              "<table border=\"1\" class=\"dataframe\">\n",
              "  <thead>\n",
              "    <tr style=\"text-align: right;\">\n",
              "      <th></th>\n",
              "      <th>Question</th>\n",
              "      <th>Answer</th>\n",
              "    </tr>\n",
              "  </thead>\n",
              "  <tbody>\n",
              "    <tr>\n",
              "      <th>0</th>\n",
              "      <td>Was Alessandro Volta a professor of chemistry?</td>\n",
              "      <td>Alessandro Volta was not a professor of chemis...</td>\n",
              "    </tr>\n",
              "    <tr>\n",
              "      <th>1</th>\n",
              "      <td>Was Alessandro Volta a professor of chemistry?</td>\n",
              "      <td>No</td>\n",
              "    </tr>\n",
              "    <tr>\n",
              "      <th>2</th>\n",
              "      <td>Did Alessandro Volta invent the remotely opera...</td>\n",
              "      <td>Alessandro Volta did invent the remotely opera...</td>\n",
              "    </tr>\n",
              "    <tr>\n",
              "      <th>3</th>\n",
              "      <td>Did Alessandro Volta invent the remotely opera...</td>\n",
              "      <td>Yes</td>\n",
              "    </tr>\n",
              "    <tr>\n",
              "      <th>4</th>\n",
              "      <td>Was Alessandro Volta taught in public schools?</td>\n",
              "      <td>Volta was taught in public schools.</td>\n",
              "    </tr>\n",
              "    <tr>\n",
              "      <th>...</th>\n",
              "      <td>...</td>\n",
              "      <td>...</td>\n",
              "    </tr>\n",
              "    <tr>\n",
              "      <th>1710</th>\n",
              "      <td>Was Wilson president of the American Political...</td>\n",
              "      <td>Yes</td>\n",
              "    </tr>\n",
              "    <tr>\n",
              "      <th>1711</th>\n",
              "      <td>Did he not cast his ballot for John M. Palmer ...</td>\n",
              "      <td>Yes</td>\n",
              "    </tr>\n",
              "    <tr>\n",
              "      <th>1712</th>\n",
              "      <td>Did Wilson not spend 1914 through the beginnin...</td>\n",
              "      <td>Yes</td>\n",
              "    </tr>\n",
              "    <tr>\n",
              "      <th>1713</th>\n",
              "      <td>Was Wilson , a staunch opponent of antisemitis...</td>\n",
              "      <td>Yes</td>\n",
              "    </tr>\n",
              "    <tr>\n",
              "      <th>1714</th>\n",
              "      <td>What happened in 1917?</td>\n",
              "      <td>raised billions through Liberty loans, imposed...</td>\n",
              "    </tr>\n",
              "  </tbody>\n",
              "</table>\n",
              "<p>3422 rows × 2 columns</p>\n",
              "</div>"
            ],
            "text/plain": [
              "                                               Question                                             Answer\n",
              "0        Was Alessandro Volta a professor of chemistry?  Alessandro Volta was not a professor of chemis...\n",
              "1        Was Alessandro Volta a professor of chemistry?                                                 No\n",
              "2     Did Alessandro Volta invent the remotely opera...  Alessandro Volta did invent the remotely opera...\n",
              "3     Did Alessandro Volta invent the remotely opera...                                                Yes\n",
              "4        Was Alessandro Volta taught in public schools?                Volta was taught in public schools.\n",
              "...                                                 ...                                                ...\n",
              "1710  Was Wilson president of the American Political...                                                Yes\n",
              "1711  Did he not cast his ballot for John M. Palmer ...                                                Yes\n",
              "1712  Did Wilson not spend 1914 through the beginnin...                                                Yes\n",
              "1713  Was Wilson , a staunch opponent of antisemitis...                                                Yes\n",
              "1714                             What happened in 1917?  raised billions through Liberty loans, imposed...\n",
              "\n",
              "[3422 rows x 2 columns]"
            ]
          },
          "metadata": {
            "tags": []
          },
          "execution_count": 6
        }
      ]
    },
    {
      "cell_type": "code",
      "metadata": {
        "id": "CBzTyOAnu_Zh"
      },
      "source": [
        "import torch\n",
        "import torchtext\n",
        "import gdown\n",
        "\n",
        "import pytorch_lightning as pl\n",
        "\n",
        "from torch.utils.data import Dataset, DataLoader, random_split\n",
        "\n",
        "from torchtext.data.utils import get_tokenizer\n",
        "# from torchtext.vocab import build_vocab_from_iterator\n",
        "\n",
        "import torchtext.experimental.functional as text_f\n",
        "\n",
        "from sklearn.model_selection import train_test_split\n",
        "\n",
        "from pathlib import Path\n",
        "from functools import partial\n",
        "from tqdm.auto import tqdm\n",
        "\n",
        "from collections import Counter\n",
        "from torchtext.vocab import Vocab\n",
        "\n",
        "import pandas as pd\n",
        "\n",
        "from typing import *"
      ],
      "execution_count": null,
      "outputs": []
    },
    {
      "cell_type": "code",
      "metadata": {
        "id": "h0czNpnOzUNx"
      },
      "source": [
        "def build_vocab_from_iterator(iterator, num_lines=None, *args, **kwargs):\n",
        "    \"\"\"\n",
        "    Build a Vocab from an iterator.\n",
        "\n",
        "    Args:\n",
        "        iterator: Iterator used to build Vocab. Must yield list or iterator of tokens.\n",
        "        num_lines: The expected number of elements returned by the iterator.\n",
        "            (Default: None)\n",
        "            Optionally, if known, the expected number of elements can be passed to\n",
        "            this factory function for improved progress reporting.\n",
        "    \"\"\"\n",
        "\n",
        "    counter = Counter()\n",
        "    with tqdm(unit_scale=0, unit='lines', total=num_lines) as t:\n",
        "        for tokens in iterator:\n",
        "            counter.update(tokens)\n",
        "            t.update(1)\n",
        "    word_vocab = Vocab(counter, *args, **kwargs)\n",
        "    return word_vocab"
      ],
      "execution_count": null,
      "outputs": []
    },
    {
      "cell_type": "code",
      "metadata": {
        "id": "OoUs3OpPvBZg"
      },
      "source": [
        "class WikiQADataset(Dataset):\n",
        "    \"\"\"\n",
        "    Wiki QA Dataset\n",
        "    \"\"\"\n",
        "\n",
        "    URL = 'https://drive.google.com/uc?id=1FFTtPmxu63Dljelg8YsRRn8Yz475MWyv'\n",
        "    OUTPUT = 'wikiqa_dataset.csv'\n",
        " \n",
        "\n",
        "    def __init__(self, root, split='train', vocab=None, vectors=None, text_transforms=None, label_transforms=None, ngrams=1):\n",
        "        \"\"\"Initiate dataset.\n",
        "        Args:\n",
        "            vocab: Vocabulary object used for dataset.\n",
        "        \"\"\"\n",
        "\n",
        "        super(self.__class__, self).__init__()\n",
        "\n",
        "        if vectors:\n",
        "            raise NotImplementedError(f'vectors not supported for this dataset as of now') \n",
        "\n",
        "        if split not in ['train', 'test']:\n",
        "            raise ValueError(f'split must be either \"train\" or \"test\" unknown split {split}')\n",
        "\n",
        "        if vocab and vectors:\n",
        "            raise ValueError(f'both vocab and vectors cannot be provided')\n",
        "\n",
        "        self.vocab = vocab\n",
        "        self.vectors = vectors\n",
        "\n",
        "        gdown.cached_download(self.URL, Path(root) / self.OUTPUT)\n",
        "\n",
        "        self.generate_tweet_dataset(Path(root) / self.OUTPUT)\n",
        "\n",
        "        self.train_dset, self.test_dset = train_test_split(self.full_dataset_, test_size=0.3, random_state=42)\n",
        "\n",
        "        if split == 'train':\n",
        "            self.dataset = self.train_dset\n",
        "        elif split == 'test':\n",
        "            self.dataset = self.test_dset\n",
        "        else:\n",
        "            raise ValueError(\"What did you do? you stupid potato?\")\n",
        "\n",
        "        # create the tokenizer, here we use spacy\n",
        "        tokenizer = get_tokenizer(\"spacy\", language=\"en_core_web_sm\")\n",
        "        self.tokenizer = tokenizer\n",
        "\n",
        "        # the text transform can only work at the sentence level\n",
        "        # the rest of tokenization and vocab is done by this class\n",
        "        self.text_transform = text_f.sequential_transforms(tokenizer, text_f.ngrams_func(ngrams))\n",
        "\n",
        "        self.vocab_transforms = text_f.sequential_transforms()\n",
        "        self.vector_transforms = text_f.sequential_transforms()\n",
        "\n",
        "        def build_vocab(data, transforms):\n",
        "            def apply_transforms(data):\n",
        "                for line in data:\n",
        "                    yield transforms(line)\n",
        "            return build_vocab_from_iterator(apply_transforms(data), len(data), specials=['<unk>', '<pad>', '<bos>', '<eos>'])\n",
        "\n",
        "        if self.vectors:\n",
        "            self.vector_transforms = text_f.sequential_transforms(\n",
        "                partial(vectors.get_vecs_by_tokens, lower_case_backup=True)\n",
        "            )\n",
        "        elif self.vocab is None:\n",
        "            self.vocab = build_vocab(\n",
        "                pd.concat([self.train_dset['Question'], self.train_dset['Answer']]),\n",
        "                self.text_transform\n",
        "            )\n",
        "            self.PAD_IDX = self.vocab['<pad>']\n",
        "            self.BOS_IDX = self.vocab['<bos>']\n",
        "            self.EOS_IDX = self.vocab['<eos>']\n",
        "    \n",
        "        # if the user is using vocab, instead of vector\n",
        "        if self.vocab:\n",
        "            self.vocab_transforms = text_f.sequential_transforms(\n",
        "                text_f.vocab_func(self.vocab), text_f.totensor(dtype=torch.long)\n",
        "            )\n",
        "\n",
        "        # label transform is similar to text_transform for this dataset except this does not have vectors\n",
        "        self.label_transform = text_f.sequential_transforms(\n",
        "            self.text_transform, self.vocab_transforms\n",
        "        )\n",
        "\n",
        "        if text_transforms is not None:\n",
        "            self.text_transform = text_f.sequential_transforms(\n",
        "                self.text_transform, text_transforms, self.vocab_transforms, self.vector_transforms \n",
        "            )\n",
        "        else:\n",
        "            self.text_transform = text_f.sequential_transforms(\n",
        "                self.text_transform, self.vocab_transforms, self.vector_transforms\n",
        "            )\n",
        "        \n",
        "\n",
        "    def generate_tweet_dataset(self, dataset_file):\n",
        "        self.full_dataset_ = pd.read_csv(dataset_file)\n",
        "\n",
        "    def __getitem__(self, idx):\n",
        "        text = self.text_transform(self.dataset['Question'].iloc[idx])\n",
        "        label = self.label_transform(self.dataset['Answer'].iloc[idx])\n",
        "        return label, text\n",
        "\n",
        "    def __len__(self):\n",
        "        return len(self.dataset)\n",
        "\n",
        "    def get_vocab(self):\n",
        "        return self.vocab\n",
        "\n",
        "    def get_vectors(self):\n",
        "        return self.vectors\n",
        "\n",
        "    def batch_sampler_fn(self):\n",
        "        raise NotImplementedError(f'batch_sampler function WIP')\n",
        "\n",
        "        def batch_sampler():\n",
        "            indices = [(i, len(self.tokenizer(s[1]))) for i, s in enumerate(train_list)]\n",
        "            random.shuffle(indices)\n",
        "            pooled_indices = []\n",
        "            # create pool of indices with similar lengths \n",
        "            for i in range(0, len(indices), batch_size * 100):\n",
        "                pooled_indices.extend(sorted(indices[i:i + batch_size * 100], key=lambda x: x[1]))\n",
        "\n",
        "            pooled_indices = [x[0] for x in pooled_indices]\n",
        "\n",
        "            # yield indices for current batch\n",
        "            for i in range(0, len(pooled_indices), batch_size):\n",
        "                yield pooled_indices[i:i + batch_size]\n",
        "        return batch_sampler()\n",
        "\n",
        "\n",
        "    def collator_fn(self):\n",
        "        def collate_fn(batch):\n",
        "            \n",
        "            targets, sequences = zip(*batch)\n",
        "\n",
        "            lengths = torch.LongTensor([len(sequence) for sequence in sequences])\n",
        "\n",
        "            targets = [torch.cat([torch.tensor([self.BOS_IDX]), item, torch.tensor([self.EOS_IDX])]) for item in targets]\n",
        "            sequences = [torch.cat([torch.tensor([self.BOS_IDX]), item, torch.tensor([self.EOS_IDX])]) for item in sequences]\n",
        "\n",
        "            if not self.vectors:\n",
        "                pad_idx = self.PAD_IDX\n",
        "                sequences = torch.nn.utils.rnn.pad_sequence(sequences, \n",
        "                                                            padding_value = pad_idx,\n",
        "                                                            batch_first=True\n",
        "                                                            )\n",
        "                targets = torch.nn.utils.rnn.pad_sequence(targets, \n",
        "                                            padding_value = pad_idx,\n",
        "                                            batch_first=True\n",
        "                                            )\n",
        "            \n",
        "            return targets, sequences, lengths\n",
        "        \n",
        "        return collate_fn"
      ],
      "execution_count": null,
      "outputs": []
    },
    {
      "cell_type": "code",
      "metadata": {
        "colab": {
          "base_uri": "https://localhost:8080/",
          "height": 82,
          "referenced_widgets": [
            "8ba4a125cfd94df5b106972c987d854e",
            "2865d643c95c4059a165c3fa822364b7",
            "be4ff395daef47abb618100318b869df",
            "3101c2e421224987b40625a603a0d99a",
            "a4b2577328d94ca3b08617ba0953069e",
            "8293ecc9e0e84e2184fefd873d4a0482",
            "f96d853c4a1e4cde9725eab85bfd2c91",
            "56ef6b94d0874157bcff5826e4630f80"
          ]
        },
        "id": "esVp8YITvZYw",
        "outputId": "29aac63b-e13b-4c2f-f58d-2469d3913979"
      },
      "source": [
        "dataset = WikiQADataset(root='.', split='train')"
      ],
      "execution_count": null,
      "outputs": [
        {
          "output_type": "stream",
          "text": [
            "File exists: wikiqa_dataset.csv\n"
          ],
          "name": "stdout"
        },
        {
          "output_type": "display_data",
          "data": {
            "application/vnd.jupyter.widget-view+json": {
              "model_id": "8ba4a125cfd94df5b106972c987d854e",
              "version_minor": 0,
              "version_major": 2
            },
            "text/plain": [
              "HBox(children=(FloatProgress(value=0.0, max=4790.0), HTML(value='')))"
            ]
          },
          "metadata": {
            "tags": []
          }
        },
        {
          "output_type": "stream",
          "text": [
            "\n"
          ],
          "name": "stdout"
        }
      ]
    },
    {
      "cell_type": "code",
      "metadata": {
        "colab": {
          "base_uri": "https://localhost:8080/"
        },
        "id": "k08MkDBsvcFu",
        "outputId": "a7d406d7-85cc-4385-a5fe-41ddbb683f88"
      },
      "source": [
        "dataset[0]"
      ],
      "execution_count": null,
      "outputs": [
        {
          "output_type": "execute_result",
          "data": {
            "text/plain": [
              "(tensor([17]), tensor([ 144, 3025,  620, 1758,  396, 4026,    8,  372,    4]))"
            ]
          },
          "metadata": {
            "tags": []
          },
          "execution_count": 31
        }
      ]
    },
    {
      "cell_type": "code",
      "metadata": {
        "id": "JJWeV5Civd5s"
      },
      "source": [
        "loader = DataLoader(\n",
        "            dataset,\n",
        "            batch_size=16,\n",
        "            shuffle=False,\n",
        "            num_workers=2,\n",
        "            pin_memory=True,\n",
        "            collate_fn=dataset.collator_fn()\n",
        "        )"
      ],
      "execution_count": null,
      "outputs": []
    },
    {
      "cell_type": "code",
      "metadata": {
        "id": "iv8X_8zbvf7D"
      },
      "source": [
        "targets, sequences, lengths = next(iter(loader))"
      ],
      "execution_count": null,
      "outputs": []
    },
    {
      "cell_type": "code",
      "metadata": {
        "colab": {
          "base_uri": "https://localhost:8080/"
        },
        "id": "_bxPnodRvhs7",
        "outputId": "56bc2b9b-9914-4116-f016-b44d8d7d26d5"
      },
      "source": [
        "targets.shape, sequences.shape, len(lengths)"
      ],
      "execution_count": null,
      "outputs": [
        {
          "output_type": "execute_result",
          "data": {
            "text/plain": [
              "(torch.Size([16, 15]), torch.Size([16, 14]), 16)"
            ]
          },
          "metadata": {
            "tags": []
          },
          "execution_count": 34
        }
      ]
    },
    {
      "cell_type": "code",
      "metadata": {
        "colab": {
          "base_uri": "https://localhost:8080/",
          "height": 35
        },
        "id": "RvRpy1_DvjFX",
        "outputId": "0ecdee63-a228-4589-c4cc-ef796ff5babc"
      },
      "source": [
        "' '.join(dataset.get_vocab().itos[x] for x in sequences[0])"
      ],
      "execution_count": null,
      "outputs": [
        {
          "output_type": "execute_result",
          "data": {
            "application/vnd.google.colaboratory.intrinsic+json": {
              "type": "string"
            },
            "text/plain": [
              "'<bos> Can you meet someone through attending a church ? <eos> <pad> <pad> <pad>'"
            ]
          },
          "metadata": {
            "tags": []
          },
          "execution_count": 35
        }
      ]
    },
    {
      "cell_type": "code",
      "metadata": {
        "colab": {
          "base_uri": "https://localhost:8080/",
          "height": 35
        },
        "id": "ddRXxvFWvkeN",
        "outputId": "14d14ca0-aca3-4793-cb87-bac922825b81"
      },
      "source": [
        "' '.join(dataset.get_vocab().itos[x] for x in targets[0])"
      ],
      "execution_count": null,
      "outputs": [
        {
          "output_type": "execute_result",
          "data": {
            "application/vnd.google.colaboratory.intrinsic+json": {
              "type": "string"
            },
            "text/plain": [
              "'<bos> yes <eos> <pad> <pad> <pad> <pad> <pad> <pad> <pad> <pad> <pad> <pad> <pad> <pad>'"
            ]
          },
          "metadata": {
            "tags": []
          },
          "execution_count": 36
        }
      ]
    },
    {
      "cell_type": "code",
      "metadata": {
        "id": "T5PAJOZgvmAz"
      },
      "source": [
        "class WikiQADataModule(pl.LightningDataModule):\n",
        "    \"\"\"\n",
        "    DataModule for Quora Similar Questions, train, val, test splits and transforms\n",
        "    \"\"\"\n",
        "\n",
        "    name = \"quora similar questions\"\n",
        "\n",
        "    def __init__(\n",
        "        self,\n",
        "        data_dir: str = '.',\n",
        "        num_workers: int = 2,\n",
        "        batch_size: int = 128,\n",
        "        *args,\n",
        "        **kwargs,\n",
        "    ):\n",
        "        \"\"\"\n",
        "        Args:\n",
        "            data_dir: where to save/load the data\n",
        "            val_split: how many of the training images to use for the validation split\n",
        "            num_workers: how many workers to use for loading data\n",
        "            normalize: If true applies image normalize\n",
        "            batch_size: desired batch size.\n",
        "        \"\"\"\n",
        "        super().__init__(*args, **kwargs)\n",
        "\n",
        "        self.data_dir = data_dir\n",
        "        self.num_workers = num_workers\n",
        "        self.batch_size = batch_size\n",
        "\n",
        "        self.dataset_train = ...\n",
        "        self.dataset_val = ...\n",
        "        self.dataset_test = ...\n",
        "        self.vectors = ...\n",
        "\n",
        "        self.Dataset = WikiQADataset\n",
        "\n",
        "    def prepare_data(self):\n",
        "        \"\"\"Saves IMDB files to `data_dir`\"\"\"\n",
        "        self.Dataset(self.data_dir)\n",
        "\n",
        "    def setup(self, stage: Optional[str] = None):\n",
        "        \"\"\"Split the train and valid dataset\"\"\"\n",
        "\n",
        "        self.dataset_train = self.Dataset(self.data_dir, split='train')\n",
        "        self.dataset_test = self.Dataset(self.data_dir, split='test')\n",
        "\n",
        "    def train_dataloader(self):\n",
        "        loader = DataLoader(\n",
        "            self.dataset_train,\n",
        "            batch_size=self.batch_size,\n",
        "            shuffle=True,\n",
        "            num_workers=self.num_workers,\n",
        "            pin_memory=True,\n",
        "            collate_fn=self.collator_fn\n",
        "        )\n",
        "        return loader\n",
        "\n",
        "    def val_dataloader(self):\n",
        "        loader = DataLoader(\n",
        "            self.dataset_test,\n",
        "            batch_size=self.batch_size,\n",
        "            shuffle=False,\n",
        "            num_workers=self.num_workers,\n",
        "            pin_memory=True,\n",
        "            collate_fn=self.collator_fn\n",
        "        )\n",
        "        return loader\n",
        "\n",
        "    def test_dataloader(self):\n",
        "        loader = DataLoader(\n",
        "            self.dataset_test,\n",
        "            batch_size=self.batch_size,\n",
        "            shuffle=False,\n",
        "            num_workers=self.num_workers,\n",
        "            pin_memory=True,\n",
        "            collate_fn=self.collator_fn\n",
        "        )\n",
        "        return loader\n",
        "\n",
        "    def get_vocab(self):\n",
        "        return self.dataset_train.get_vocab()\n",
        "    \n",
        "    def get_vectors(self):\n",
        "        return self.dataset_train.get_vectors()\n",
        "\n",
        "    @property\n",
        "    def default_transforms(self):\n",
        "        raise NotImplementedError(f'default_transforms not implemented')\n",
        "        train_transforms = {\n",
        "            'text_transforms': text_f.sequential_transforms(\n",
        "                random_deletion,\n",
        "                random_swap\n",
        "            ),\n",
        "            'label_transforms': None\n",
        "        }\n",
        "        test_transforms = {\n",
        "            'text_transforms': None,\n",
        "            'label_transforms': None\n",
        "        }\n",
        "\n",
        "        return train_transforms, test_transforms\n",
        "\n",
        "    @property\n",
        "    def collator_fn(self):\n",
        "        return self.dataset_train.collator_fn()"
      ],
      "execution_count": null,
      "outputs": []
    },
    {
      "cell_type": "code",
      "metadata": {
        "colab": {
          "base_uri": "https://localhost:8080/",
          "height": 148,
          "referenced_widgets": [
            "17f5f04e6b9e4902957d49f5a408a02c",
            "4fc05706f1fe442dba99c611b880ba52",
            "bcb861b31bba4134be053b99abd5a8bb",
            "30414b2e62ef4ea2a6b741414bd283f2",
            "6e59053c90454fe4b12d1cd93e488e90",
            "6b03bab25ea940eea35342c74e51775b",
            "1f0f3618f68b4f749deb5d71f69d19ce",
            "67f6a1e6cfdc4681a7f43e77065c448d",
            "0ea053f18cb5418ca5a4a20b2d7a0338",
            "abac6eeafabe445eb9d41b25a9467fef",
            "cd2cb3f6466c441d8815c584b6f9c737",
            "48a9822cf2a6407b94504302056a2dad",
            "33f915e21d4d407da52f65e24fc307f5",
            "97185cb870cf402a8857ef11f0b66482",
            "a290407397964aaaa6e7c2a64d0d8ca9",
            "2632510a00e640f0a48df3a1b607ebd0"
          ]
        },
        "id": "WK01ymedvu88",
        "outputId": "277c5401-278f-4627-8b0f-557cdea11813"
      },
      "source": [
        "datamodule = WikiQADataModule(batch_size=16)\n",
        "datamodule.setup()"
      ],
      "execution_count": null,
      "outputs": [
        {
          "output_type": "stream",
          "text": [
            "File exists: wikiqa_dataset.csv\n"
          ],
          "name": "stdout"
        },
        {
          "output_type": "display_data",
          "data": {
            "application/vnd.jupyter.widget-view+json": {
              "model_id": "17f5f04e6b9e4902957d49f5a408a02c",
              "version_minor": 0,
              "version_major": 2
            },
            "text/plain": [
              "HBox(children=(FloatProgress(value=0.0, max=4790.0), HTML(value='')))"
            ]
          },
          "metadata": {
            "tags": []
          }
        },
        {
          "output_type": "stream",
          "text": [
            "\n",
            "File exists: wikiqa_dataset.csv\n"
          ],
          "name": "stdout"
        },
        {
          "output_type": "display_data",
          "data": {
            "application/vnd.jupyter.widget-view+json": {
              "model_id": "0ea053f18cb5418ca5a4a20b2d7a0338",
              "version_minor": 0,
              "version_major": 2
            },
            "text/plain": [
              "HBox(children=(FloatProgress(value=0.0, max=4790.0), HTML(value='')))"
            ]
          },
          "metadata": {
            "tags": []
          }
        },
        {
          "output_type": "stream",
          "text": [
            "\n"
          ],
          "name": "stdout"
        }
      ]
    },
    {
      "cell_type": "code",
      "metadata": {
        "id": "w5v9S9mvvw-y"
      },
      "source": [
        "train_loader = datamodule.train_dataloader()\n",
        "val_loader = datamodule.val_dataloader()\n",
        "test_loader = datamodule.test_dataloader()"
      ],
      "execution_count": null,
      "outputs": []
    },
    {
      "cell_type": "code",
      "metadata": {
        "colab": {
          "base_uri": "https://localhost:8080/"
        },
        "id": "qKofACecv0hu",
        "outputId": "2b624bae-357f-4b3b-cf29-d81a292a6cd7"
      },
      "source": [
        "len(train_loader), len(val_loader), len(test_loader)"
      ],
      "execution_count": null,
      "outputs": [
        {
          "output_type": "execute_result",
          "data": {
            "text/plain": [
              "(150, 65, 65)"
            ]
          },
          "metadata": {
            "tags": []
          },
          "execution_count": 40
        }
      ]
    },
    {
      "cell_type": "code",
      "metadata": {
        "id": "Qp9PtoHzv1-s"
      },
      "source": [
        "a, b, c = next(iter(train_loader))"
      ],
      "execution_count": null,
      "outputs": []
    },
    {
      "cell_type": "code",
      "metadata": {
        "colab": {
          "base_uri": "https://localhost:8080/"
        },
        "id": "SYTSgmciv3Ue",
        "outputId": "c0b3013d-18ed-4701-dcd3-09ebf9b6d12a"
      },
      "source": [
        "a.shape, b.shape, len(c)"
      ],
      "execution_count": null,
      "outputs": [
        {
          "output_type": "execute_result",
          "data": {
            "text/plain": [
              "(torch.Size([16, 19]), torch.Size([16, 16]), 16)"
            ]
          },
          "metadata": {
            "tags": []
          },
          "execution_count": 42
        }
      ]
    },
    {
      "cell_type": "code",
      "metadata": {
        "id": "-NJPNpmCv4mQ"
      },
      "source": [
        ""
      ],
      "execution_count": null,
      "outputs": []
    }
  ]
}