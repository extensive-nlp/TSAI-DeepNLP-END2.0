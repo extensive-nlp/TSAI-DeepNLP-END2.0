{
  "nbformat": 4,
  "nbformat_minor": 0,
  "metadata": {
    "accelerator": "GPU",
    "colab": {
      "name": "Attention_Advanced.ipynb",
      "provenance": [],
      "collapsed_sections": [],
      "authorship_tag": "ABX9TyMWFqjN8Rt+EzDTLBxBY5Rv",
      "include_colab_link": true
    },
    "kernelspec": {
      "display_name": "Python 3",
      "name": "python3"
    },
    "language_info": {
      "name": "python"
    },
    "widgets": {
      "application/vnd.jupyter.widget-state+json": {
        "bcafca1d00094c50ab6d2b14efbe9403": {
          "model_module": "@jupyter-widgets/controls",
          "model_name": "HBoxModel",
          "state": {
            "_view_name": "HBoxView",
            "_dom_classes": [],
            "_model_name": "HBoxModel",
            "_view_module": "@jupyter-widgets/controls",
            "_model_module_version": "1.5.0",
            "_view_count": null,
            "_view_module_version": "1.5.0",
            "box_style": "",
            "layout": "IPY_MODEL_7e2d20bcd3e34b06b5c80eef83f6ad8d",
            "_model_module": "@jupyter-widgets/controls",
            "children": [
              "IPY_MODEL_3f75025058b34bcbb195ff3a78483341",
              "IPY_MODEL_9c3ec82be84d4eb69ddf839e0ed6772f",
              "IPY_MODEL_213fa93535bc4fb98aeed870f53947f5"
            ]
          }
        },
        "7e2d20bcd3e34b06b5c80eef83f6ad8d": {
          "model_module": "@jupyter-widgets/base",
          "model_name": "LayoutModel",
          "state": {
            "_view_name": "LayoutView",
            "grid_template_rows": null,
            "right": null,
            "justify_content": null,
            "_view_module": "@jupyter-widgets/base",
            "overflow": null,
            "_model_module_version": "1.2.0",
            "_view_count": null,
            "flex_flow": "row wrap",
            "width": "100%",
            "min_width": null,
            "border": null,
            "align_items": null,
            "bottom": null,
            "_model_module": "@jupyter-widgets/base",
            "top": null,
            "grid_column": null,
            "overflow_y": null,
            "overflow_x": null,
            "grid_auto_flow": null,
            "grid_area": null,
            "grid_template_columns": null,
            "flex": null,
            "_model_name": "LayoutModel",
            "justify_items": null,
            "grid_row": null,
            "max_height": null,
            "align_content": null,
            "visibility": null,
            "align_self": null,
            "height": null,
            "min_height": null,
            "padding": null,
            "grid_auto_rows": null,
            "grid_gap": null,
            "max_width": null,
            "order": null,
            "_view_module_version": "1.2.0",
            "grid_template_areas": null,
            "object_position": null,
            "object_fit": null,
            "grid_auto_columns": null,
            "margin": null,
            "display": "inline-flex",
            "left": null
          }
        },
        "3f75025058b34bcbb195ff3a78483341": {
          "model_module": "@jupyter-widgets/controls",
          "model_name": "HTMLModel",
          "state": {
            "_view_name": "HTMLView",
            "style": "IPY_MODEL_8a8f0d96a4604c50b1ebfc26cd07b022",
            "_dom_classes": [],
            "description": "",
            "_model_name": "HTMLModel",
            "placeholder": "​",
            "_view_module": "@jupyter-widgets/controls",
            "_model_module_version": "1.5.0",
            "value": "Validation sanity check:   0%",
            "_view_count": null,
            "_view_module_version": "1.5.0",
            "description_tooltip": null,
            "_model_module": "@jupyter-widgets/controls",
            "layout": "IPY_MODEL_e01c112978c74ff79fe3c2381892479e"
          }
        },
        "9c3ec82be84d4eb69ddf839e0ed6772f": {
          "model_module": "@jupyter-widgets/controls",
          "model_name": "FloatProgressModel",
          "state": {
            "_view_name": "ProgressView",
            "style": "IPY_MODEL_97c8cd5be2614c59960512726bf3545d",
            "_dom_classes": [],
            "description": "",
            "_model_name": "FloatProgressModel",
            "bar_style": "danger",
            "max": 2,
            "_view_module": "@jupyter-widgets/controls",
            "_model_module_version": "1.5.0",
            "value": 0,
            "_view_count": null,
            "_view_module_version": "1.5.0",
            "orientation": "horizontal",
            "min": 0,
            "description_tooltip": null,
            "_model_module": "@jupyter-widgets/controls",
            "layout": "IPY_MODEL_e42c1a1989be478dbc7699f542de9ae3"
          }
        },
        "213fa93535bc4fb98aeed870f53947f5": {
          "model_module": "@jupyter-widgets/controls",
          "model_name": "HTMLModel",
          "state": {
            "_view_name": "HTMLView",
            "style": "IPY_MODEL_ab2f94d510204b0d9f591c74ea765462",
            "_dom_classes": [],
            "description": "",
            "_model_name": "HTMLModel",
            "placeholder": "​",
            "_view_module": "@jupyter-widgets/controls",
            "_model_module_version": "1.5.0",
            "value": " 0/2 [00:00&lt;?, ?it/s]",
            "_view_count": null,
            "_view_module_version": "1.5.0",
            "description_tooltip": null,
            "_model_module": "@jupyter-widgets/controls",
            "layout": "IPY_MODEL_ca0d0dc2d851411eafc261b5b6599691"
          }
        },
        "8a8f0d96a4604c50b1ebfc26cd07b022": {
          "model_module": "@jupyter-widgets/controls",
          "model_name": "DescriptionStyleModel",
          "state": {
            "_view_name": "StyleView",
            "_model_name": "DescriptionStyleModel",
            "description_width": "",
            "_view_module": "@jupyter-widgets/base",
            "_model_module_version": "1.5.0",
            "_view_count": null,
            "_view_module_version": "1.2.0",
            "_model_module": "@jupyter-widgets/controls"
          }
        },
        "e01c112978c74ff79fe3c2381892479e": {
          "model_module": "@jupyter-widgets/base",
          "model_name": "LayoutModel",
          "state": {
            "_view_name": "LayoutView",
            "grid_template_rows": null,
            "right": null,
            "justify_content": null,
            "_view_module": "@jupyter-widgets/base",
            "overflow": null,
            "_model_module_version": "1.2.0",
            "_view_count": null,
            "flex_flow": null,
            "width": null,
            "min_width": null,
            "border": null,
            "align_items": null,
            "bottom": null,
            "_model_module": "@jupyter-widgets/base",
            "top": null,
            "grid_column": null,
            "overflow_y": null,
            "overflow_x": null,
            "grid_auto_flow": null,
            "grid_area": null,
            "grid_template_columns": null,
            "flex": null,
            "_model_name": "LayoutModel",
            "justify_items": null,
            "grid_row": null,
            "max_height": null,
            "align_content": null,
            "visibility": null,
            "align_self": null,
            "height": null,
            "min_height": null,
            "padding": null,
            "grid_auto_rows": null,
            "grid_gap": null,
            "max_width": null,
            "order": null,
            "_view_module_version": "1.2.0",
            "grid_template_areas": null,
            "object_position": null,
            "object_fit": null,
            "grid_auto_columns": null,
            "margin": null,
            "display": null,
            "left": null
          }
        },
        "97c8cd5be2614c59960512726bf3545d": {
          "model_module": "@jupyter-widgets/controls",
          "model_name": "ProgressStyleModel",
          "state": {
            "_view_name": "StyleView",
            "_model_name": "ProgressStyleModel",
            "description_width": "",
            "_view_module": "@jupyter-widgets/base",
            "_model_module_version": "1.5.0",
            "_view_count": null,
            "_view_module_version": "1.2.0",
            "bar_color": null,
            "_model_module": "@jupyter-widgets/controls"
          }
        },
        "e42c1a1989be478dbc7699f542de9ae3": {
          "model_module": "@jupyter-widgets/base",
          "model_name": "LayoutModel",
          "state": {
            "_view_name": "LayoutView",
            "grid_template_rows": null,
            "right": null,
            "justify_content": null,
            "_view_module": "@jupyter-widgets/base",
            "overflow": null,
            "_model_module_version": "1.2.0",
            "_view_count": null,
            "flex_flow": null,
            "width": null,
            "min_width": null,
            "border": null,
            "align_items": null,
            "bottom": null,
            "_model_module": "@jupyter-widgets/base",
            "top": null,
            "grid_column": null,
            "overflow_y": null,
            "overflow_x": null,
            "grid_auto_flow": null,
            "grid_area": null,
            "grid_template_columns": null,
            "flex": "2",
            "_model_name": "LayoutModel",
            "justify_items": null,
            "grid_row": null,
            "max_height": null,
            "align_content": null,
            "visibility": null,
            "align_self": null,
            "height": null,
            "min_height": null,
            "padding": null,
            "grid_auto_rows": null,
            "grid_gap": null,
            "max_width": null,
            "order": null,
            "_view_module_version": "1.2.0",
            "grid_template_areas": null,
            "object_position": null,
            "object_fit": null,
            "grid_auto_columns": null,
            "margin": null,
            "display": null,
            "left": null
          }
        },
        "ab2f94d510204b0d9f591c74ea765462": {
          "model_module": "@jupyter-widgets/controls",
          "model_name": "DescriptionStyleModel",
          "state": {
            "_view_name": "StyleView",
            "_model_name": "DescriptionStyleModel",
            "description_width": "",
            "_view_module": "@jupyter-widgets/base",
            "_model_module_version": "1.5.0",
            "_view_count": null,
            "_view_module_version": "1.2.0",
            "_model_module": "@jupyter-widgets/controls"
          }
        },
        "ca0d0dc2d851411eafc261b5b6599691": {
          "model_module": "@jupyter-widgets/base",
          "model_name": "LayoutModel",
          "state": {
            "_view_name": "LayoutView",
            "grid_template_rows": null,
            "right": null,
            "justify_content": null,
            "_view_module": "@jupyter-widgets/base",
            "overflow": null,
            "_model_module_version": "1.2.0",
            "_view_count": null,
            "flex_flow": null,
            "width": null,
            "min_width": null,
            "border": null,
            "align_items": null,
            "bottom": null,
            "_model_module": "@jupyter-widgets/base",
            "top": null,
            "grid_column": null,
            "overflow_y": null,
            "overflow_x": null,
            "grid_auto_flow": null,
            "grid_area": null,
            "grid_template_columns": null,
            "flex": null,
            "_model_name": "LayoutModel",
            "justify_items": null,
            "grid_row": null,
            "max_height": null,
            "align_content": null,
            "visibility": null,
            "align_self": null,
            "height": null,
            "min_height": null,
            "padding": null,
            "grid_auto_rows": null,
            "grid_gap": null,
            "max_width": null,
            "order": null,
            "_view_module_version": "1.2.0",
            "grid_template_areas": null,
            "object_position": null,
            "object_fit": null,
            "grid_auto_columns": null,
            "margin": null,
            "display": null,
            "left": null
          }
        },
        "5aff67c2100a47cb95507f5491137584": {
          "model_module": "@jupyter-widgets/controls",
          "model_name": "HBoxModel",
          "state": {
            "_view_name": "HBoxView",
            "_dom_classes": [],
            "_model_name": "HBoxModel",
            "_view_module": "@jupyter-widgets/controls",
            "_model_module_version": "1.5.0",
            "_view_count": null,
            "_view_module_version": "1.5.0",
            "box_style": "",
            "layout": "IPY_MODEL_90aa683cfd144c4fb0eb166578ed45ce",
            "_model_module": "@jupyter-widgets/controls",
            "children": [
              "IPY_MODEL_dab6d723d8fe472e893fb6092d1846bd",
              "IPY_MODEL_fb3d50bcb37c474596188073e26b9d18",
              "IPY_MODEL_48b513e1d37543a0b72e44352ebadeef"
            ]
          }
        },
        "90aa683cfd144c4fb0eb166578ed45ce": {
          "model_module": "@jupyter-widgets/base",
          "model_name": "LayoutModel",
          "state": {
            "_view_name": "LayoutView",
            "grid_template_rows": null,
            "right": null,
            "justify_content": null,
            "_view_module": "@jupyter-widgets/base",
            "overflow": null,
            "_model_module_version": "1.2.0",
            "_view_count": null,
            "flex_flow": "row wrap",
            "width": "100%",
            "min_width": null,
            "border": null,
            "align_items": null,
            "bottom": null,
            "_model_module": "@jupyter-widgets/base",
            "top": null,
            "grid_column": null,
            "overflow_y": null,
            "overflow_x": null,
            "grid_auto_flow": null,
            "grid_area": null,
            "grid_template_columns": null,
            "flex": null,
            "_model_name": "LayoutModel",
            "justify_items": null,
            "grid_row": null,
            "max_height": null,
            "align_content": null,
            "visibility": null,
            "align_self": null,
            "height": null,
            "min_height": null,
            "padding": null,
            "grid_auto_rows": null,
            "grid_gap": null,
            "max_width": null,
            "order": null,
            "_view_module_version": "1.2.0",
            "grid_template_areas": null,
            "object_position": null,
            "object_fit": null,
            "grid_auto_columns": null,
            "margin": null,
            "display": "inline-flex",
            "left": null
          }
        },
        "dab6d723d8fe472e893fb6092d1846bd": {
          "model_module": "@jupyter-widgets/controls",
          "model_name": "HTMLModel",
          "state": {
            "_view_name": "HTMLView",
            "style": "IPY_MODEL_7ecd3586939142eda4975f15d1726878",
            "_dom_classes": [],
            "description": "",
            "_model_name": "HTMLModel",
            "placeholder": "​",
            "_view_module": "@jupyter-widgets/controls",
            "_model_module_version": "1.5.0",
            "value": "Epoch 4:   2%",
            "_view_count": null,
            "_view_module_version": "1.5.0",
            "description_tooltip": null,
            "_model_module": "@jupyter-widgets/controls",
            "layout": "IPY_MODEL_3950e972bf1e4a5abe7356d19000a2a9"
          }
        },
        "fb3d50bcb37c474596188073e26b9d18": {
          "model_module": "@jupyter-widgets/controls",
          "model_name": "FloatProgressModel",
          "state": {
            "_view_name": "ProgressView",
            "style": "IPY_MODEL_40dbfcc39a0548e5bfe2f65e8af09e52",
            "_dom_classes": [],
            "description": "",
            "_model_name": "FloatProgressModel",
            "bar_style": "",
            "max": 10599,
            "_view_module": "@jupyter-widgets/controls",
            "_model_module_version": "1.5.0",
            "value": 180,
            "_view_count": null,
            "_view_module_version": "1.5.0",
            "orientation": "horizontal",
            "min": 0,
            "description_tooltip": null,
            "_model_module": "@jupyter-widgets/controls",
            "layout": "IPY_MODEL_fe05638e6e5642af997e8833c2210c30"
          }
        },
        "48b513e1d37543a0b72e44352ebadeef": {
          "model_module": "@jupyter-widgets/controls",
          "model_name": "HTMLModel",
          "state": {
            "_view_name": "HTMLView",
            "style": "IPY_MODEL_4fc38ae788804f92a496c9100cbbce74",
            "_dom_classes": [],
            "description": "",
            "_model_name": "HTMLModel",
            "placeholder": "​",
            "_view_module": "@jupyter-widgets/controls",
            "_model_module_version": "1.5.0",
            "value": " 180/10599 [00:17&lt;16:51, 10.30it/s, v_num=8, val_loss=1.710, train_loss=2.740]",
            "_view_count": null,
            "_view_module_version": "1.5.0",
            "description_tooltip": null,
            "_model_module": "@jupyter-widgets/controls",
            "layout": "IPY_MODEL_a91ee829c2ba4950bbe6cf97a96ec644"
          }
        },
        "7ecd3586939142eda4975f15d1726878": {
          "model_module": "@jupyter-widgets/controls",
          "model_name": "DescriptionStyleModel",
          "state": {
            "_view_name": "StyleView",
            "_model_name": "DescriptionStyleModel",
            "description_width": "",
            "_view_module": "@jupyter-widgets/base",
            "_model_module_version": "1.5.0",
            "_view_count": null,
            "_view_module_version": "1.2.0",
            "_model_module": "@jupyter-widgets/controls"
          }
        },
        "3950e972bf1e4a5abe7356d19000a2a9": {
          "model_module": "@jupyter-widgets/base",
          "model_name": "LayoutModel",
          "state": {
            "_view_name": "LayoutView",
            "grid_template_rows": null,
            "right": null,
            "justify_content": null,
            "_view_module": "@jupyter-widgets/base",
            "overflow": null,
            "_model_module_version": "1.2.0",
            "_view_count": null,
            "flex_flow": null,
            "width": null,
            "min_width": null,
            "border": null,
            "align_items": null,
            "bottom": null,
            "_model_module": "@jupyter-widgets/base",
            "top": null,
            "grid_column": null,
            "overflow_y": null,
            "overflow_x": null,
            "grid_auto_flow": null,
            "grid_area": null,
            "grid_template_columns": null,
            "flex": null,
            "_model_name": "LayoutModel",
            "justify_items": null,
            "grid_row": null,
            "max_height": null,
            "align_content": null,
            "visibility": null,
            "align_self": null,
            "height": null,
            "min_height": null,
            "padding": null,
            "grid_auto_rows": null,
            "grid_gap": null,
            "max_width": null,
            "order": null,
            "_view_module_version": "1.2.0",
            "grid_template_areas": null,
            "object_position": null,
            "object_fit": null,
            "grid_auto_columns": null,
            "margin": null,
            "display": null,
            "left": null
          }
        },
        "40dbfcc39a0548e5bfe2f65e8af09e52": {
          "model_module": "@jupyter-widgets/controls",
          "model_name": "ProgressStyleModel",
          "state": {
            "_view_name": "StyleView",
            "_model_name": "ProgressStyleModel",
            "description_width": "",
            "_view_module": "@jupyter-widgets/base",
            "_model_module_version": "1.5.0",
            "_view_count": null,
            "_view_module_version": "1.2.0",
            "bar_color": null,
            "_model_module": "@jupyter-widgets/controls"
          }
        },
        "fe05638e6e5642af997e8833c2210c30": {
          "model_module": "@jupyter-widgets/base",
          "model_name": "LayoutModel",
          "state": {
            "_view_name": "LayoutView",
            "grid_template_rows": null,
            "right": null,
            "justify_content": null,
            "_view_module": "@jupyter-widgets/base",
            "overflow": null,
            "_model_module_version": "1.2.0",
            "_view_count": null,
            "flex_flow": null,
            "width": null,
            "min_width": null,
            "border": null,
            "align_items": null,
            "bottom": null,
            "_model_module": "@jupyter-widgets/base",
            "top": null,
            "grid_column": null,
            "overflow_y": null,
            "overflow_x": null,
            "grid_auto_flow": null,
            "grid_area": null,
            "grid_template_columns": null,
            "flex": "2",
            "_model_name": "LayoutModel",
            "justify_items": null,
            "grid_row": null,
            "max_height": null,
            "align_content": null,
            "visibility": null,
            "align_self": null,
            "height": null,
            "min_height": null,
            "padding": null,
            "grid_auto_rows": null,
            "grid_gap": null,
            "max_width": null,
            "order": null,
            "_view_module_version": "1.2.0",
            "grid_template_areas": null,
            "object_position": null,
            "object_fit": null,
            "grid_auto_columns": null,
            "margin": null,
            "display": null,
            "left": null
          }
        },
        "4fc38ae788804f92a496c9100cbbce74": {
          "model_module": "@jupyter-widgets/controls",
          "model_name": "DescriptionStyleModel",
          "state": {
            "_view_name": "StyleView",
            "_model_name": "DescriptionStyleModel",
            "description_width": "",
            "_view_module": "@jupyter-widgets/base",
            "_model_module_version": "1.5.0",
            "_view_count": null,
            "_view_module_version": "1.2.0",
            "_model_module": "@jupyter-widgets/controls"
          }
        },
        "a91ee829c2ba4950bbe6cf97a96ec644": {
          "model_module": "@jupyter-widgets/base",
          "model_name": "LayoutModel",
          "state": {
            "_view_name": "LayoutView",
            "grid_template_rows": null,
            "right": null,
            "justify_content": null,
            "_view_module": "@jupyter-widgets/base",
            "overflow": null,
            "_model_module_version": "1.2.0",
            "_view_count": null,
            "flex_flow": null,
            "width": null,
            "min_width": null,
            "border": null,
            "align_items": null,
            "bottom": null,
            "_model_module": "@jupyter-widgets/base",
            "top": null,
            "grid_column": null,
            "overflow_y": null,
            "overflow_x": null,
            "grid_auto_flow": null,
            "grid_area": null,
            "grid_template_columns": null,
            "flex": null,
            "_model_name": "LayoutModel",
            "justify_items": null,
            "grid_row": null,
            "max_height": null,
            "align_content": null,
            "visibility": null,
            "align_self": null,
            "height": null,
            "min_height": null,
            "padding": null,
            "grid_auto_rows": null,
            "grid_gap": null,
            "max_width": null,
            "order": null,
            "_view_module_version": "1.2.0",
            "grid_template_areas": null,
            "object_position": null,
            "object_fit": null,
            "grid_auto_columns": null,
            "margin": null,
            "display": null,
            "left": null
          }
        },
        "1e9f426fa8d449b4bce25c594e9fb83d": {
          "model_module": "@jupyter-widgets/controls",
          "model_name": "HBoxModel",
          "state": {
            "_view_name": "HBoxView",
            "_dom_classes": [],
            "_model_name": "HBoxModel",
            "_view_module": "@jupyter-widgets/controls",
            "_model_module_version": "1.5.0",
            "_view_count": null,
            "_view_module_version": "1.5.0",
            "box_style": "",
            "layout": "IPY_MODEL_0c015265309841cc9b4cfe46386b107b",
            "_model_module": "@jupyter-widgets/controls",
            "children": [
              "IPY_MODEL_2aa784c0f30340d993f618c2b883aa04",
              "IPY_MODEL_a3e9429e609747d09613a70f30451877",
              "IPY_MODEL_aa20610df54645018c2b32d87be04b2e"
            ]
          }
        },
        "0c015265309841cc9b4cfe46386b107b": {
          "model_module": "@jupyter-widgets/base",
          "model_name": "LayoutModel",
          "state": {
            "_view_name": "LayoutView",
            "grid_template_rows": null,
            "right": null,
            "justify_content": null,
            "_view_module": "@jupyter-widgets/base",
            "overflow": null,
            "_model_module_version": "1.2.0",
            "_view_count": null,
            "flex_flow": "row wrap",
            "width": "100%",
            "min_width": null,
            "border": null,
            "align_items": null,
            "bottom": null,
            "_model_module": "@jupyter-widgets/base",
            "top": null,
            "grid_column": null,
            "overflow_y": null,
            "overflow_x": null,
            "grid_auto_flow": null,
            "grid_area": null,
            "grid_template_columns": null,
            "flex": null,
            "_model_name": "LayoutModel",
            "justify_items": null,
            "grid_row": null,
            "max_height": null,
            "align_content": null,
            "visibility": null,
            "align_self": null,
            "height": null,
            "min_height": null,
            "padding": null,
            "grid_auto_rows": null,
            "grid_gap": null,
            "max_width": null,
            "order": null,
            "_view_module_version": "1.2.0",
            "grid_template_areas": null,
            "object_position": null,
            "object_fit": null,
            "grid_auto_columns": null,
            "margin": null,
            "display": "inline-flex",
            "left": null
          }
        },
        "2aa784c0f30340d993f618c2b883aa04": {
          "model_module": "@jupyter-widgets/controls",
          "model_name": "HTMLModel",
          "state": {
            "_view_name": "HTMLView",
            "style": "IPY_MODEL_586ee6b653634b4fb706e60f7547ecad",
            "_dom_classes": [],
            "description": "",
            "_model_name": "HTMLModel",
            "placeholder": "​",
            "_view_module": "@jupyter-widgets/controls",
            "_model_module_version": "1.5.0",
            "value": "Validating: 100%",
            "_view_count": null,
            "_view_module_version": "1.5.0",
            "description_tooltip": null,
            "_model_module": "@jupyter-widgets/controls",
            "layout": "IPY_MODEL_59de193df4704945bd8ced13730b3773"
          }
        },
        "a3e9429e609747d09613a70f30451877": {
          "model_module": "@jupyter-widgets/controls",
          "model_name": "FloatProgressModel",
          "state": {
            "_view_name": "ProgressView",
            "style": "IPY_MODEL_da793a0317fa47bda361894c5143c9eb",
            "_dom_classes": [],
            "description": "",
            "_model_name": "FloatProgressModel",
            "bar_style": "",
            "max": 3180,
            "_view_module": "@jupyter-widgets/controls",
            "_model_module_version": "1.5.0",
            "value": 3180,
            "_view_count": null,
            "_view_module_version": "1.5.0",
            "orientation": "horizontal",
            "min": 0,
            "description_tooltip": null,
            "_model_module": "@jupyter-widgets/controls",
            "layout": "IPY_MODEL_53877a707e4c47acbab98c1435ec1942"
          }
        },
        "aa20610df54645018c2b32d87be04b2e": {
          "model_module": "@jupyter-widgets/controls",
          "model_name": "HTMLModel",
          "state": {
            "_view_name": "HTMLView",
            "style": "IPY_MODEL_e32614c208604356927d27121144cd2e",
            "_dom_classes": [],
            "description": "",
            "_model_name": "HTMLModel",
            "placeholder": "​",
            "_view_module": "@jupyter-widgets/controls",
            "_model_module_version": "1.5.0",
            "value": " 3180/3180 [01:03&lt;00:00, 51.22it/s]",
            "_view_count": null,
            "_view_module_version": "1.5.0",
            "description_tooltip": null,
            "_model_module": "@jupyter-widgets/controls",
            "layout": "IPY_MODEL_f286276f95ac42b1a2b7396036099aa1"
          }
        },
        "586ee6b653634b4fb706e60f7547ecad": {
          "model_module": "@jupyter-widgets/controls",
          "model_name": "DescriptionStyleModel",
          "state": {
            "_view_name": "StyleView",
            "_model_name": "DescriptionStyleModel",
            "description_width": "",
            "_view_module": "@jupyter-widgets/base",
            "_model_module_version": "1.5.0",
            "_view_count": null,
            "_view_module_version": "1.2.0",
            "_model_module": "@jupyter-widgets/controls"
          }
        },
        "59de193df4704945bd8ced13730b3773": {
          "model_module": "@jupyter-widgets/base",
          "model_name": "LayoutModel",
          "state": {
            "_view_name": "LayoutView",
            "grid_template_rows": null,
            "right": null,
            "justify_content": null,
            "_view_module": "@jupyter-widgets/base",
            "overflow": null,
            "_model_module_version": "1.2.0",
            "_view_count": null,
            "flex_flow": null,
            "width": null,
            "min_width": null,
            "border": null,
            "align_items": null,
            "bottom": null,
            "_model_module": "@jupyter-widgets/base",
            "top": null,
            "grid_column": null,
            "overflow_y": null,
            "overflow_x": null,
            "grid_auto_flow": null,
            "grid_area": null,
            "grid_template_columns": null,
            "flex": null,
            "_model_name": "LayoutModel",
            "justify_items": null,
            "grid_row": null,
            "max_height": null,
            "align_content": null,
            "visibility": null,
            "align_self": null,
            "height": null,
            "min_height": null,
            "padding": null,
            "grid_auto_rows": null,
            "grid_gap": null,
            "max_width": null,
            "order": null,
            "_view_module_version": "1.2.0",
            "grid_template_areas": null,
            "object_position": null,
            "object_fit": null,
            "grid_auto_columns": null,
            "margin": null,
            "display": null,
            "left": null
          }
        },
        "da793a0317fa47bda361894c5143c9eb": {
          "model_module": "@jupyter-widgets/controls",
          "model_name": "ProgressStyleModel",
          "state": {
            "_view_name": "StyleView",
            "_model_name": "ProgressStyleModel",
            "description_width": "",
            "_view_module": "@jupyter-widgets/base",
            "_model_module_version": "1.5.0",
            "_view_count": null,
            "_view_module_version": "1.2.0",
            "bar_color": null,
            "_model_module": "@jupyter-widgets/controls"
          }
        },
        "53877a707e4c47acbab98c1435ec1942": {
          "model_module": "@jupyter-widgets/base",
          "model_name": "LayoutModel",
          "state": {
            "_view_name": "LayoutView",
            "grid_template_rows": null,
            "right": null,
            "justify_content": null,
            "_view_module": "@jupyter-widgets/base",
            "overflow": null,
            "_model_module_version": "1.2.0",
            "_view_count": null,
            "flex_flow": null,
            "width": null,
            "min_width": null,
            "border": null,
            "align_items": null,
            "bottom": null,
            "_model_module": "@jupyter-widgets/base",
            "top": null,
            "grid_column": null,
            "overflow_y": null,
            "overflow_x": null,
            "grid_auto_flow": null,
            "grid_area": null,
            "grid_template_columns": null,
            "flex": "2",
            "_model_name": "LayoutModel",
            "justify_items": null,
            "grid_row": null,
            "max_height": null,
            "align_content": null,
            "visibility": null,
            "align_self": null,
            "height": null,
            "min_height": null,
            "padding": null,
            "grid_auto_rows": null,
            "grid_gap": null,
            "max_width": null,
            "order": null,
            "_view_module_version": "1.2.0",
            "grid_template_areas": null,
            "object_position": null,
            "object_fit": null,
            "grid_auto_columns": null,
            "margin": null,
            "display": null,
            "left": null
          }
        },
        "e32614c208604356927d27121144cd2e": {
          "model_module": "@jupyter-widgets/controls",
          "model_name": "DescriptionStyleModel",
          "state": {
            "_view_name": "StyleView",
            "_model_name": "DescriptionStyleModel",
            "description_width": "",
            "_view_module": "@jupyter-widgets/base",
            "_model_module_version": "1.5.0",
            "_view_count": null,
            "_view_module_version": "1.2.0",
            "_model_module": "@jupyter-widgets/controls"
          }
        },
        "f286276f95ac42b1a2b7396036099aa1": {
          "model_module": "@jupyter-widgets/base",
          "model_name": "LayoutModel",
          "state": {
            "_view_name": "LayoutView",
            "grid_template_rows": null,
            "right": null,
            "justify_content": null,
            "_view_module": "@jupyter-widgets/base",
            "overflow": null,
            "_model_module_version": "1.2.0",
            "_view_count": null,
            "flex_flow": null,
            "width": null,
            "min_width": null,
            "border": null,
            "align_items": null,
            "bottom": null,
            "_model_module": "@jupyter-widgets/base",
            "top": null,
            "grid_column": null,
            "overflow_y": null,
            "overflow_x": null,
            "grid_auto_flow": null,
            "grid_area": null,
            "grid_template_columns": null,
            "flex": null,
            "_model_name": "LayoutModel",
            "justify_items": null,
            "grid_row": null,
            "max_height": null,
            "align_content": null,
            "visibility": null,
            "align_self": null,
            "height": null,
            "min_height": null,
            "padding": null,
            "grid_auto_rows": null,
            "grid_gap": null,
            "max_width": null,
            "order": null,
            "_view_module_version": "1.2.0",
            "grid_template_areas": null,
            "object_position": null,
            "object_fit": null,
            "grid_auto_columns": null,
            "margin": null,
            "display": null,
            "left": null
          }
        },
        "2ed50e12ed3a46a8a5b625df1e99f63d": {
          "model_module": "@jupyter-widgets/controls",
          "model_name": "HBoxModel",
          "state": {
            "_view_name": "HBoxView",
            "_dom_classes": [],
            "_model_name": "HBoxModel",
            "_view_module": "@jupyter-widgets/controls",
            "_model_module_version": "1.5.0",
            "_view_count": null,
            "_view_module_version": "1.5.0",
            "box_style": "",
            "layout": "IPY_MODEL_a59369d260344085b59419bd845f1cb0",
            "_model_module": "@jupyter-widgets/controls",
            "children": [
              "IPY_MODEL_db3dd23229554f1bb4ab9fed0036c27b",
              "IPY_MODEL_cab0e33b66834c86ae90653ce3260d3a",
              "IPY_MODEL_f3ea43e0824a4bff84ff6c5e757a722d"
            ]
          }
        },
        "a59369d260344085b59419bd845f1cb0": {
          "model_module": "@jupyter-widgets/base",
          "model_name": "LayoutModel",
          "state": {
            "_view_name": "LayoutView",
            "grid_template_rows": null,
            "right": null,
            "justify_content": null,
            "_view_module": "@jupyter-widgets/base",
            "overflow": null,
            "_model_module_version": "1.2.0",
            "_view_count": null,
            "flex_flow": "row wrap",
            "width": "100%",
            "min_width": null,
            "border": null,
            "align_items": null,
            "bottom": null,
            "_model_module": "@jupyter-widgets/base",
            "top": null,
            "grid_column": null,
            "overflow_y": null,
            "overflow_x": null,
            "grid_auto_flow": null,
            "grid_area": null,
            "grid_template_columns": null,
            "flex": null,
            "_model_name": "LayoutModel",
            "justify_items": null,
            "grid_row": null,
            "max_height": null,
            "align_content": null,
            "visibility": null,
            "align_self": null,
            "height": null,
            "min_height": null,
            "padding": null,
            "grid_auto_rows": null,
            "grid_gap": null,
            "max_width": null,
            "order": null,
            "_view_module_version": "1.2.0",
            "grid_template_areas": null,
            "object_position": null,
            "object_fit": null,
            "grid_auto_columns": null,
            "margin": null,
            "display": "inline-flex",
            "left": null
          }
        },
        "db3dd23229554f1bb4ab9fed0036c27b": {
          "model_module": "@jupyter-widgets/controls",
          "model_name": "HTMLModel",
          "state": {
            "_view_name": "HTMLView",
            "style": "IPY_MODEL_fb46015d5c9f4832a0a89d022f7237f9",
            "_dom_classes": [],
            "description": "",
            "_model_name": "HTMLModel",
            "placeholder": "​",
            "_view_module": "@jupyter-widgets/controls",
            "_model_module_version": "1.5.0",
            "value": "Validating: 100%",
            "_view_count": null,
            "_view_module_version": "1.5.0",
            "description_tooltip": null,
            "_model_module": "@jupyter-widgets/controls",
            "layout": "IPY_MODEL_fd1f6c6e83684be7845ee73fb4647a4e"
          }
        },
        "cab0e33b66834c86ae90653ce3260d3a": {
          "model_module": "@jupyter-widgets/controls",
          "model_name": "FloatProgressModel",
          "state": {
            "_view_name": "ProgressView",
            "style": "IPY_MODEL_5a1d7cb5c7d04410afa62f9d55088789",
            "_dom_classes": [],
            "description": "",
            "_model_name": "FloatProgressModel",
            "bar_style": "",
            "max": 3180,
            "_view_module": "@jupyter-widgets/controls",
            "_model_module_version": "1.5.0",
            "value": 3180,
            "_view_count": null,
            "_view_module_version": "1.5.0",
            "orientation": "horizontal",
            "min": 0,
            "description_tooltip": null,
            "_model_module": "@jupyter-widgets/controls",
            "layout": "IPY_MODEL_8f143c29f33b460694ab88403badf243"
          }
        },
        "f3ea43e0824a4bff84ff6c5e757a722d": {
          "model_module": "@jupyter-widgets/controls",
          "model_name": "HTMLModel",
          "state": {
            "_view_name": "HTMLView",
            "style": "IPY_MODEL_a59c3ec29fa548dab45e3e5c1b3968d3",
            "_dom_classes": [],
            "description": "",
            "_model_name": "HTMLModel",
            "placeholder": "​",
            "_view_module": "@jupyter-widgets/controls",
            "_model_module_version": "1.5.0",
            "value": " 3180/3180 [01:05&lt;00:00, 49.17it/s]",
            "_view_count": null,
            "_view_module_version": "1.5.0",
            "description_tooltip": null,
            "_model_module": "@jupyter-widgets/controls",
            "layout": "IPY_MODEL_2864f95411544e1889783a1857e6afb1"
          }
        },
        "fb46015d5c9f4832a0a89d022f7237f9": {
          "model_module": "@jupyter-widgets/controls",
          "model_name": "DescriptionStyleModel",
          "state": {
            "_view_name": "StyleView",
            "_model_name": "DescriptionStyleModel",
            "description_width": "",
            "_view_module": "@jupyter-widgets/base",
            "_model_module_version": "1.5.0",
            "_view_count": null,
            "_view_module_version": "1.2.0",
            "_model_module": "@jupyter-widgets/controls"
          }
        },
        "fd1f6c6e83684be7845ee73fb4647a4e": {
          "model_module": "@jupyter-widgets/base",
          "model_name": "LayoutModel",
          "state": {
            "_view_name": "LayoutView",
            "grid_template_rows": null,
            "right": null,
            "justify_content": null,
            "_view_module": "@jupyter-widgets/base",
            "overflow": null,
            "_model_module_version": "1.2.0",
            "_view_count": null,
            "flex_flow": null,
            "width": null,
            "min_width": null,
            "border": null,
            "align_items": null,
            "bottom": null,
            "_model_module": "@jupyter-widgets/base",
            "top": null,
            "grid_column": null,
            "overflow_y": null,
            "overflow_x": null,
            "grid_auto_flow": null,
            "grid_area": null,
            "grid_template_columns": null,
            "flex": null,
            "_model_name": "LayoutModel",
            "justify_items": null,
            "grid_row": null,
            "max_height": null,
            "align_content": null,
            "visibility": null,
            "align_self": null,
            "height": null,
            "min_height": null,
            "padding": null,
            "grid_auto_rows": null,
            "grid_gap": null,
            "max_width": null,
            "order": null,
            "_view_module_version": "1.2.0",
            "grid_template_areas": null,
            "object_position": null,
            "object_fit": null,
            "grid_auto_columns": null,
            "margin": null,
            "display": null,
            "left": null
          }
        },
        "5a1d7cb5c7d04410afa62f9d55088789": {
          "model_module": "@jupyter-widgets/controls",
          "model_name": "ProgressStyleModel",
          "state": {
            "_view_name": "StyleView",
            "_model_name": "ProgressStyleModel",
            "description_width": "",
            "_view_module": "@jupyter-widgets/base",
            "_model_module_version": "1.5.0",
            "_view_count": null,
            "_view_module_version": "1.2.0",
            "bar_color": null,
            "_model_module": "@jupyter-widgets/controls"
          }
        },
        "8f143c29f33b460694ab88403badf243": {
          "model_module": "@jupyter-widgets/base",
          "model_name": "LayoutModel",
          "state": {
            "_view_name": "LayoutView",
            "grid_template_rows": null,
            "right": null,
            "justify_content": null,
            "_view_module": "@jupyter-widgets/base",
            "overflow": null,
            "_model_module_version": "1.2.0",
            "_view_count": null,
            "flex_flow": null,
            "width": null,
            "min_width": null,
            "border": null,
            "align_items": null,
            "bottom": null,
            "_model_module": "@jupyter-widgets/base",
            "top": null,
            "grid_column": null,
            "overflow_y": null,
            "overflow_x": null,
            "grid_auto_flow": null,
            "grid_area": null,
            "grid_template_columns": null,
            "flex": "2",
            "_model_name": "LayoutModel",
            "justify_items": null,
            "grid_row": null,
            "max_height": null,
            "align_content": null,
            "visibility": null,
            "align_self": null,
            "height": null,
            "min_height": null,
            "padding": null,
            "grid_auto_rows": null,
            "grid_gap": null,
            "max_width": null,
            "order": null,
            "_view_module_version": "1.2.0",
            "grid_template_areas": null,
            "object_position": null,
            "object_fit": null,
            "grid_auto_columns": null,
            "margin": null,
            "display": null,
            "left": null
          }
        },
        "a59c3ec29fa548dab45e3e5c1b3968d3": {
          "model_module": "@jupyter-widgets/controls",
          "model_name": "DescriptionStyleModel",
          "state": {
            "_view_name": "StyleView",
            "_model_name": "DescriptionStyleModel",
            "description_width": "",
            "_view_module": "@jupyter-widgets/base",
            "_model_module_version": "1.5.0",
            "_view_count": null,
            "_view_module_version": "1.2.0",
            "_model_module": "@jupyter-widgets/controls"
          }
        },
        "2864f95411544e1889783a1857e6afb1": {
          "model_module": "@jupyter-widgets/base",
          "model_name": "LayoutModel",
          "state": {
            "_view_name": "LayoutView",
            "grid_template_rows": null,
            "right": null,
            "justify_content": null,
            "_view_module": "@jupyter-widgets/base",
            "overflow": null,
            "_model_module_version": "1.2.0",
            "_view_count": null,
            "flex_flow": null,
            "width": null,
            "min_width": null,
            "border": null,
            "align_items": null,
            "bottom": null,
            "_model_module": "@jupyter-widgets/base",
            "top": null,
            "grid_column": null,
            "overflow_y": null,
            "overflow_x": null,
            "grid_auto_flow": null,
            "grid_area": null,
            "grid_template_columns": null,
            "flex": null,
            "_model_name": "LayoutModel",
            "justify_items": null,
            "grid_row": null,
            "max_height": null,
            "align_content": null,
            "visibility": null,
            "align_self": null,
            "height": null,
            "min_height": null,
            "padding": null,
            "grid_auto_rows": null,
            "grid_gap": null,
            "max_width": null,
            "order": null,
            "_view_module_version": "1.2.0",
            "grid_template_areas": null,
            "object_position": null,
            "object_fit": null,
            "grid_auto_columns": null,
            "margin": null,
            "display": null,
            "left": null
          }
        },
        "6e8045fceee744a68a9dfb418f205292": {
          "model_module": "@jupyter-widgets/controls",
          "model_name": "HBoxModel",
          "state": {
            "_view_name": "HBoxView",
            "_dom_classes": [],
            "_model_name": "HBoxModel",
            "_view_module": "@jupyter-widgets/controls",
            "_model_module_version": "1.5.0",
            "_view_count": null,
            "_view_module_version": "1.5.0",
            "box_style": "",
            "layout": "IPY_MODEL_53e3805e417b41748dcb91834cb7e6c5",
            "_model_module": "@jupyter-widgets/controls",
            "children": [
              "IPY_MODEL_edab09dffbca446281b4001d060e5121",
              "IPY_MODEL_4064c37f3a2c4771a59c4d28845ec146",
              "IPY_MODEL_6aa0d719b6074ea3b5e02d8279f5780c"
            ]
          }
        },
        "53e3805e417b41748dcb91834cb7e6c5": {
          "model_module": "@jupyter-widgets/base",
          "model_name": "LayoutModel",
          "state": {
            "_view_name": "LayoutView",
            "grid_template_rows": null,
            "right": null,
            "justify_content": null,
            "_view_module": "@jupyter-widgets/base",
            "overflow": null,
            "_model_module_version": "1.2.0",
            "_view_count": null,
            "flex_flow": "row wrap",
            "width": "100%",
            "min_width": null,
            "border": null,
            "align_items": null,
            "bottom": null,
            "_model_module": "@jupyter-widgets/base",
            "top": null,
            "grid_column": null,
            "overflow_y": null,
            "overflow_x": null,
            "grid_auto_flow": null,
            "grid_area": null,
            "grid_template_columns": null,
            "flex": null,
            "_model_name": "LayoutModel",
            "justify_items": null,
            "grid_row": null,
            "max_height": null,
            "align_content": null,
            "visibility": null,
            "align_self": null,
            "height": null,
            "min_height": null,
            "padding": null,
            "grid_auto_rows": null,
            "grid_gap": null,
            "max_width": null,
            "order": null,
            "_view_module_version": "1.2.0",
            "grid_template_areas": null,
            "object_position": null,
            "object_fit": null,
            "grid_auto_columns": null,
            "margin": null,
            "display": "inline-flex",
            "left": null
          }
        },
        "edab09dffbca446281b4001d060e5121": {
          "model_module": "@jupyter-widgets/controls",
          "model_name": "HTMLModel",
          "state": {
            "_view_name": "HTMLView",
            "style": "IPY_MODEL_142a6adbd3094f6faadc54885dc57e60",
            "_dom_classes": [],
            "description": "",
            "_model_name": "HTMLModel",
            "placeholder": "​",
            "_view_module": "@jupyter-widgets/controls",
            "_model_module_version": "1.5.0",
            "value": "Validating: 100%",
            "_view_count": null,
            "_view_module_version": "1.5.0",
            "description_tooltip": null,
            "_model_module": "@jupyter-widgets/controls",
            "layout": "IPY_MODEL_da87e5c88b254bdf8f8934d703e90a2d"
          }
        },
        "4064c37f3a2c4771a59c4d28845ec146": {
          "model_module": "@jupyter-widgets/controls",
          "model_name": "FloatProgressModel",
          "state": {
            "_view_name": "ProgressView",
            "style": "IPY_MODEL_b16e34d6f87647c587ede4487392c4a2",
            "_dom_classes": [],
            "description": "",
            "_model_name": "FloatProgressModel",
            "bar_style": "",
            "max": 3180,
            "_view_module": "@jupyter-widgets/controls",
            "_model_module_version": "1.5.0",
            "value": 3180,
            "_view_count": null,
            "_view_module_version": "1.5.0",
            "orientation": "horizontal",
            "min": 0,
            "description_tooltip": null,
            "_model_module": "@jupyter-widgets/controls",
            "layout": "IPY_MODEL_3f5eda79af144829ac502f9711568dc7"
          }
        },
        "6aa0d719b6074ea3b5e02d8279f5780c": {
          "model_module": "@jupyter-widgets/controls",
          "model_name": "HTMLModel",
          "state": {
            "_view_name": "HTMLView",
            "style": "IPY_MODEL_daca5658d73e4bddafd9dc950a97e86d",
            "_dom_classes": [],
            "description": "",
            "_model_name": "HTMLModel",
            "placeholder": "​",
            "_view_module": "@jupyter-widgets/controls",
            "_model_module_version": "1.5.0",
            "value": " 3180/3180 [01:04&lt;00:00, 47.16it/s]",
            "_view_count": null,
            "_view_module_version": "1.5.0",
            "description_tooltip": null,
            "_model_module": "@jupyter-widgets/controls",
            "layout": "IPY_MODEL_468fe0b872824d7db0aa71d716043564"
          }
        },
        "142a6adbd3094f6faadc54885dc57e60": {
          "model_module": "@jupyter-widgets/controls",
          "model_name": "DescriptionStyleModel",
          "state": {
            "_view_name": "StyleView",
            "_model_name": "DescriptionStyleModel",
            "description_width": "",
            "_view_module": "@jupyter-widgets/base",
            "_model_module_version": "1.5.0",
            "_view_count": null,
            "_view_module_version": "1.2.0",
            "_model_module": "@jupyter-widgets/controls"
          }
        },
        "da87e5c88b254bdf8f8934d703e90a2d": {
          "model_module": "@jupyter-widgets/base",
          "model_name": "LayoutModel",
          "state": {
            "_view_name": "LayoutView",
            "grid_template_rows": null,
            "right": null,
            "justify_content": null,
            "_view_module": "@jupyter-widgets/base",
            "overflow": null,
            "_model_module_version": "1.2.0",
            "_view_count": null,
            "flex_flow": null,
            "width": null,
            "min_width": null,
            "border": null,
            "align_items": null,
            "bottom": null,
            "_model_module": "@jupyter-widgets/base",
            "top": null,
            "grid_column": null,
            "overflow_y": null,
            "overflow_x": null,
            "grid_auto_flow": null,
            "grid_area": null,
            "grid_template_columns": null,
            "flex": null,
            "_model_name": "LayoutModel",
            "justify_items": null,
            "grid_row": null,
            "max_height": null,
            "align_content": null,
            "visibility": null,
            "align_self": null,
            "height": null,
            "min_height": null,
            "padding": null,
            "grid_auto_rows": null,
            "grid_gap": null,
            "max_width": null,
            "order": null,
            "_view_module_version": "1.2.0",
            "grid_template_areas": null,
            "object_position": null,
            "object_fit": null,
            "grid_auto_columns": null,
            "margin": null,
            "display": null,
            "left": null
          }
        },
        "b16e34d6f87647c587ede4487392c4a2": {
          "model_module": "@jupyter-widgets/controls",
          "model_name": "ProgressStyleModel",
          "state": {
            "_view_name": "StyleView",
            "_model_name": "ProgressStyleModel",
            "description_width": "",
            "_view_module": "@jupyter-widgets/base",
            "_model_module_version": "1.5.0",
            "_view_count": null,
            "_view_module_version": "1.2.0",
            "bar_color": null,
            "_model_module": "@jupyter-widgets/controls"
          }
        },
        "3f5eda79af144829ac502f9711568dc7": {
          "model_module": "@jupyter-widgets/base",
          "model_name": "LayoutModel",
          "state": {
            "_view_name": "LayoutView",
            "grid_template_rows": null,
            "right": null,
            "justify_content": null,
            "_view_module": "@jupyter-widgets/base",
            "overflow": null,
            "_model_module_version": "1.2.0",
            "_view_count": null,
            "flex_flow": null,
            "width": null,
            "min_width": null,
            "border": null,
            "align_items": null,
            "bottom": null,
            "_model_module": "@jupyter-widgets/base",
            "top": null,
            "grid_column": null,
            "overflow_y": null,
            "overflow_x": null,
            "grid_auto_flow": null,
            "grid_area": null,
            "grid_template_columns": null,
            "flex": "2",
            "_model_name": "LayoutModel",
            "justify_items": null,
            "grid_row": null,
            "max_height": null,
            "align_content": null,
            "visibility": null,
            "align_self": null,
            "height": null,
            "min_height": null,
            "padding": null,
            "grid_auto_rows": null,
            "grid_gap": null,
            "max_width": null,
            "order": null,
            "_view_module_version": "1.2.0",
            "grid_template_areas": null,
            "object_position": null,
            "object_fit": null,
            "grid_auto_columns": null,
            "margin": null,
            "display": null,
            "left": null
          }
        },
        "daca5658d73e4bddafd9dc950a97e86d": {
          "model_module": "@jupyter-widgets/controls",
          "model_name": "DescriptionStyleModel",
          "state": {
            "_view_name": "StyleView",
            "_model_name": "DescriptionStyleModel",
            "description_width": "",
            "_view_module": "@jupyter-widgets/base",
            "_model_module_version": "1.5.0",
            "_view_count": null,
            "_view_module_version": "1.2.0",
            "_model_module": "@jupyter-widgets/controls"
          }
        },
        "468fe0b872824d7db0aa71d716043564": {
          "model_module": "@jupyter-widgets/base",
          "model_name": "LayoutModel",
          "state": {
            "_view_name": "LayoutView",
            "grid_template_rows": null,
            "right": null,
            "justify_content": null,
            "_view_module": "@jupyter-widgets/base",
            "overflow": null,
            "_model_module_version": "1.2.0",
            "_view_count": null,
            "flex_flow": null,
            "width": null,
            "min_width": null,
            "border": null,
            "align_items": null,
            "bottom": null,
            "_model_module": "@jupyter-widgets/base",
            "top": null,
            "grid_column": null,
            "overflow_y": null,
            "overflow_x": null,
            "grid_auto_flow": null,
            "grid_area": null,
            "grid_template_columns": null,
            "flex": null,
            "_model_name": "LayoutModel",
            "justify_items": null,
            "grid_row": null,
            "max_height": null,
            "align_content": null,
            "visibility": null,
            "align_self": null,
            "height": null,
            "min_height": null,
            "padding": null,
            "grid_auto_rows": null,
            "grid_gap": null,
            "max_width": null,
            "order": null,
            "_view_module_version": "1.2.0",
            "grid_template_areas": null,
            "object_position": null,
            "object_fit": null,
            "grid_auto_columns": null,
            "margin": null,
            "display": null,
            "left": null
          }
        },
        "309dd9ccacad495dbab1899e0cb847e7": {
          "model_module": "@jupyter-widgets/controls",
          "model_name": "HBoxModel",
          "state": {
            "_view_name": "HBoxView",
            "_dom_classes": [],
            "_model_name": "HBoxModel",
            "_view_module": "@jupyter-widgets/controls",
            "_model_module_version": "1.5.0",
            "_view_count": null,
            "_view_module_version": "1.5.0",
            "box_style": "",
            "layout": "IPY_MODEL_b195687d3cd84a28a0a06fce1061ef30",
            "_model_module": "@jupyter-widgets/controls",
            "children": [
              "IPY_MODEL_0d85f507646a4e9795e9245b1d9b48a8",
              "IPY_MODEL_d0ddb7382d564d8ba819dfe623d51019",
              "IPY_MODEL_8eab83c4ed5447a9912873188fe5899d"
            ]
          }
        },
        "b195687d3cd84a28a0a06fce1061ef30": {
          "model_module": "@jupyter-widgets/base",
          "model_name": "LayoutModel",
          "state": {
            "_view_name": "LayoutView",
            "grid_template_rows": null,
            "right": null,
            "justify_content": null,
            "_view_module": "@jupyter-widgets/base",
            "overflow": null,
            "_model_module_version": "1.2.0",
            "_view_count": null,
            "flex_flow": "row wrap",
            "width": "100%",
            "min_width": null,
            "border": null,
            "align_items": null,
            "bottom": null,
            "_model_module": "@jupyter-widgets/base",
            "top": null,
            "grid_column": null,
            "overflow_y": null,
            "overflow_x": null,
            "grid_auto_flow": null,
            "grid_area": null,
            "grid_template_columns": null,
            "flex": null,
            "_model_name": "LayoutModel",
            "justify_items": null,
            "grid_row": null,
            "max_height": null,
            "align_content": null,
            "visibility": null,
            "align_self": null,
            "height": null,
            "min_height": null,
            "padding": null,
            "grid_auto_rows": null,
            "grid_gap": null,
            "max_width": null,
            "order": null,
            "_view_module_version": "1.2.0",
            "grid_template_areas": null,
            "object_position": null,
            "object_fit": null,
            "grid_auto_columns": null,
            "margin": null,
            "display": "inline-flex",
            "left": null
          }
        },
        "0d85f507646a4e9795e9245b1d9b48a8": {
          "model_module": "@jupyter-widgets/controls",
          "model_name": "HTMLModel",
          "state": {
            "_view_name": "HTMLView",
            "style": "IPY_MODEL_782c4cf6ec3d4773bd2df120cd212e02",
            "_dom_classes": [],
            "description": "",
            "_model_name": "HTMLModel",
            "placeholder": "​",
            "_view_module": "@jupyter-widgets/controls",
            "_model_module_version": "1.5.0",
            "value": "Validating: 100%",
            "_view_count": null,
            "_view_module_version": "1.5.0",
            "description_tooltip": null,
            "_model_module": "@jupyter-widgets/controls",
            "layout": "IPY_MODEL_a049762341aa45f0a1339c16881d17de"
          }
        },
        "d0ddb7382d564d8ba819dfe623d51019": {
          "model_module": "@jupyter-widgets/controls",
          "model_name": "FloatProgressModel",
          "state": {
            "_view_name": "ProgressView",
            "style": "IPY_MODEL_cb317b3af47f4b1a9b3796f564f5e727",
            "_dom_classes": [],
            "description": "",
            "_model_name": "FloatProgressModel",
            "bar_style": "",
            "max": 3180,
            "_view_module": "@jupyter-widgets/controls",
            "_model_module_version": "1.5.0",
            "value": 3180,
            "_view_count": null,
            "_view_module_version": "1.5.0",
            "orientation": "horizontal",
            "min": 0,
            "description_tooltip": null,
            "_model_module": "@jupyter-widgets/controls",
            "layout": "IPY_MODEL_aee2e66a5bd74d2dafdbca23e9b4f06b"
          }
        },
        "8eab83c4ed5447a9912873188fe5899d": {
          "model_module": "@jupyter-widgets/controls",
          "model_name": "HTMLModel",
          "state": {
            "_view_name": "HTMLView",
            "style": "IPY_MODEL_3c0488299a054b30a52d54932b29dae9",
            "_dom_classes": [],
            "description": "",
            "_model_name": "HTMLModel",
            "placeholder": "​",
            "_view_module": "@jupyter-widgets/controls",
            "_model_module_version": "1.5.0",
            "value": " 3180/3180 [01:04&lt;00:00, 50.19it/s]",
            "_view_count": null,
            "_view_module_version": "1.5.0",
            "description_tooltip": null,
            "_model_module": "@jupyter-widgets/controls",
            "layout": "IPY_MODEL_3d81c89472b54586bca1b73b76e39f68"
          }
        },
        "782c4cf6ec3d4773bd2df120cd212e02": {
          "model_module": "@jupyter-widgets/controls",
          "model_name": "DescriptionStyleModel",
          "state": {
            "_view_name": "StyleView",
            "_model_name": "DescriptionStyleModel",
            "description_width": "",
            "_view_module": "@jupyter-widgets/base",
            "_model_module_version": "1.5.0",
            "_view_count": null,
            "_view_module_version": "1.2.0",
            "_model_module": "@jupyter-widgets/controls"
          }
        },
        "a049762341aa45f0a1339c16881d17de": {
          "model_module": "@jupyter-widgets/base",
          "model_name": "LayoutModel",
          "state": {
            "_view_name": "LayoutView",
            "grid_template_rows": null,
            "right": null,
            "justify_content": null,
            "_view_module": "@jupyter-widgets/base",
            "overflow": null,
            "_model_module_version": "1.2.0",
            "_view_count": null,
            "flex_flow": null,
            "width": null,
            "min_width": null,
            "border": null,
            "align_items": null,
            "bottom": null,
            "_model_module": "@jupyter-widgets/base",
            "top": null,
            "grid_column": null,
            "overflow_y": null,
            "overflow_x": null,
            "grid_auto_flow": null,
            "grid_area": null,
            "grid_template_columns": null,
            "flex": null,
            "_model_name": "LayoutModel",
            "justify_items": null,
            "grid_row": null,
            "max_height": null,
            "align_content": null,
            "visibility": null,
            "align_self": null,
            "height": null,
            "min_height": null,
            "padding": null,
            "grid_auto_rows": null,
            "grid_gap": null,
            "max_width": null,
            "order": null,
            "_view_module_version": "1.2.0",
            "grid_template_areas": null,
            "object_position": null,
            "object_fit": null,
            "grid_auto_columns": null,
            "margin": null,
            "display": null,
            "left": null
          }
        },
        "cb317b3af47f4b1a9b3796f564f5e727": {
          "model_module": "@jupyter-widgets/controls",
          "model_name": "ProgressStyleModel",
          "state": {
            "_view_name": "StyleView",
            "_model_name": "ProgressStyleModel",
            "description_width": "",
            "_view_module": "@jupyter-widgets/base",
            "_model_module_version": "1.5.0",
            "_view_count": null,
            "_view_module_version": "1.2.0",
            "bar_color": null,
            "_model_module": "@jupyter-widgets/controls"
          }
        },
        "aee2e66a5bd74d2dafdbca23e9b4f06b": {
          "model_module": "@jupyter-widgets/base",
          "model_name": "LayoutModel",
          "state": {
            "_view_name": "LayoutView",
            "grid_template_rows": null,
            "right": null,
            "justify_content": null,
            "_view_module": "@jupyter-widgets/base",
            "overflow": null,
            "_model_module_version": "1.2.0",
            "_view_count": null,
            "flex_flow": null,
            "width": null,
            "min_width": null,
            "border": null,
            "align_items": null,
            "bottom": null,
            "_model_module": "@jupyter-widgets/base",
            "top": null,
            "grid_column": null,
            "overflow_y": null,
            "overflow_x": null,
            "grid_auto_flow": null,
            "grid_area": null,
            "grid_template_columns": null,
            "flex": "2",
            "_model_name": "LayoutModel",
            "justify_items": null,
            "grid_row": null,
            "max_height": null,
            "align_content": null,
            "visibility": null,
            "align_self": null,
            "height": null,
            "min_height": null,
            "padding": null,
            "grid_auto_rows": null,
            "grid_gap": null,
            "max_width": null,
            "order": null,
            "_view_module_version": "1.2.0",
            "grid_template_areas": null,
            "object_position": null,
            "object_fit": null,
            "grid_auto_columns": null,
            "margin": null,
            "display": null,
            "left": null
          }
        },
        "3c0488299a054b30a52d54932b29dae9": {
          "model_module": "@jupyter-widgets/controls",
          "model_name": "DescriptionStyleModel",
          "state": {
            "_view_name": "StyleView",
            "_model_name": "DescriptionStyleModel",
            "description_width": "",
            "_view_module": "@jupyter-widgets/base",
            "_model_module_version": "1.5.0",
            "_view_count": null,
            "_view_module_version": "1.2.0",
            "_model_module": "@jupyter-widgets/controls"
          }
        },
        "3d81c89472b54586bca1b73b76e39f68": {
          "model_module": "@jupyter-widgets/base",
          "model_name": "LayoutModel",
          "state": {
            "_view_name": "LayoutView",
            "grid_template_rows": null,
            "right": null,
            "justify_content": null,
            "_view_module": "@jupyter-widgets/base",
            "overflow": null,
            "_model_module_version": "1.2.0",
            "_view_count": null,
            "flex_flow": null,
            "width": null,
            "min_width": null,
            "border": null,
            "align_items": null,
            "bottom": null,
            "_model_module": "@jupyter-widgets/base",
            "top": null,
            "grid_column": null,
            "overflow_y": null,
            "overflow_x": null,
            "grid_auto_flow": null,
            "grid_area": null,
            "grid_template_columns": null,
            "flex": null,
            "_model_name": "LayoutModel",
            "justify_items": null,
            "grid_row": null,
            "max_height": null,
            "align_content": null,
            "visibility": null,
            "align_self": null,
            "height": null,
            "min_height": null,
            "padding": null,
            "grid_auto_rows": null,
            "grid_gap": null,
            "max_width": null,
            "order": null,
            "_view_module_version": "1.2.0",
            "grid_template_areas": null,
            "object_position": null,
            "object_fit": null,
            "grid_auto_columns": null,
            "margin": null,
            "display": null,
            "left": null
          }
        }
      }
    }
  },
  "cells": [
    {
      "cell_type": "markdown",
      "metadata": {
        "id": "view-in-github",
        "colab_type": "text"
      },
      "source": [
        "<a href=\"https://colab.research.google.com/github/satyajitghana/TSAI-DeepNLP-END2.0/blob/main/11_Attention_Advanced/Attention_Advanced.ipynb\" target=\"_parent\"><img src=\"https://colab.research.google.com/assets/colab-badge.svg\" alt=\"Open In Colab\"/></a>"
      ]
    },
    {
      "cell_type": "code",
      "metadata": {
        "colab": {
          "base_uri": "https://localhost:8080/"
        },
        "id": "GgCZ3sRs1twT",
        "outputId": "45878af5-4d27-4a90-f952-81d4fab6e6cb"
      },
      "source": [
        "! pip3 install git+https://github.com/extensive-nlp/ttc_nlp --quiet"
      ],
      "execution_count": 1,
      "outputs": [
        {
          "output_type": "stream",
          "text": [
            "  Installing build dependencies ... \u001b[?25l\u001b[?25hdone\n",
            "  Getting requirements to build wheel ... \u001b[?25l\u001b[?25hdone\n",
            "    Preparing wheel metadata ... \u001b[?25l\u001b[?25hdone\n",
            "\u001b[K     |████████████████████████████████| 76 kB 3.7 MB/s \n",
            "\u001b[K     |████████████████████████████████| 22.3 MB 1.7 MB/s \n",
            "\u001b[K     |████████████████████████████████| 813 kB 62.5 MB/s \n",
            "\u001b[K     |████████████████████████████████| 6.4 MB 51.5 MB/s \n",
            "\u001b[?25h  Installing build dependencies ... \u001b[?25l\u001b[?25hdone\n",
            "  Getting requirements to build wheel ... \u001b[?25l\u001b[?25hdone\n",
            "    Preparing wheel metadata ... \u001b[?25l\u001b[?25hdone\n",
            "\u001b[K     |████████████████████████████████| 74 kB 3.8 MB/s \n",
            "\u001b[K     |████████████████████████████████| 234 kB 74.7 MB/s \n",
            "\u001b[K     |████████████████████████████████| 112 kB 57.3 MB/s \n",
            "\u001b[K     |████████████████████████████████| 636 kB 43.9 MB/s \n",
            "\u001b[K     |████████████████████████████████| 10.6 MB 46.0 MB/s \n",
            "\u001b[K     |████████████████████████████████| 829 kB 30.2 MB/s \n",
            "\u001b[K     |████████████████████████████████| 118 kB 69.0 MB/s \n",
            "\u001b[K     |████████████████████████████████| 1.3 MB 43.2 MB/s \n",
            "\u001b[K     |████████████████████████████████| 42 kB 1.9 MB/s \n",
            "\u001b[K     |████████████████████████████████| 621 kB 55.2 MB/s \n",
            "\u001b[K     |████████████████████████████████| 10.1 MB 43.2 MB/s \n",
            "\u001b[K     |████████████████████████████████| 456 kB 53.2 MB/s \n",
            "\u001b[K     |████████████████████████████████| 142 kB 68.4 MB/s \n",
            "\u001b[K     |████████████████████████████████| 294 kB 71.3 MB/s \n",
            "\u001b[?25h  Building wheel for ttctext (PEP 517) ... \u001b[?25l\u001b[?25hdone\n",
            "  Building wheel for gdown (PEP 517) ... \u001b[?25l\u001b[?25hdone\n",
            "  Building wheel for antlr4-python3-runtime (setup.py) ... \u001b[?25l\u001b[?25hdone\n",
            "  Building wheel for future (setup.py) ... \u001b[?25l\u001b[?25hdone\n",
            "\u001b[31mERROR: pip's dependency resolver does not currently take into account all the packages that are installed. This behaviour is the source of the following dependency conflicts.\n",
            "tensorflow 2.5.0 requires tensorboard~=2.5, but you have tensorboard 2.4.1 which is incompatible.\u001b[0m\n"
          ],
          "name": "stdout"
        }
      ]
    },
    {
      "cell_type": "code",
      "metadata": {
        "id": "-eXfDjWt2Fbi"
      },
      "source": [
        "from ttctext.datamodules.torch_translate import TorchLanguageData"
      ],
      "execution_count": 1,
      "outputs": []
    },
    {
      "cell_type": "markdown",
      "metadata": {
        "id": "YyDBpN6m0kY1"
      },
      "source": [
        "Create the dataset"
      ]
    },
    {
      "cell_type": "code",
      "metadata": {
        "colab": {
          "base_uri": "https://localhost:8080/"
        },
        "id": "XTYVZHMS1-vx",
        "outputId": "ce69b7e1-e8e0-4f3d-a397-e2004c718458"
      },
      "source": [
        "datamodule = TorchLanguageData(\n",
        "    lang_file='eng-fra',\n",
        "    reverse=True,\n",
        "    batch_size=1\n",
        ")"
      ],
      "execution_count": 11,
      "outputs": [
        {
          "output_type": "stream",
          "text": [
            "Reading lines...\n",
            "Read 135842 sentence pairs\n",
            "Trimmed to 10599 sentence pairs\n",
            "Counting words...\n",
            "Counted words:\n",
            "fra 4347\n",
            "eng 2805\n"
          ],
          "name": "stdout"
        }
      ]
    },
    {
      "cell_type": "markdown",
      "metadata": {
        "id": "UOs0D6NS0l1v"
      },
      "source": [
        "`setup` will split the dataset into train and test"
      ]
    },
    {
      "cell_type": "code",
      "metadata": {
        "colab": {
          "base_uri": "https://localhost:8080/"
        },
        "id": "49VJomvR0dTj",
        "outputId": "66231d92-0eb6-4853-9f35-fd464ba1d0ea"
      },
      "source": [
        "datamodule.setup()"
      ],
      "execution_count": 12,
      "outputs": [
        {
          "output_type": "stream",
          "text": [
            "splitting dataset into train and test\"\n"
          ],
          "name": "stdout"
        }
      ]
    },
    {
      "cell_type": "markdown",
      "metadata": {
        "id": "BX_q83OV0sMO"
      },
      "source": [
        "train loader"
      ]
    },
    {
      "cell_type": "code",
      "metadata": {
        "id": "qoQgjk7V0gI2"
      },
      "source": [
        "train_loader = datamodule.train_dataloader()"
      ],
      "execution_count": 13,
      "outputs": []
    },
    {
      "cell_type": "markdown",
      "metadata": {
        "id": "qfP6ShrS0x6W"
      },
      "source": [
        "example batch of data, with `batch_size=1`"
      ]
    },
    {
      "cell_type": "code",
      "metadata": {
        "id": "dKGK83T90s__"
      },
      "source": [
        "batch = next(iter(train_loader))"
      ],
      "execution_count": 14,
      "outputs": []
    },
    {
      "cell_type": "code",
      "metadata": {
        "id": "_z1RRiyM00cq"
      },
      "source": [
        "src_text, tgt_text, raw_src, raw_tgt = batch"
      ],
      "execution_count": 15,
      "outputs": []
    },
    {
      "cell_type": "code",
      "metadata": {
        "colab": {
          "base_uri": "https://localhost:8080/"
        },
        "id": "YcqpAC6n03pm",
        "outputId": "a97d09c2-d660-4e67-aaa0-7ef539c7fc30"
      },
      "source": [
        "print(\n",
        "    f'Source Text: {src_text[0]}\\t\\t'\n",
        "    f'Raw Source Text: {raw_src[0]}\\n'\n",
        "    f'Target Text: {tgt_text[0]}\\t\\t\\t'\n",
        "    f'Raw Target Text: {raw_tgt[0]}'\n",
        ")"
      ],
      "execution_count": 183,
      "outputs": [
        {
          "output_type": "stream",
          "text": [
            "Source Text: tensor([ 13,  16, 463,   4,   3])\t\tRaw Source Text: tu es impatiente .\n",
            "Target Text: tensor([  7,   6, 413,   4,   3])\t\t\tRaw Target Text: you re impatient .\n"
          ],
          "name": "stdout"
        }
      ]
    },
    {
      "cell_type": "markdown",
      "metadata": {
        "id": "8tGgDD3T2exu"
      },
      "source": [
        "## Model & Training Config"
      ]
    },
    {
      "cell_type": "code",
      "metadata": {
        "id": "YyNxO-uO2k9d"
      },
      "source": [
        "torch_dataset = datamodule"
      ],
      "execution_count": 184,
      "outputs": []
    },
    {
      "cell_type": "markdown",
      "metadata": {
        "id": "746WNcX_2ho2"
      },
      "source": [
        "very useful, will be using it everywhere"
      ]
    },
    {
      "cell_type": "code",
      "metadata": {
        "id": "3_ErW_ep2rA4"
      },
      "source": [
        "from omegaconf import OmegaConf"
      ],
      "execution_count": 185,
      "outputs": []
    },
    {
      "cell_type": "code",
      "metadata": {
        "id": "NqcRewqg2aV7"
      },
      "source": [
        "hparams = OmegaConf.create({\n",
        "    'input_dim': torch_dataset.input_lang.n_words,\n",
        "    'hidden_size': 64,\n",
        "    'output_dim': torch_dataset.output_lang.n_words,\n",
        "    'max_length': 10,\n",
        "    'swap_langs': True,\n",
        "    'teacher_forcing_ratio': 0.5,\n",
        "    'dropout': 0.1,\n",
        "    'enc_lr': 1e-2,\n",
        "    'dec_lr': 1e-2,\n",
        "    'epochs': 5,\n",
        "})"
      ],
      "execution_count": 186,
      "outputs": []
    },
    {
      "cell_type": "code",
      "metadata": {
        "id": "qJVOII4y5l2m"
      },
      "source": [
        "import torch\n",
        "device = torch.device('cuda' if torch.cuda.is_available() else 'cpu')"
      ],
      "execution_count": 187,
      "outputs": []
    },
    {
      "cell_type": "markdown",
      "metadata": {
        "id": "2QG7MF4T2W6p"
      },
      "source": [
        "## Encoder"
      ]
    },
    {
      "cell_type": "code",
      "metadata": {
        "id": "snsr8wv03UpH"
      },
      "source": [
        "import torch.nn as nn\n",
        "import torch"
      ],
      "execution_count": 188,
      "outputs": []
    },
    {
      "cell_type": "code",
      "metadata": {
        "colab": {
          "base_uri": "https://localhost:8080/"
        },
        "id": "NagZNRUQ3QyY",
        "outputId": "38e8bf1f-4ae1-443b-ffdc-44b85aedeca4"
      },
      "source": [
        "enc_embedding = nn.Embedding(\n",
        "    hparams.input_dim,\n",
        "    hparams.hidden_size\n",
        ")\n",
        "enc_embedding"
      ],
      "execution_count": 189,
      "outputs": [
        {
          "output_type": "execute_result",
          "data": {
            "text/plain": [
              "Embedding(4347, 64)"
            ]
          },
          "metadata": {
            "tags": []
          },
          "execution_count": 189
        }
      ]
    },
    {
      "cell_type": "code",
      "metadata": {
        "colab": {
          "base_uri": "https://localhost:8080/"
        },
        "id": "zLgCrry-3hC-",
        "outputId": "e00ac905-d108-4dc9-f0a5-0835614aa194"
      },
      "source": [
        "enc_lstm = nn.LSTM(\n",
        "    hparams.hidden_size,\n",
        "    hparams.hidden_size,\n",
        "    num_layers=1\n",
        ")\n",
        "enc_lstm"
      ],
      "execution_count": 190,
      "outputs": [
        {
          "output_type": "execute_result",
          "data": {
            "text/plain": [
              "LSTM(64, 64)"
            ]
          },
          "metadata": {
            "tags": []
          },
          "execution_count": 190
        }
      ]
    },
    {
      "cell_type": "code",
      "metadata": {
        "id": "_eIRpvhx4WnL"
      },
      "source": [
        "input_lang_itos = torch_dataset.input_lang.get_itos()\n",
        "target_lang_itos = torch_dataset.output_lang.get_itos()\n",
        "input_lang_stoi = torch_dataset.input_lang.get_stoi()\n",
        "target_lang_stoi = torch_dataset.output_lang.get_stoi()"
      ],
      "execution_count": 191,
      "outputs": []
    },
    {
      "cell_type": "code",
      "metadata": {
        "colab": {
          "base_uri": "https://localhost:8080/",
          "height": 35
        },
        "id": "EP2pE2Lc4H67",
        "outputId": "253c8115-db9c-463d-ca64-6ddf0e32ca27"
      },
      "source": [
        "f'The encoder will take the input sentence {src_text[0]} = {\" \".join(input_lang_itos[x] for x in src_text[0])}'"
      ],
      "execution_count": 192,
      "outputs": [
        {
          "output_type": "execute_result",
          "data": {
            "application/vnd.google.colaboratory.intrinsic+json": {
              "type": "string"
            },
            "text/plain": [
              "'The encoder will take the input sentence tensor([ 13,  16, 463,   4,   3]) = tu es impatiente . <eos>'"
            ]
          },
          "metadata": {
            "tags": []
          },
          "execution_count": 192
        }
      ]
    },
    {
      "cell_type": "code",
      "metadata": {
        "colab": {
          "base_uri": "https://localhost:8080/"
        },
        "id": "IW7kTtGJ5W1A",
        "outputId": "8614b198-5750-4560-ed6a-ff2dffdcd5d5"
      },
      "source": [
        "enc_encoder_hidden = torch.zeros(1, 1, hparams.hidden_size), torch.zeros(1, 1, hparams.hidden_size)\n",
        "enc_encoder_hidden[0].shape, enc_encoder_hidden[1].shape"
      ],
      "execution_count": 193,
      "outputs": [
        {
          "output_type": "execute_result",
          "data": {
            "text/plain": [
              "(torch.Size([1, 1, 64]), torch.Size([1, 1, 64]))"
            ]
          },
          "metadata": {
            "tags": []
          },
          "execution_count": 193
        }
      ]
    },
    {
      "cell_type": "code",
      "metadata": {
        "id": "eXls1WJd35u7"
      },
      "source": [
        "# forward pass\n",
        "seq_len = len(src_text[0])\n",
        "embedded = enc_embedding(src_text[0]).view(seq_len, 1, -1)\n",
        "enc_output, enc_hidden = enc_lstm(embedded, enc_encoder_hidden)"
      ],
      "execution_count": 194,
      "outputs": []
    },
    {
      "cell_type": "markdown",
      "metadata": {
        "id": "j9iuAsW2GGZZ"
      },
      "source": [
        "Note `enc_output` and `enc_hidden` will later be used by the decoder !"
      ]
    },
    {
      "cell_type": "code",
      "metadata": {
        "colab": {
          "base_uri": "https://localhost:8080/"
        },
        "id": "AgUkPzVLDziZ",
        "outputId": "532f3a83-a7c1-45ed-8a9c-36deb4835f2d"
      },
      "source": [
        "print(\n",
        "    f'since our sentence has {len(src_text[0])} words, the number of tensors in enc_output is {enc_output.shape[0]}'\n",
        ")"
      ],
      "execution_count": 195,
      "outputs": [
        {
          "output_type": "stream",
          "text": [
            "since our sentence has 5 words, the number of tensors in enc_output is 5\n"
          ],
          "name": "stdout"
        }
      ]
    },
    {
      "cell_type": "code",
      "metadata": {
        "colab": {
          "base_uri": "https://localhost:8080/"
        },
        "id": "hNA8ICQc8Ruq",
        "outputId": "a3e3df01-468a-45dc-ea49-e3d55977d119"
      },
      "source": [
        "print(\n",
        "    f'embedding: {embedded.shape}\\nenc_output: {enc_output.shape}\\nenc_hidden: {enc_hidden[0].shape, enc_hidden[1].shape}'\n",
        ")"
      ],
      "execution_count": 196,
      "outputs": [
        {
          "output_type": "stream",
          "text": [
            "embedding: torch.Size([5, 1, 64])\n",
            "enc_output: torch.Size([5, 1, 64])\n",
            "enc_hidden: (torch.Size([1, 1, 64]), torch.Size([1, 1, 64]))\n"
          ],
          "name": "stdout"
        }
      ]
    },
    {
      "cell_type": "code",
      "metadata": {
        "colab": {
          "base_uri": "https://localhost:8080/"
        },
        "id": "Ll6WTqVh8ltz",
        "outputId": "e64aebef-8a77-4ace-f2b9-e73482ed6bf2"
      },
      "source": [
        "print(\n",
        "    f'encoding for the word \\'{input_lang_itos[src_text[0, 0]]}\\' =>\\n\\n{enc_output[0]}'\n",
        ")"
      ],
      "execution_count": 197,
      "outputs": [
        {
          "output_type": "stream",
          "text": [
            "encoding for the word 'tu' =>\n",
            "\n",
            "tensor([[-0.0543,  0.0638, -0.1975, -0.1677, -0.0539, -0.0799, -0.0503,  0.0007,\n",
            "         -0.1526,  0.0269,  0.1492,  0.2136,  0.0022, -0.0716,  0.0493,  0.0884,\n",
            "          0.2390, -0.1747,  0.0222,  0.1018,  0.0792, -0.1830,  0.2660, -0.1601,\n",
            "         -0.0031,  0.2112,  0.1274, -0.2266,  0.1665, -0.0918,  0.1431, -0.1941,\n",
            "          0.1174, -0.1755,  0.2341, -0.1604, -0.0336, -0.0107, -0.0823,  0.2096,\n",
            "         -0.1492,  0.0024, -0.2048, -0.2197, -0.0225, -0.0126,  0.1423, -0.0376,\n",
            "          0.0351, -0.0735,  0.1298,  0.0437,  0.1812, -0.1990, -0.0230, -0.1988,\n",
            "         -0.0519, -0.0607, -0.0144,  0.0720, -0.2157, -0.0570,  0.0637, -0.0687]],\n",
            "       grad_fn=<SelectBackward>)\n"
          ],
          "name": "stdout"
        }
      ]
    },
    {
      "cell_type": "code",
      "metadata": {
        "colab": {
          "base_uri": "https://localhost:8080/"
        },
        "id": "Kzs3OQlxAsQR",
        "outputId": "06938e5a-3d2d-454f-d658-9324757e1cc9"
      },
      "source": [
        "print(\n",
        "    f'encoding for the word \\'{input_lang_itos[src_text[0, 1]]}\\' =>\\n\\n{enc_output[1]}'\n",
        ")"
      ],
      "execution_count": 198,
      "outputs": [
        {
          "output_type": "stream",
          "text": [
            "encoding for the word 'es' =>\n",
            "\n",
            "tensor([[ 0.0052, -0.1731, -0.2374, -0.0742, -0.1043, -0.0528, -0.0789,  0.0948,\n",
            "         -0.1553, -0.1581,  0.3061,  0.0233, -0.0263, -0.1190,  0.2288,  0.3443,\n",
            "          0.3691, -0.0884, -0.1495,  0.0013, -0.0716,  0.0549,  0.2131, -0.0852,\n",
            "         -0.1066,  0.2260,  0.0553, -0.0925,  0.2297, -0.0972,  0.2397, -0.0222,\n",
            "          0.0623, -0.3111,  0.2283, -0.1766,  0.0787, -0.0744, -0.0616,  0.0231,\n",
            "         -0.0838,  0.0849, -0.4161,  0.0202, -0.1292, -0.0138,  0.0784,  0.0334,\n",
            "         -0.1377, -0.0678,  0.0150,  0.1796, -0.0396,  0.1356,  0.0032, -0.0631,\n",
            "          0.0989,  0.0350, -0.2848, -0.0165, -0.1672, -0.0179,  0.1378,  0.0915]],\n",
            "       grad_fn=<SelectBackward>)\n"
          ],
          "name": "stdout"
        }
      ]
    },
    {
      "cell_type": "code",
      "metadata": {
        "colab": {
          "base_uri": "https://localhost:8080/"
        },
        "id": "tuoW_igMBFeY",
        "outputId": "a25602fe-6f85-43d9-e757-9be728bdc553"
      },
      "source": [
        "print(\n",
        "    f'encoding for the word \\'{input_lang_itos[src_text[0, 2]]}\\' =>\\n\\n{enc_output[2]}'\n",
        ")"
      ],
      "execution_count": 199,
      "outputs": [
        {
          "output_type": "stream",
          "text": [
            "encoding for the word 'impatiente' =>\n",
            "\n",
            "tensor([[ 0.0732, -0.1036, -0.1111, -0.0589, -0.0526, -0.0549, -0.1882,  0.2312,\n",
            "          0.0089, -0.1297, -0.0507, -0.1168, -0.0353,  0.0075,  0.0738,  0.1092,\n",
            "          0.0566,  0.0912, -0.2511, -0.0793, -0.0123,  0.1230,  0.1665, -0.0725,\n",
            "         -0.0762,  0.1660, -0.1273,  0.0871,  0.2491,  0.0638,  0.2093,  0.0893,\n",
            "          0.1419, -0.2067,  0.0119, -0.1068,  0.1178,  0.0655, -0.0208, -0.0647,\n",
            "         -0.1147, -0.0500, -0.0150, -0.0616, -0.2934, -0.1099, -0.2117,  0.1308,\n",
            "         -0.1164, -0.0382,  0.1587,  0.1247, -0.1988,  0.1069,  0.0867, -0.0014,\n",
            "          0.0079, -0.0263, -0.1672,  0.0169, -0.0829,  0.0871,  0.0611,  0.0820]],\n",
            "       grad_fn=<SelectBackward>)\n"
          ],
          "name": "stdout"
        }
      ]
    },
    {
      "cell_type": "markdown",
      "metadata": {
        "id": "35VGeCQdBQbK"
      },
      "source": [
        "and so on every word is now encoded"
      ]
    },
    {
      "cell_type": "markdown",
      "metadata": {
        "id": "96f5u-jbCpyz"
      },
      "source": [
        "## Decoder w/ Attention\n",
        "\n",
        "> Luong et al. model"
      ]
    },
    {
      "cell_type": "markdown",
      "metadata": {
        "id": "xm_zHolSFmwz"
      },
      "source": [
        "The Decoder parameters"
      ]
    },
    {
      "cell_type": "code",
      "metadata": {
        "colab": {
          "base_uri": "https://localhost:8080/"
        },
        "id": "aoinyyDAC8gz",
        "outputId": "897d6747-010e-4e2d-8ead-ea937488323f"
      },
      "source": [
        "dec_embedding = nn.Embedding(\n",
        "    hparams.output_dim,\n",
        "    hparams.hidden_size\n",
        ")\n",
        "dec_embedding"
      ],
      "execution_count": 236,
      "outputs": [
        {
          "output_type": "execute_result",
          "data": {
            "text/plain": [
              "Embedding(2805, 64)"
            ]
          },
          "metadata": {
            "tags": []
          },
          "execution_count": 236
        }
      ]
    },
    {
      "cell_type": "code",
      "metadata": {
        "colab": {
          "base_uri": "https://localhost:8080/"
        },
        "id": "f_jV6G4ZDk3S",
        "outputId": "c2cb1e4e-4c68-42a8-c98f-8ca873388670"
      },
      "source": [
        "dec_lstm = nn.LSTM(\n",
        "    hparams.hidden_size * 2,\n",
        "    hparams.hidden_size, 1,\n",
        ")\n",
        "dec_lstm"
      ],
      "execution_count": 237,
      "outputs": [
        {
          "output_type": "execute_result",
          "data": {
            "text/plain": [
              "LSTM(128, 64)"
            ]
          },
          "metadata": {
            "tags": []
          },
          "execution_count": 237
        }
      ]
    },
    {
      "cell_type": "code",
      "metadata": {
        "colab": {
          "base_uri": "https://localhost:8080/"
        },
        "id": "SeAraSv5E1-a",
        "outputId": "46618792-61c8-4e3b-9484-915843141d62"
      },
      "source": [
        "dec_out = nn.Linear(\n",
        "    hparams.hidden_size * 2, hparams.output_dim\n",
        ")\n",
        "dec_out"
      ],
      "execution_count": 238,
      "outputs": [
        {
          "output_type": "execute_result",
          "data": {
            "text/plain": [
              "Linear(in_features=128, out_features=2805, bias=True)"
            ]
          },
          "metadata": {
            "tags": []
          },
          "execution_count": 238
        }
      ]
    },
    {
      "cell_type": "markdown",
      "metadata": {
        "id": "cRqwc901Fo_G"
      },
      "source": [
        "This is the attention part"
      ]
    },
    {
      "cell_type": "code",
      "metadata": {
        "colab": {
          "base_uri": "https://localhost:8080/"
        },
        "id": "TNqETtCyFZ3X",
        "outputId": "1e92d32d-5b6f-4aa5-f0ea-c259c70c8f88"
      },
      "source": [
        "luong_attn = nn.Linear(\n",
        "    hparams.hidden_size, hparams.hidden_size\n",
        ")\n",
        "luong_attn"
      ],
      "execution_count": 239,
      "outputs": [
        {
          "output_type": "execute_result",
          "data": {
            "text/plain": [
              "Linear(in_features=64, out_features=64, bias=True)"
            ]
          },
          "metadata": {
            "tags": []
          },
          "execution_count": 239
        }
      ]
    },
    {
      "cell_type": "code",
      "metadata": {
        "id": "hSItKZHvGZla"
      },
      "source": [
        "from ttctext.datamodules.torch_translate import SOS_token, EOS_token, PAD_token"
      ],
      "execution_count": 240,
      "outputs": []
    },
    {
      "cell_type": "code",
      "metadata": {
        "id": "Y1RjXW90F5u_"
      },
      "source": [
        "decoder_input = torch.tensor([SOS_token]).unsqueeze(0) # SOS is the first word to the decoder\n",
        "decoder_context = torch.zeros(1, hparams.hidden_size)\n",
        "decoder_hidden = enc_encoder_hidden # Use last hidden state from encoder to start decoder"
      ],
      "execution_count": 241,
      "outputs": []
    },
    {
      "cell_type": "code",
      "metadata": {
        "colab": {
          "base_uri": "https://localhost:8080/"
        },
        "id": "wLxdOL2RGnF4",
        "outputId": "2843c264-06e8-4384-e38f-201af9a8a393"
      },
      "source": [
        "print(\n",
        "    f'decoder_input:\\t\\t{decoder_input.shape}\\ndecoder_context:\\t{decoder_context.shape}\\ndecoder_hidden:\\t\\t{decoder_hidden[0].shape, decoder_hidden[1].shape}'\n",
        ")"
      ],
      "execution_count": 242,
      "outputs": [
        {
          "output_type": "stream",
          "text": [
            "decoder_input:\t\ttorch.Size([1, 1])\n",
            "decoder_context:\ttorch.Size([1, 64])\n",
            "decoder_hidden:\t\t(torch.Size([1, 1, 64]), torch.Size([1, 1, 64]))\n"
          ],
          "name": "stdout"
        }
      ]
    },
    {
      "cell_type": "code",
      "metadata": {
        "colab": {
          "base_uri": "https://localhost:8080/",
          "height": 35
        },
        "id": "eGITl3kcHX4a",
        "outputId": "2178eebb-7cda-4721-a20f-25d110d62033"
      },
      "source": [
        "dec_word_input = decoder_input\n",
        "\n",
        "# Get the embedding of the current input word (last output word)\n",
        "dec_word_embedded = dec_embedding(dec_word_input).view(1, 1, -1) # S=1 x B x N\n",
        "f'dec_word_embedded: {dec_word_embedded.shape}'"
      ],
      "execution_count": 243,
      "outputs": [
        {
          "output_type": "execute_result",
          "data": {
            "application/vnd.google.colaboratory.intrinsic+json": {
              "type": "string"
            },
            "text/plain": [
              "'dec_word_embedded: torch.Size([1, 1, 64])'"
            ]
          },
          "metadata": {
            "tags": []
          },
          "execution_count": 243
        }
      ]
    },
    {
      "cell_type": "code",
      "metadata": {
        "id": "WoevJDjdHx-f"
      },
      "source": [
        "last_context = decoder_context\n",
        "last_hidden = decoder_hidden\n",
        "\n",
        "# Combine embedded input word and last context, run through RNN\n",
        "dec_rnn_input = torch.cat((dec_word_embedded, last_context.unsqueeze(0)), dim=2)\n",
        "dec_rnn_output, dec_rnn_hidden = dec_lstm(dec_rnn_input, last_hidden)"
      ],
      "execution_count": 244,
      "outputs": []
    },
    {
      "cell_type": "code",
      "metadata": {
        "colab": {
          "base_uri": "https://localhost:8080/"
        },
        "id": "xavfWKwBITwu",
        "outputId": "238f2339-d8d6-444e-df22-ca9111080b32"
      },
      "source": [
        "print(\n",
        "    f'dec_rnn_input:\\t\\t{dec_rnn_input.shape}\\ndec_rnn_output:\\t\\t{dec_rnn_output.shape}\\ndec_rnn_hidden:\\t\\t{dec_rnn_hidden[0].shape, dec_rnn_hidden[0].shape}'\n",
        ")"
      ],
      "execution_count": 245,
      "outputs": [
        {
          "output_type": "stream",
          "text": [
            "dec_rnn_input:\t\ttorch.Size([1, 1, 128])\n",
            "dec_rnn_output:\t\ttorch.Size([1, 1, 64])\n",
            "dec_rnn_hidden:\t\t(torch.Size([1, 1, 64]), torch.Size([1, 1, 64]))\n"
          ],
          "name": "stdout"
        }
      ]
    },
    {
      "cell_type": "code",
      "metadata": {
        "colab": {
          "base_uri": "https://localhost:8080/"
        },
        "id": "QzMnnXoLJPKO",
        "outputId": "75aad00f-2f7c-454b-abdf-0359c600a5d6"
      },
      "source": [
        "print(\n",
        "    f'dec_rnn_output: {dec_rnn_output.shape} value =>\\n\\n{dec_rnn_output}'\n",
        ")"
      ],
      "execution_count": 246,
      "outputs": [
        {
          "output_type": "stream",
          "text": [
            "dec_rnn_output: torch.Size([1, 1, 64]) value =>\n",
            "\n",
            "tensor([[[ 2.4784e-02,  1.3236e-01,  2.8387e-02,  3.1887e-03,  1.3423e-01,\n",
            "          -8.7927e-02,  1.5511e-01,  2.8784e-02,  1.0580e-01, -1.4575e-01,\n",
            "          -4.3383e-03, -5.2812e-02,  1.7754e-01, -3.1593e-02,  6.7075e-02,\n",
            "           7.7494e-02,  4.9320e-02,  1.7713e-01, -2.0790e-01, -5.0475e-02,\n",
            "          -5.8649e-02,  4.6692e-02, -3.1964e-02, -1.3329e-01, -9.9950e-02,\n",
            "          -9.4949e-02,  2.1983e-02,  1.2766e-01,  3.3407e-02,  1.2375e-02,\n",
            "          -9.7627e-02,  8.2564e-05,  4.0589e-02, -5.0377e-02, -6.5772e-02,\n",
            "           2.8655e-02, -1.1418e-01,  5.5525e-02,  1.6390e-01,  3.2977e-02,\n",
            "           1.3898e-02,  4.4744e-02, -5.5388e-02, -5.9081e-02,  2.2567e-02,\n",
            "          -1.6297e-01,  9.2167e-02, -1.4468e-01,  5.4815e-02, -8.2351e-02,\n",
            "          -4.3525e-02,  6.9047e-02,  5.4019e-02, -1.1496e-01, -1.9732e-01,\n",
            "           5.2014e-02,  2.2706e-01,  6.1765e-02,  1.0778e-01,  7.5064e-02,\n",
            "           1.1164e-01, -4.1908e-02, -7.5117e-02,  1.3715e-02]]],\n",
            "       grad_fn=<StackBackward>)\n"
          ],
          "name": "stdout"
        }
      ]
    },
    {
      "cell_type": "markdown",
      "metadata": {
        "id": "c4ZHIPe-Jaow"
      },
      "source": [
        "Calculate attention from current RNN state"
      ]
    },
    {
      "cell_type": "code",
      "metadata": {
        "id": "6BzeuDwpJYla",
        "colab": {
          "base_uri": "https://localhost:8080/"
        },
        "outputId": "b3e66683-3591-48d9-945f-ab0c5ae41869"
      },
      "source": [
        "seq_len = len(enc_output)\n",
        "\n",
        "# Create variable to store attention energies\n",
        "attn_energies = torch.zeros(seq_len) # B x 1 x S\n",
        "\n",
        "attn_hidden = dec_rnn_output.squeeze(0)\n",
        "\n",
        "# Calculate energies for each encoder output\n",
        "for i in range(seq_len):\n",
        "    energy = luong_attn(enc_output[i])\n",
        "    energy = attn_hidden.view(-1).dot(energy.view(-1))\n",
        "    \n",
        "    print(f'energy for {i}th word: {energy}')\n",
        "\n",
        "    attn_energies[i] = energy"
      ],
      "execution_count": 247,
      "outputs": [
        {
          "output_type": "stream",
          "text": [
            "energy for 0th word: 0.013496480882167816\n",
            "energy for 1th word: -0.019721370190382004\n",
            "energy for 2th word: 0.04026033729314804\n",
            "energy for 3th word: 0.11657365411520004\n",
            "energy for 4th word: 0.05412563309073448\n"
          ],
          "name": "stdout"
        }
      ]
    },
    {
      "cell_type": "code",
      "metadata": {
        "colab": {
          "base_uri": "https://localhost:8080/"
        },
        "id": "c1lK_kniKtXO",
        "outputId": "9233fcc3-cf39-409f-d2c9-51e31549c8e6"
      },
      "source": [
        "print(\n",
        "    f'attention energies: {attn_energies.shape} values =>\\n\\n{attn_energies}',\n",
        ")"
      ],
      "execution_count": 248,
      "outputs": [
        {
          "output_type": "stream",
          "text": [
            "attention energies: torch.Size([5]) values =>\n",
            "\n",
            "tensor([ 0.0135, -0.0197,  0.0403,  0.1166,  0.0541], grad_fn=<CopySlices>)\n"
          ],
          "name": "stdout"
        }
      ]
    },
    {
      "cell_type": "code",
      "metadata": {
        "id": "79Ij2ukXLz2C"
      },
      "source": [
        "import torch.nn.functional as F"
      ],
      "execution_count": 249,
      "outputs": []
    },
    {
      "cell_type": "code",
      "metadata": {
        "id": "GjXMZVWQJktN"
      },
      "source": [
        "# Normalize energies to weights in range 0 to 1, resize to 1 x 1 x seq_len\n",
        "dec_attn_weights =  F.softmax(attn_energies, dim=0).unsqueeze(0).unsqueeze(0)"
      ],
      "execution_count": 250,
      "outputs": []
    },
    {
      "cell_type": "code",
      "metadata": {
        "colab": {
          "base_uri": "https://localhost:8080/"
        },
        "id": "3QhgwZj5BkNC",
        "outputId": "5b22bf25-1acf-493e-c9e0-e9d29e74ce37"
      },
      "source": [
        "dec_attn_weights.sum()"
      ],
      "execution_count": 251,
      "outputs": [
        {
          "output_type": "execute_result",
          "data": {
            "text/plain": [
              "tensor(1., grad_fn=<SumBackward0>)"
            ]
          },
          "metadata": {
            "tags": []
          },
          "execution_count": 251
        }
      ]
    },
    {
      "cell_type": "code",
      "metadata": {
        "colab": {
          "base_uri": "https://localhost:8080/"
        },
        "id": "qeX2UGJrL8Hx",
        "outputId": "a50eae8e-a290-4404-f061-06e84a25d752"
      },
      "source": [
        "print(\n",
        "    f'attention weights: {dec_attn_weights.shape} values =>\\n\\n{dec_attn_weights}'\n",
        ")"
      ],
      "execution_count": 252,
      "outputs": [
        {
          "output_type": "stream",
          "text": [
            "attention weights: torch.Size([1, 1, 5]) values =>\n",
            "\n",
            "tensor([[[0.1944, 0.1880, 0.1997, 0.2155, 0.2024]]],\n",
            "       grad_fn=<UnsqueezeBackward0>)\n"
          ],
          "name": "stdout"
        }
      ]
    },
    {
      "cell_type": "code",
      "metadata": {
        "id": "HRIyL_9UIuXd"
      },
      "source": [
        "# apply to encoder outputs\n",
        "dec_context_new = dec_attn_weights.bmm(enc_output.transpose(0, 1)) # B x 1 x N"
      ],
      "execution_count": 253,
      "outputs": []
    },
    {
      "cell_type": "code",
      "metadata": {
        "colab": {
          "base_uri": "https://localhost:8080/"
        },
        "id": "i8mGZv8mMRYb",
        "outputId": "9885e03f-ec26-479e-dadd-c6d400e10329"
      },
      "source": [
        "print(\n",
        "    f'dec_context_new: {dec_context_new.shape} values =>\\n\\n{dec_context_new}'\n",
        ")"
      ],
      "execution_count": 254,
      "outputs": [
        {
          "output_type": "stream",
          "text": [
            "dec_context_new: torch.Size([1, 1, 64]) values =>\n",
            "\n",
            "tensor([[[ 0.0873, -0.0190, -0.0559, -0.0386, -0.0353,  0.0400, -0.0116,\n",
            "           0.1641, -0.0525, -0.0474,  0.0651,  0.0297, -0.0100, -0.1076,\n",
            "           0.0932,  0.1184,  0.1446, -0.0358, -0.2018,  0.0410, -0.0010,\n",
            "          -0.0116,  0.1718, -0.0905, -0.0948,  0.2211, -0.1088, -0.0856,\n",
            "           0.0962, -0.0698,  0.0966, -0.0301,  0.1399, -0.1744,  0.0716,\n",
            "          -0.1258,  0.0235, -0.0409, -0.0293,  0.0687, -0.0779,  0.0336,\n",
            "          -0.1106,  0.0323, -0.1402, -0.0324, -0.0821,  0.1166, -0.1192,\n",
            "           0.0371,  0.1582,  0.0321, -0.1342,  0.1206,  0.0797, -0.0553,\n",
            "          -0.0261,  0.0474, -0.0550,  0.0025, -0.0787, -0.0014, -0.0070,\n",
            "           0.0421]]], grad_fn=<BmmBackward0>)\n"
          ],
          "name": "stdout"
        }
      ]
    },
    {
      "cell_type": "code",
      "metadata": {
        "id": "2sxgQ_eNKCgV"
      },
      "source": [
        "# Final output layer (next word prediction) using the RNN hidden state and context vector\n",
        "dec_rnn_output_new = dec_rnn_output.squeeze(0) # S=1 x B x N -> B x N\n",
        "dec_context_new = dec_context_new.squeeze(1)       # B x S=1 x N -> B x N\n",
        "dec_output_final = F.log_softmax(\n",
        "    dec_out(torch.cat((dec_rnn_output_new, dec_context_new), dim=1)),\n",
        "    dim=-1\n",
        ")"
      ],
      "execution_count": 255,
      "outputs": []
    },
    {
      "cell_type": "code",
      "metadata": {
        "colab": {
          "base_uri": "https://localhost:8080/"
        },
        "id": "b9cLKmsOCCii",
        "outputId": "a579f597-1be7-4d0a-f2b8-fa7ac85757bc"
      },
      "source": [
        "torch.log(F.softmax(\n",
        "    dec_out(torch.cat((dec_rnn_output_new, dec_context_new), dim=1)),\n",
        "    dim=-1\n",
        ")).sum()"
      ],
      "execution_count": 256,
      "outputs": [
        {
          "output_type": "execute_result",
          "data": {
            "text/plain": [
              "tensor(-22277.1465, grad_fn=<SumBackward0>)"
            ]
          },
          "metadata": {
            "tags": []
          },
          "execution_count": 256
        }
      ]
    },
    {
      "cell_type": "code",
      "metadata": {
        "colab": {
          "base_uri": "https://localhost:8080/"
        },
        "id": "fcEf1gOoB703",
        "outputId": "7ff91a51-e064-4e13-aa67-b21cfc7b9d05"
      },
      "source": [
        "dec_output_final.sum()"
      ],
      "execution_count": 257,
      "outputs": [
        {
          "output_type": "execute_result",
          "data": {
            "text/plain": [
              "tensor(-22277.1465, grad_fn=<SumBackward0>)"
            ]
          },
          "metadata": {
            "tags": []
          },
          "execution_count": 257
        }
      ]
    },
    {
      "cell_type": "code",
      "metadata": {
        "colab": {
          "base_uri": "https://localhost:8080/"
        },
        "id": "u8MAoRwtNn2I",
        "outputId": "01247044-2dcb-40c3-8a09-a17c0929e99a"
      },
      "source": [
        "print(\n",
        "    f'size after concatenating dec_context and dec_rnn_output: {torch.cat((dec_rnn_output_new, dec_context_new), dim=1).shape}'\n",
        ")"
      ],
      "execution_count": 258,
      "outputs": [
        {
          "output_type": "stream",
          "text": [
            "size after concatenating dec_context and dec_rnn_output: torch.Size([1, 128])\n"
          ],
          "name": "stdout"
        }
      ]
    },
    {
      "cell_type": "markdown",
      "metadata": {
        "id": "lp7hRUSCOHL5"
      },
      "source": [
        "After applying the final FC layer of decoder output"
      ]
    },
    {
      "cell_type": "code",
      "metadata": {
        "colab": {
          "base_uri": "https://localhost:8080/"
        },
        "id": "c5DlMg92Ma2o",
        "outputId": "69b98917-6fc5-46a6-82f7-2d57fb8f0564"
      },
      "source": [
        "print(\n",
        "    f'dec_rnn_output_new: {dec_rnn_output_new.shape} values =>\\n\\n{dec_rnn_output_new}'\n",
        ")"
      ],
      "execution_count": 259,
      "outputs": [
        {
          "output_type": "stream",
          "text": [
            "dec_rnn_output_new: torch.Size([1, 64]) values =>\n",
            "\n",
            "tensor([[ 2.4784e-02,  1.3236e-01,  2.8387e-02,  3.1887e-03,  1.3423e-01,\n",
            "         -8.7927e-02,  1.5511e-01,  2.8784e-02,  1.0580e-01, -1.4575e-01,\n",
            "         -4.3383e-03, -5.2812e-02,  1.7754e-01, -3.1593e-02,  6.7075e-02,\n",
            "          7.7494e-02,  4.9320e-02,  1.7713e-01, -2.0790e-01, -5.0475e-02,\n",
            "         -5.8649e-02,  4.6692e-02, -3.1964e-02, -1.3329e-01, -9.9950e-02,\n",
            "         -9.4949e-02,  2.1983e-02,  1.2766e-01,  3.3407e-02,  1.2375e-02,\n",
            "         -9.7627e-02,  8.2564e-05,  4.0589e-02, -5.0377e-02, -6.5772e-02,\n",
            "          2.8655e-02, -1.1418e-01,  5.5525e-02,  1.6390e-01,  3.2977e-02,\n",
            "          1.3898e-02,  4.4744e-02, -5.5388e-02, -5.9081e-02,  2.2567e-02,\n",
            "         -1.6297e-01,  9.2167e-02, -1.4468e-01,  5.4815e-02, -8.2351e-02,\n",
            "         -4.3525e-02,  6.9047e-02,  5.4019e-02, -1.1496e-01, -1.9732e-01,\n",
            "          5.2014e-02,  2.2706e-01,  6.1765e-02,  1.0778e-01,  7.5064e-02,\n",
            "          1.1164e-01, -4.1908e-02, -7.5117e-02,  1.3715e-02]],\n",
            "       grad_fn=<SqueezeBackward1>)\n"
          ],
          "name": "stdout"
        }
      ]
    },
    {
      "cell_type": "code",
      "metadata": {
        "colab": {
          "base_uri": "https://localhost:8080/"
        },
        "id": "n1ztqkxnLExb",
        "outputId": "0636d519-f5fe-44a3-b199-52b3fb538c7e"
      },
      "source": [
        "print(\n",
        "    f'dec_context_new: {dec_context_new.shape} values =>\\n\\n{dec_context_new}'\n",
        ")"
      ],
      "execution_count": 260,
      "outputs": [
        {
          "output_type": "stream",
          "text": [
            "dec_context_new: torch.Size([1, 64]) values =>\n",
            "\n",
            "tensor([[ 0.0873, -0.0190, -0.0559, -0.0386, -0.0353,  0.0400, -0.0116,  0.1641,\n",
            "         -0.0525, -0.0474,  0.0651,  0.0297, -0.0100, -0.1076,  0.0932,  0.1184,\n",
            "          0.1446, -0.0358, -0.2018,  0.0410, -0.0010, -0.0116,  0.1718, -0.0905,\n",
            "         -0.0948,  0.2211, -0.1088, -0.0856,  0.0962, -0.0698,  0.0966, -0.0301,\n",
            "          0.1399, -0.1744,  0.0716, -0.1258,  0.0235, -0.0409, -0.0293,  0.0687,\n",
            "         -0.0779,  0.0336, -0.1106,  0.0323, -0.1402, -0.0324, -0.0821,  0.1166,\n",
            "         -0.1192,  0.0371,  0.1582,  0.0321, -0.1342,  0.1206,  0.0797, -0.0553,\n",
            "         -0.0261,  0.0474, -0.0550,  0.0025, -0.0787, -0.0014, -0.0070,  0.0421]],\n",
            "       grad_fn=<SqueezeBackward1>)\n"
          ],
          "name": "stdout"
        }
      ]
    },
    {
      "cell_type": "code",
      "metadata": {
        "colab": {
          "base_uri": "https://localhost:8080/"
        },
        "id": "ZNz4EUDaKycc",
        "outputId": "ede92338-17a3-458c-8434-b73df2979371"
      },
      "source": [
        "print(\n",
        "    f'dec_output_final: {dec_output_final.shape} values =>\\n\\n{dec_output_final}'\n",
        ")"
      ],
      "execution_count": 261,
      "outputs": [
        {
          "output_type": "stream",
          "text": [
            "dec_output_final: torch.Size([1, 2805]) values =>\n",
            "\n",
            "tensor([[-7.8912, -7.8641, -7.9288,  ..., -7.8772, -7.9572, -8.1186]],\n",
            "       grad_fn=<LogSoftmaxBackward>)\n"
          ],
          "name": "stdout"
        }
      ]
    },
    {
      "cell_type": "code",
      "metadata": {
        "id": "RnRGix6MMnqf"
      },
      "source": [
        "dec_topv, dec_topi = dec_output_final.data.topk(1)\n",
        "ni = dec_topi[0, 0]"
      ],
      "execution_count": 262,
      "outputs": []
    },
    {
      "cell_type": "code",
      "metadata": {
        "colab": {
          "base_uri": "https://localhost:8080/"
        },
        "id": "nrmR7qLCKvdh",
        "outputId": "dca6926e-5b33-4ded-9ecf-ca0699b1f7d0"
      },
      "source": [
        "dec_topv, dec_topi"
      ],
      "execution_count": 263,
      "outputs": [
        {
          "output_type": "execute_result",
          "data": {
            "text/plain": [
              "(tensor([[-7.6851]]), tensor([[2579]]))"
            ]
          },
          "metadata": {
            "tags": []
          },
          "execution_count": 263
        }
      ]
    },
    {
      "cell_type": "code",
      "metadata": {
        "colab": {
          "base_uri": "https://localhost:8080/"
        },
        "id": "gftirtGENCho",
        "outputId": "617eab8b-d301-4865-ea43-65cc21407f92"
      },
      "source": [
        "ni"
      ],
      "execution_count": 264,
      "outputs": [
        {
          "output_type": "execute_result",
          "data": {
            "text/plain": [
              "tensor(2579)"
            ]
          },
          "metadata": {
            "tags": []
          },
          "execution_count": 264
        }
      ]
    },
    {
      "cell_type": "code",
      "metadata": {
        "colab": {
          "base_uri": "https://localhost:8080/"
        },
        "id": "5GwXf778NDkh",
        "outputId": "f14f3dc4-f35d-4654-9edc-45bcff936479"
      },
      "source": [
        "len(target_lang_itos)"
      ],
      "execution_count": 265,
      "outputs": [
        {
          "output_type": "execute_result",
          "data": {
            "text/plain": [
              "2805"
            ]
          },
          "metadata": {
            "tags": []
          },
          "execution_count": 265
        }
      ]
    },
    {
      "cell_type": "code",
      "metadata": {
        "colab": {
          "base_uri": "https://localhost:8080/"
        },
        "id": "7EqO4QqcM4-0",
        "outputId": "00675e3a-6aa2-4ae5-8685-cda4e90112a9"
      },
      "source": [
        "print(\n",
        "    f'predicted word: {target_lang_itos[ni]}'\n",
        ")"
      ],
      "execution_count": 266,
      "outputs": [
        {
          "output_type": "stream",
          "text": [
            "predicted word: samples\n"
          ],
          "name": "stdout"
        }
      ]
    },
    {
      "cell_type": "markdown",
      "metadata": {
        "id": "5OYy5YueNJzq"
      },
      "source": [
        "Now we set the `decoder_input` to `di` and this loop goes on"
      ]
    },
    {
      "cell_type": "code",
      "metadata": {
        "id": "HNmIuHeJl9jk"
      },
      "source": [
        "decoder_input = torch.tensor([SOS_token]).unsqueeze(0) # SOS is the first word to the decoder\n",
        "decoder_context = torch.zeros(1, hparams.hidden_size)\n",
        "decoder_hidden_test = enc_encoder_hidden # Use last hidden state from encoder to start decoder"
      ],
      "execution_count": 267,
      "outputs": []
    },
    {
      "cell_type": "code",
      "metadata": {
        "id": "qPwqdi5LmA-H"
      },
      "source": [
        "last_context = decoder_context\n",
        "last_hidden = decoder_hidden"
      ],
      "execution_count": 268,
      "outputs": []
    },
    {
      "cell_type": "code",
      "metadata": {
        "colab": {
          "base_uri": "https://localhost:8080/"
        },
        "id": "xHIDByIalUn4",
        "outputId": "18bcc50b-94df-44fa-fb57-060a51353b8d"
      },
      "source": [
        "i = 0\n",
        "\n",
        "dec_word_input = decoder_input\n",
        "\n",
        "print(f'decoder word input: {dec_word_input} value: {target_lang_itos[dec_word_input[0, 0]]}')\n",
        "\n",
        "dec_word_embedded = dec_embedding(dec_word_input).view(1, 1, -1)\n",
        "\n",
        "dec_rnn_input = torch.cat((dec_word_embedded, last_context.unsqueeze(0)), dim=2)\n",
        "dec_rnn_output, dec_rnn_hidden_new = dec_lstm(dec_rnn_input, last_hidden)\n",
        "\n",
        "# --- attn\n",
        "seq_len = len(enc_output)\n",
        "attn_energies = torch.zeros(seq_len)\n",
        "attn_hidden = dec_rnn_output.squeeze(0).squeeze(0)\n",
        "for i in range(seq_len):\n",
        "    energy = luong_attn(enc_output[i]).squeeze(0)\n",
        "    energy = attn_hidden.dot(energy)\n",
        "    attn_energies[i] = energy\n",
        "# --- attn\n",
        "\n",
        "dec_attn_weights = F.softmax(attn_energies, dim=0).unsqueeze(0).unsqueeze(0)\n",
        "\n",
        "print(f'attentions: {dec_attn_weights[0, 0].detach().numpy()}')\n",
        "\n",
        "dec_context_new = dec_attn_weights.bmm(enc_output.transpose(0, 1))\n",
        "\n",
        "dec_rnn_output_new = dec_rnn_output.squeeze(0) # S=1 x B x N -> B x N\n",
        "dec_context_new = dec_context_new.squeeze(1)       # B x S=1 x N -> B x N\n",
        "dec_output_final = F.log_softmax(\n",
        "    dec_out(torch.cat((dec_rnn_output_new, dec_context_new), 1)),\n",
        "    dim=-1\n",
        ")\n",
        "\n",
        "dec_topv, dec_topi = dec_output_final.data.topk(1)\n",
        "ni = dec_topi[0, 0]\n",
        "\n",
        "print(\n",
        "    f'predicted word: {target_lang_itos[ni]}'\n",
        ")\n",
        "\n",
        "decoder_input = torch.tensor([ni]).unsqueeze(0)\n",
        "\n",
        "last_context = dec_context_new\n",
        "last_hidden = dec_rnn_hidden_new\n",
        "\n",
        "print('\\n')"
      ],
      "execution_count": 269,
      "outputs": [
        {
          "output_type": "stream",
          "text": [
            "decoder word input: tensor([[2]]) value: <sos>\n",
            "attentions: [0.1943825  0.18803161 0.19965519 0.21548797 0.20244274]\n",
            "predicted word: samples\n",
            "\n",
            "\n"
          ],
          "name": "stdout"
        }
      ]
    },
    {
      "cell_type": "code",
      "metadata": {
        "id": "hey0dBjfmFv7"
      },
      "source": [
        "last_context = decoder_context\n",
        "last_hidden = decoder_hidden"
      ],
      "execution_count": 270,
      "outputs": []
    },
    {
      "cell_type": "code",
      "metadata": {
        "colab": {
          "base_uri": "https://localhost:8080/"
        },
        "id": "sqUa7j1ymHvm",
        "outputId": "17c15e4a-ea62-4c9b-eee4-c5a1a446ccb4"
      },
      "source": [
        "i = 1\n",
        "\n",
        "dec_word_input = decoder_input\n",
        "\n",
        "print(f'decoder word input: {dec_word_input} value: {target_lang_itos[dec_word_input[0, 0]]}')\n",
        "\n",
        "dec_word_embedded = dec_embedding(dec_word_input).view(1, 1, -1)\n",
        "\n",
        "dec_rnn_input = torch.cat((dec_word_embedded, last_context.unsqueeze(0)), dim=2)\n",
        "dec_rnn_output, dec_rnn_hidden_new = dec_lstm(dec_rnn_input, last_hidden)\n",
        "\n",
        "# --- attn\n",
        "seq_len = len(enc_output)\n",
        "attn_energies = torch.zeros(seq_len)\n",
        "attn_hidden = dec_rnn_output.squeeze(0).squeeze(0)\n",
        "for i in range(seq_len):\n",
        "    energy = luong_attn(enc_output[i]).squeeze(0)\n",
        "    energy = attn_hidden.dot(energy)\n",
        "    attn_energies[i] = energy\n",
        "# --- attn\n",
        "\n",
        "dec_attn_weights = F.softmax(attn_energies, dim=0).unsqueeze(0).unsqueeze(0)\n",
        "\n",
        "print(f'attentions: {dec_attn_weights[0, 0].detach().numpy()}')\n",
        "\n",
        "dec_context_new = dec_attn_weights.bmm(enc_output.transpose(0, 1))\n",
        "\n",
        "dec_rnn_output_new = dec_rnn_output.squeeze(0) # S=1 x B x N -> B x N\n",
        "dec_context_new = dec_context_new.squeeze(1)       # B x S=1 x N -> B x N\n",
        "dec_output_final = F.log_softmax(\n",
        "    dec_out(torch.cat((dec_rnn_output_new, dec_context_new), 1)),\n",
        "    dim=-1\n",
        ")\n",
        "\n",
        "dec_topv, dec_topi = dec_output_final.data.topk(1)\n",
        "ni = dec_topi[0, 0]\n",
        "\n",
        "print(\n",
        "    f'predicted word: {target_lang_itos[ni]}'\n",
        ")\n",
        "\n",
        "decoder_input = torch.tensor([ni]).unsqueeze(0)\n",
        "\n",
        "last_context = dec_context_new\n",
        "last_hidden = dec_rnn_hidden_new\n",
        "\n",
        "print('\\n')"
      ],
      "execution_count": 271,
      "outputs": [
        {
          "output_type": "stream",
          "text": [
            "decoder word input: tensor([[2579]]) value: samples\n",
            "attentions: [0.21555178 0.19511788 0.20333609 0.19306885 0.19292536]\n",
            "predicted word: shot\n",
            "\n",
            "\n"
          ],
          "name": "stdout"
        }
      ]
    },
    {
      "cell_type": "code",
      "metadata": {
        "colab": {
          "base_uri": "https://localhost:8080/"
        },
        "id": "81G6tAXLNO-T",
        "outputId": "26b78aa6-fb6e-4540-92f3-c8e2e8be8198"
      },
      "source": [
        "decoder_input = torch.tensor([SOS_token]).unsqueeze(0) # SOS is the first word to the decoder\n",
        "decoder_context = torch.zeros(1, hparams.hidden_size)\n",
        "decoder_hidden_test = enc_encoder_hidden # Use last hidden state from encoder to start decoder\n",
        "\n",
        "last_context = decoder_context\n",
        "last_hidden = decoder_hidden\n",
        "\n",
        "for i in range(hparams.max_length):\n",
        "\n",
        "    dec_word_input = decoder_input\n",
        "\n",
        "    print(f'decoder word input: {dec_word_input} value: {target_lang_itos[dec_word_input[0, 0]]}')\n",
        "\n",
        "    dec_word_embedded = dec_embedding(dec_word_input).view(1, 1, -1)\n",
        "\n",
        "    dec_rnn_input = torch.cat((dec_word_embedded, last_context.unsqueeze(0)), dim=2)\n",
        "    dec_rnn_output, dec_rnn_hidden_new = dec_lstm(dec_rnn_input, last_hidden)\n",
        "\n",
        "    # --- attn\n",
        "    seq_len = len(enc_output)\n",
        "    attn_energies = torch.zeros(seq_len)\n",
        "    attn_hidden = dec_rnn_output.squeeze(0).squeeze(0)\n",
        "    for i in range(seq_len):\n",
        "        energy = luong_attn(enc_output[i]).squeeze(0)\n",
        "        energy = attn_hidden.dot(energy)\n",
        "        attn_energies[i] = energy\n",
        "    # --- attn\n",
        "\n",
        "    dec_attn_weights = F.softmax(attn_energies, dim=0).unsqueeze(0).unsqueeze(0)\n",
        "\n",
        "    print(f'attentions: {dec_attn_weights[0, 0].detach().numpy()}')\n",
        "\n",
        "    dec_context_new = dec_attn_weights.bmm(enc_output.transpose(0, 1))\n",
        "\n",
        "    dec_rnn_output_new = dec_rnn_output.squeeze(0) # S=1 x B x N -> B x N\n",
        "    dec_context_new = dec_context_new.squeeze(1)       # B x S=1 x N -> B x N\n",
        "    dec_output_final = F.log_softmax(\n",
        "        dec_out(torch.cat((dec_rnn_output_new, dec_context_new), 1)),\n",
        "        dim=-1\n",
        "    )\n",
        "\n",
        "    dec_topv, dec_topi = dec_output_final.data.topk(1)\n",
        "    ni = dec_topi[0, 0]\n",
        "\n",
        "    print(\n",
        "        f'predicted word: {target_lang_itos[ni]}'\n",
        "    )\n",
        "\n",
        "    decoder_input = torch.tensor([ni]).unsqueeze(0)\n",
        "\n",
        "    if ni == EOS_token: break\n",
        "\n",
        "    last_context = dec_context_new\n",
        "    last_hidden = dec_rnn_hidden_new\n",
        "\n",
        "    print('\\n')"
      ],
      "execution_count": 272,
      "outputs": [
        {
          "output_type": "stream",
          "text": [
            "decoder word input: tensor([[2]]) value: <sos>\n",
            "attentions: [0.1943825  0.18803161 0.19965519 0.21548797 0.20244274]\n",
            "predicted word: samples\n",
            "\n",
            "\n",
            "decoder word input: tensor([[2579]]) value: samples\n",
            "attentions: [0.21375291 0.18870133 0.19963732 0.20372882 0.19417965]\n",
            "predicted word: samples\n",
            "\n",
            "\n",
            "decoder word input: tensor([[2579]]) value: samples\n",
            "attentions: [0.22272563 0.19198284 0.19868419 0.19550982 0.19109744]\n",
            "predicted word: shot\n",
            "\n",
            "\n",
            "decoder word input: tensor([[1720]]) value: shot\n",
            "attentions: [0.22027186 0.19475831 0.18840393 0.20425858 0.1923073 ]\n",
            "predicted word: drunk\n",
            "\n",
            "\n",
            "decoder word input: tensor([[164]]) value: drunk\n",
            "attentions: [0.23428832 0.19531    0.18941379 0.20000423 0.18098357]\n",
            "predicted word: spokesperson\n",
            "\n",
            "\n",
            "decoder word input: tensor([[1744]]) value: spokesperson\n",
            "attentions: [0.20320848 0.20838186 0.20744191 0.18297379 0.1979939 ]\n",
            "predicted word: awfully\n",
            "\n",
            "\n",
            "decoder word input: tensor([[1365]]) value: awfully\n",
            "attentions: [0.21121682 0.1958446  0.20257479 0.18374462 0.20661913]\n",
            "predicted word: handkerchiefs\n",
            "\n",
            "\n",
            "decoder word input: tensor([[2239]]) value: handkerchiefs\n",
            "attentions: [0.19458811 0.19533986 0.21029913 0.19429559 0.20547733]\n",
            "predicted word: proficient\n",
            "\n",
            "\n",
            "decoder word input: tensor([[1657]]) value: proficient\n",
            "attentions: [0.21321814 0.195621   0.20453739 0.17804082 0.20858264]\n",
            "predicted word: soldiers\n",
            "\n",
            "\n",
            "decoder word input: tensor([[2653]]) value: soldiers\n",
            "attentions: [0.19961408 0.19362779 0.19873007 0.18595427 0.22207373]\n",
            "predicted word: early\n",
            "\n",
            "\n"
          ],
          "name": "stdout"
        }
      ]
    },
    {
      "cell_type": "markdown",
      "metadata": {
        "id": "WBuryM9uSEAb"
      },
      "source": [
        "## Putting it all together"
      ]
    },
    {
      "cell_type": "code",
      "metadata": {
        "id": "DjTMkNfIQ47f"
      },
      "source": [
        "import torch\n",
        "import torch.nn as nn\n",
        "import torch.optim as optim\n",
        "import torch.nn.functional as F\n",
        "\n",
        "import pytorch_lightning as pl\n",
        "\n",
        "import random\n",
        "\n",
        "from ttctext.datamodules.torch_translate import tensorFromSentence\n",
        "\n",
        "class EncoderRNN(nn.Module):\n",
        "    def __init__(self, input_size, hidden_size, method='lstm', n_layers=1):\n",
        "        super(EncoderRNN, self).__init__()\n",
        "        \n",
        "        self.input_size = input_size\n",
        "        self.hidden_size = hidden_size\n",
        "        self.n_layers = n_layers\n",
        "        self.method = method\n",
        "\n",
        "        assert method in ['lstm', 'gru'], f\"'lstm' and 'gru' only supported\"\n",
        "        \n",
        "        self.embedding = nn.Embedding(input_size, hidden_size)\n",
        "        if self.method == 'lstm':\n",
        "            self.rnn = nn.LSTM(hidden_size, hidden_size, n_layers)\n",
        "        elif self.method == 'gru':\n",
        "            self.rnn = nn.GRU(hidden_size, hidden_size, n_layers)\n",
        "        \n",
        "    def forward(self, word_inputs, hidden):\n",
        "        # Note: we run this all at once (over the whole input sequence)\n",
        "        seq_len = len(word_inputs)\n",
        "        embedded = self.embedding(word_inputs).view(seq_len, 1, -1)\n",
        "\n",
        "        # print(embedded.shape, hidden[0].shape, hidden[1].shape)\n",
        "\n",
        "        output, hidden = self.rnn(embedded, hidden)\n",
        "        return output, hidden\n",
        "\n",
        "    def init_hidden(self, device):\n",
        "        if self.method == 'lstm':\n",
        "            hidden = torch.zeros(self.n_layers, 1, self.hidden_size, device=device), torch.zeros(self.n_layers, 1, self.hidden_size, device=device)\n",
        "        elif self.method == 'gru':\n",
        "            hidden = torch.zeros(self.n_layers, 1, self.hidden_size, device=device)\n",
        "        return hidden\n",
        "\n",
        "\n",
        "class LuongAttn(nn.Module):\n",
        "    def __init__(self, hidden_size):\n",
        "        super(LuongAttn, self).__init__()\n",
        "        \n",
        "        self.hidden_size = hidden_size\n",
        "        \n",
        "        self.attn = nn.Linear(self.hidden_size, self.hidden_size)\n",
        "\n",
        "    def forward(self, hidden, encoder_outputs, device):\n",
        "        seq_len = len(encoder_outputs)\n",
        "\n",
        "        # Create variable to store attention energies\n",
        "        attn_energies = torch.zeros(seq_len, device=device) # B x 1 x S\n",
        "\n",
        "        # Calculate energies for each encoder output\n",
        "        for i in range(seq_len):\n",
        "            attn_energies[i] = self.score(hidden, encoder_outputs[i])\n",
        "\n",
        "        # Normalize energies to weights in range 0 to 1, resize to 1 x 1 x seq_len\n",
        "        return F.softmax(attn_energies, dim=-1).unsqueeze(0).unsqueeze(0)\n",
        "    \n",
        "    def score(self, hidden, encoder_output):\n",
        "        energy = self.attn(encoder_output)\n",
        "        energy = hidden.view(-1).dot(energy.view(-1))\n",
        "        return energy\n",
        "\n",
        "\n",
        "class AttnDecoderRNN(nn.Module):\n",
        "    def __init__(self, hidden_size, output_size, method='lstm', n_layers=1, dropout_p=0.1):\n",
        "        super(AttnDecoderRNN, self).__init__()\n",
        "        \n",
        "        # Keep parameters for reference\n",
        "        self.hidden_size = hidden_size\n",
        "        self.output_size = output_size\n",
        "        self.n_layers = n_layers\n",
        "        self.dropout_p = dropout_p\n",
        "        self.method = method\n",
        "\n",
        "        assert method in ['lstm', 'gru'], f\"'lstm' and 'gru' only supported\"\n",
        "\n",
        "        # Define layers\n",
        "        self.embedding = nn.Embedding(output_size, hidden_size)\n",
        "\n",
        "        if self.method == 'lstm':\n",
        "            self.rnn = nn.LSTM(hidden_size * 2, hidden_size, n_layers, dropout=dropout_p)\n",
        "        elif self.method == 'gru':\n",
        "            self.rnn = nn.GRU(hidden_size * 2, hidden_size, n_layers, dropout=dropout_p)\n",
        "        \n",
        "        self.out = nn.Linear(hidden_size * 2, output_size)\n",
        "        \n",
        "        # Choose attention model\n",
        "        self.attn = LuongAttn(hidden_size)\n",
        "    \n",
        "    def forward(self, word_input, last_context, last_hidden, encoder_outputs, device):\n",
        "        # Note: we run this one step at a time\n",
        "        \n",
        "        # Get the embedding of the current input word (last output word)\n",
        "        word_embedded = self.embedding(word_input).view(1, 1, -1) # S=1 x B x N\n",
        "        \n",
        "        # Combine embedded input word and last context, run through RNN\n",
        "        rnn_input = torch.cat((word_embedded, last_context.unsqueeze(0)), dim=2)\n",
        "        rnn_output, hidden = self.rnn(rnn_input, last_hidden)\n",
        "\n",
        "        # Calculate attention from current RNN state and all encoder outputs; apply to encoder outputs\n",
        "        attn_weights = self.attn(rnn_output.squeeze(0), encoder_outputs, device)\n",
        "        # print(encoder_outputs.device, attn_weights.device)\n",
        "        context = attn_weights.bmm(encoder_outputs.transpose(0, 1)) # B x 1 x N\n",
        "        \n",
        "        # Final output layer (next word prediction) using the RNN hidden state and context vector\n",
        "        rnn_output = rnn_output.squeeze(0) # S=1 x B x N -> B x N\n",
        "        context = context.squeeze(1)       # B x S=1 x N -> B x N\n",
        "        output = F.log_softmax(\n",
        "            self.out(\n",
        "                torch.cat(\n",
        "                    (rnn_output, context),\n",
        "                    dim=1\n",
        "                )\n",
        "            ),\n",
        "            dim=-1\n",
        "        )\n",
        "\n",
        "        # print(output.shape)\n",
        "        \n",
        "        # Return final output, hidden state, and attention weights (for visualization)\n",
        "        return output, context, hidden, attn_weights\n",
        "\n",
        "\n",
        "class TorchTranslateModel(pl.LightningModule):\n",
        "\n",
        "    def __init__(self, hparams, *args, **kwargs):\n",
        "        super().__init__()\n",
        "\n",
        "        self.save_hyperparameters(hparams)\n",
        "\n",
        "        self.automatic_optimization = False\n",
        "\n",
        "        self.encoder = EncoderRNN(self.hparams.input_dim, self.hparams.hidden_size, n_layers=self.hparams.n_layers, method=self.hparams.method)\n",
        "        self.decoder = AttnDecoderRNN(self.hparams.hidden_size, self.hparams.output_dim, n_layers=self.hparams.n_layers, method=self.hparams.method, dropout_p=self.hparams.dropout)\n",
        "\n",
        "        self.criterion = nn.NLLLoss()\n",
        "\n",
        "\n",
        "    def forward(self, input_tensor, target_tensor):\n",
        "\n",
        "        loss = 0 # Added onto for each word\n",
        "\n",
        "        input_length = input_tensor.size()[0]\n",
        "        target_length = target_tensor.size()[0]\n",
        "\n",
        "        # Run words through encoder\n",
        "        encoder_hidden = self.encoder.init_hidden(self.device)\n",
        "        encoder_outputs, encoder_hidden = self.encoder(input_tensor, encoder_hidden)\n",
        "        \n",
        "        # Prepare input and output variables\n",
        "        decoder_input = torch.tensor([[SOS_token]], device=self.device)\n",
        "        decoder_context = torch.zeros(1, self.decoder.hidden_size, device=self.device)\n",
        "        decoder_hidden = encoder_hidden # Use last hidden state from encoder to start decoder\n",
        "\n",
        "        # Choose whether to use teacher forcing\n",
        "        use_teacher_forcing = random.random() < self.hparams.teacher_forcing_ratio\n",
        "\n",
        "        if use_teacher_forcing:\n",
        "            # Teacher forcing: Use the ground-truth target as the next input\n",
        "            for di in range(target_length):\n",
        "                decoder_output, decoder_context, decoder_hidden, decoder_attention = self.decoder(\n",
        "                    decoder_input, decoder_context, decoder_hidden, encoder_outputs, self.device\n",
        "                )\n",
        "                loss += self.criterion(decoder_output, target_tensor[di])\n",
        "                decoder_input = target_tensor[di] # Next target is next input\n",
        "\n",
        "        else:\n",
        "            # Without teacher forcing: use network's own prediction as the next input\n",
        "            for di in range(target_length):\n",
        "                decoder_output, decoder_context, decoder_hidden, decoder_attention = self.decoder(\n",
        "                    decoder_input, decoder_context, decoder_hidden, encoder_outputs, self.device\n",
        "                )\n",
        "                # print(decoder_output.shape, target_tensor[di].shape)\n",
        "                loss += self.criterion(decoder_output, target_tensor[di])\n",
        "                \n",
        "                # Get most likely word index (highest value) from output\n",
        "                topv, topi = decoder_output.data.topk(1)\n",
        "                ni = topi[0][0]\n",
        "                \n",
        "                decoder_input = torch.tensor([[ni]], device=self.device) # Chosen word is next input\n",
        "\n",
        "                # Stop at end of sentence (not necessary when using known targets)\n",
        "                if ni == EOS_token: break\n",
        "\n",
        "        return loss, loss / target_length\n",
        "\n",
        "    def shared_step(self, batch, batch_idx):\n",
        "        src_tensor, tgt_tensor, raw_src, raw_tgt = batch\n",
        "\n",
        "        if self.hparams.swap_langs:\n",
        "            src_tensor, tgt_tensor = tgt_tensor, src_tensor\n",
        "            raw_src, raw_tgt = raw_tgt, raw_src\n",
        "\n",
        "        assert src_tensor.size(0) == 1, 'only batch_size==1 supported'\n",
        "        assert tgt_tensor.size(0) == 1, 'only batch_size==1 supported'\n",
        "\n",
        "        loss, loss_n = self(src_tensor.view(-1, 1), tgt_tensor.view(-1, 1))\n",
        "        \n",
        "        metric = {'loss': loss, 'loss_n': loss_n}\n",
        "\n",
        "        return metric\n",
        "\n",
        "\n",
        "    def training_step(self, batch, batch_idx):\n",
        "        enc_opt, dec_opt = self.optimizers()\n",
        "        enc_opt.zero_grad() ; dec_opt.zero_grad()\n",
        "\n",
        "        metrics = self.shared_step(batch, batch_idx)\n",
        "\n",
        "        self.manual_backward(metrics['loss'])\n",
        "\n",
        "        # torch.nn.utils.clip_grad_norm_(self.encoder.parameters(), self.hparams.clip)\n",
        "        # torch.nn.utils.clip_grad_norm_(self.decoder.parameters(), self.hparams.clip)\n",
        "\n",
        "        enc_opt.step() ; dec_opt.step()\n",
        "\n",
        "        log_metrics = {'train_loss': metrics['loss_n']}\n",
        "\n",
        "        self.log_dict(log_metrics, prog_bar=True)\n",
        "\n",
        "        return metrics\n",
        "\n",
        "\n",
        "    def validation_step(self, batch, batch_idx):\n",
        "        metrics = self.shared_step(batch, batch_idx)\n",
        "\n",
        "        return metrics\n",
        "    \n",
        "\n",
        "    def validation_epoch_end(self, outputs):\n",
        "        loss = torch.stack([x['loss_n'] for x in outputs]).mean()\n",
        "\n",
        "        log_metrics = {'val_loss': loss}\n",
        "\n",
        "        self.log_dict(log_metrics, prog_bar=True)\n",
        "\n",
        "        return log_metrics\n",
        "\n",
        "\n",
        "    def test_step(self, batch, batch_idx):\n",
        "        return self.validation_step(batch, batch_idx)\n",
        "\n",
        "    def test_epoch_end(self, outputs):\n",
        "        accuracy = torch.stack([x['loss_n'] for x in outputs]).mean()\n",
        "\n",
        "        self.log('hp_metric', accuracy)\n",
        "\n",
        "        self.log_dict({'test_loss': accuracy}, prog_bar=True)\n",
        "\n",
        "\n",
        "    def configure_optimizers(self):\n",
        "        encoder_optimizer = optim.SGD(self.encoder.parameters(), lr=self.hparams.enc_lr)\n",
        "        decoder_optimizer = optim.SGD(self.decoder.parameters(), lr=self.hparams.dec_lr)\n",
        "        return encoder_optimizer, decoder_optimizer\n",
        "\n",
        "    def evaluate(self, datamodule: TorchLanguageData, sentence: str):\n",
        "        self.eval()\n",
        "\n",
        "        input_lang, output_lang = datamodule.input_lang, datamodule.output_lang\n",
        "\n",
        "        if self.hparams.swap_langs:\n",
        "            input_lang, output_lang = output_lang, input_lang\n",
        "\n",
        "        with torch.no_grad():\n",
        "            input_tensor = tensorFromSentence(input_lang, sentence)\n",
        "\n",
        "            input_length = input_tensor.size()[0]\n",
        "            \n",
        "            # Run through encoder\n",
        "            encoder_hidden = self.encoder.init_hidden(self.device)\n",
        "            encoder_outputs, encoder_hidden = self.encoder(input_tensor, encoder_hidden)\n",
        "\n",
        "            # Create starting vectors for decoder\n",
        "            decoder_input = torch.tensor([[SOS_token]], device=self.device) # SOS\n",
        "            decoder_context = torch.zeros(1, self.decoder.hidden_size, device=self.device)\n",
        "\n",
        "            decoder_hidden = encoder_hidden\n",
        "            \n",
        "            decoded_words = []\n",
        "            decoder_attentions = torch.zeros(self.hparams.max_length, self.hparams.max_length, device=self.device)\n",
        "            \n",
        "            # Run through decoder\n",
        "            for di in range(self.hparams.max_length):\n",
        "                decoder_output, decoder_context, decoder_hidden, decoder_attention = self.decoder(\n",
        "                    decoder_input, decoder_context, decoder_hidden, encoder_outputs, self.device\n",
        "                )\n",
        "                decoder_attentions[di,:decoder_attention.size(2)] += decoder_attention.squeeze(0).squeeze(0).cpu().data\n",
        "\n",
        "                # Choose top word from output\n",
        "                topv, topi = decoder_output.data.topk(1)\n",
        "                ni = topi[0][0]\n",
        "                if ni == EOS_token:\n",
        "                    decoded_words.append('<EOS>')\n",
        "                    break\n",
        "                else:\n",
        "                    decoded_words.append(output_lang.get_itos()[ni])\n",
        "                    \n",
        "                # Next input is chosen word\n",
        "                decoder_input = torch.tensor([[ni]], device=self.device)\n",
        "            \n",
        "            return decoded_words, decoder_attentions[:di+1, :len(encoder_outputs)]"
      ],
      "execution_count": 146,
      "outputs": []
    },
    {
      "cell_type": "code",
      "metadata": {
        "id": "e41IJNLd24A9"
      },
      "source": [
        "hparams = OmegaConf.create({\n",
        "    'input_dim': torch_dataset.input_lang.n_words,\n",
        "    'hidden_size': 384,\n",
        "    'output_dim': torch_dataset.output_lang.n_words,\n",
        "    'max_length': 10,\n",
        "    'n_layers': 2,\n",
        "    'method': 'lstm',\n",
        "    'clip': 5.0,\n",
        "    'swap_langs': False,\n",
        "    'teacher_forcing_ratio': 0.5,\n",
        "    'dropout': 0.1,\n",
        "    'enc_lr': 1e-2,\n",
        "    'dec_lr': 1e-2,\n",
        "    'epochs': 8,\n",
        "})"
      ],
      "execution_count": 168,
      "outputs": []
    },
    {
      "cell_type": "code",
      "metadata": {
        "id": "SD0rUwm-FGHB"
      },
      "source": [
        "torch_model = TorchTranslateModel(hparams)"
      ],
      "execution_count": 169,
      "outputs": []
    },
    {
      "cell_type": "code",
      "metadata": {
        "colab": {
          "base_uri": "https://localhost:8080/"
        },
        "id": "clW2pQ3kFVC4",
        "outputId": "b0d4735c-d110-4b3a-8e39-59979e8811b7"
      },
      "source": [
        "trainer = pl.Trainer(gpus=1, max_epochs=hparams.epochs)"
      ],
      "execution_count": 170,
      "outputs": [
        {
          "output_type": "stream",
          "text": [
            "GPU available: True, used: True\n",
            "TPU available: False, using: 0 TPU cores\n"
          ],
          "name": "stderr"
        }
      ]
    },
    {
      "cell_type": "code",
      "metadata": {
        "colab": {
          "base_uri": "https://localhost:8080/",
          "height": 336,
          "referenced_widgets": [
            "bcafca1d00094c50ab6d2b14efbe9403",
            "7e2d20bcd3e34b06b5c80eef83f6ad8d",
            "3f75025058b34bcbb195ff3a78483341",
            "9c3ec82be84d4eb69ddf839e0ed6772f",
            "213fa93535bc4fb98aeed870f53947f5",
            "8a8f0d96a4604c50b1ebfc26cd07b022",
            "e01c112978c74ff79fe3c2381892479e",
            "97c8cd5be2614c59960512726bf3545d",
            "e42c1a1989be478dbc7699f542de9ae3",
            "ab2f94d510204b0d9f591c74ea765462",
            "ca0d0dc2d851411eafc261b5b6599691",
            "5aff67c2100a47cb95507f5491137584",
            "90aa683cfd144c4fb0eb166578ed45ce",
            "dab6d723d8fe472e893fb6092d1846bd",
            "fb3d50bcb37c474596188073e26b9d18",
            "48b513e1d37543a0b72e44352ebadeef",
            "7ecd3586939142eda4975f15d1726878",
            "3950e972bf1e4a5abe7356d19000a2a9",
            "40dbfcc39a0548e5bfe2f65e8af09e52",
            "fe05638e6e5642af997e8833c2210c30",
            "4fc38ae788804f92a496c9100cbbce74",
            "a91ee829c2ba4950bbe6cf97a96ec644",
            "1e9f426fa8d449b4bce25c594e9fb83d",
            "0c015265309841cc9b4cfe46386b107b",
            "2aa784c0f30340d993f618c2b883aa04",
            "a3e9429e609747d09613a70f30451877",
            "aa20610df54645018c2b32d87be04b2e",
            "586ee6b653634b4fb706e60f7547ecad",
            "59de193df4704945bd8ced13730b3773",
            "da793a0317fa47bda361894c5143c9eb",
            "53877a707e4c47acbab98c1435ec1942",
            "e32614c208604356927d27121144cd2e",
            "f286276f95ac42b1a2b7396036099aa1",
            "2ed50e12ed3a46a8a5b625df1e99f63d",
            "a59369d260344085b59419bd845f1cb0",
            "db3dd23229554f1bb4ab9fed0036c27b",
            "cab0e33b66834c86ae90653ce3260d3a",
            "f3ea43e0824a4bff84ff6c5e757a722d",
            "fb46015d5c9f4832a0a89d022f7237f9",
            "fd1f6c6e83684be7845ee73fb4647a4e",
            "5a1d7cb5c7d04410afa62f9d55088789",
            "8f143c29f33b460694ab88403badf243",
            "a59c3ec29fa548dab45e3e5c1b3968d3",
            "2864f95411544e1889783a1857e6afb1",
            "6e8045fceee744a68a9dfb418f205292",
            "53e3805e417b41748dcb91834cb7e6c5",
            "edab09dffbca446281b4001d060e5121",
            "4064c37f3a2c4771a59c4d28845ec146",
            "6aa0d719b6074ea3b5e02d8279f5780c",
            "142a6adbd3094f6faadc54885dc57e60",
            "da87e5c88b254bdf8f8934d703e90a2d",
            "b16e34d6f87647c587ede4487392c4a2",
            "3f5eda79af144829ac502f9711568dc7",
            "daca5658d73e4bddafd9dc950a97e86d",
            "468fe0b872824d7db0aa71d716043564",
            "309dd9ccacad495dbab1899e0cb847e7",
            "b195687d3cd84a28a0a06fce1061ef30",
            "0d85f507646a4e9795e9245b1d9b48a8",
            "d0ddb7382d564d8ba819dfe623d51019",
            "8eab83c4ed5447a9912873188fe5899d",
            "782c4cf6ec3d4773bd2df120cd212e02",
            "a049762341aa45f0a1339c16881d17de",
            "cb317b3af47f4b1a9b3796f564f5e727",
            "aee2e66a5bd74d2dafdbca23e9b4f06b",
            "3c0488299a054b30a52d54932b29dae9",
            "3d81c89472b54586bca1b73b76e39f68"
          ]
        },
        "id": "gHJOHjZLFX91",
        "outputId": "bad51193-7bab-4510-f030-d188abd8b8f3"
      },
      "source": [
        "trainer.fit(torch_model, torch_dataset)"
      ],
      "execution_count": 171,
      "outputs": [
        {
          "output_type": "stream",
          "text": [
            "LOCAL_RANK: 0 - CUDA_VISIBLE_DEVICES: [0]\n",
            "\n",
            "  | Name      | Type           | Params\n",
            "---------------------------------------------\n",
            "0 | encoder   | EncoderRNN     | 4.0 M \n",
            "1 | decoder   | AttnDecoderRNN | 6.3 M \n",
            "2 | criterion | NLLLoss        | 0     \n",
            "---------------------------------------------\n",
            "10.4 M    Trainable params\n",
            "0         Non-trainable params\n",
            "10.4 M    Total params\n",
            "41.488    Total estimated model params size (MB)\n"
          ],
          "name": "stderr"
        },
        {
          "output_type": "display_data",
          "data": {
            "application/vnd.jupyter.widget-view+json": {
              "model_id": "bcafca1d00094c50ab6d2b14efbe9403",
              "version_minor": 0,
              "version_major": 2
            },
            "text/plain": [
              "Validation sanity check: 0it [00:00, ?it/s]"
            ]
          },
          "metadata": {
            "tags": []
          }
        },
        {
          "output_type": "display_data",
          "data": {
            "application/vnd.jupyter.widget-view+json": {
              "model_id": "5aff67c2100a47cb95507f5491137584",
              "version_minor": 0,
              "version_major": 2
            },
            "text/plain": [
              "Training: 0it [00:00, ?it/s]"
            ]
          },
          "metadata": {
            "tags": []
          }
        },
        {
          "output_type": "display_data",
          "data": {
            "application/vnd.jupyter.widget-view+json": {
              "model_id": "1e9f426fa8d449b4bce25c594e9fb83d",
              "version_minor": 0,
              "version_major": 2
            },
            "text/plain": [
              "Validating: 0it [00:00, ?it/s]"
            ]
          },
          "metadata": {
            "tags": []
          }
        },
        {
          "output_type": "display_data",
          "data": {
            "application/vnd.jupyter.widget-view+json": {
              "model_id": "2ed50e12ed3a46a8a5b625df1e99f63d",
              "version_minor": 0,
              "version_major": 2
            },
            "text/plain": [
              "Validating: 0it [00:00, ?it/s]"
            ]
          },
          "metadata": {
            "tags": []
          }
        },
        {
          "output_type": "display_data",
          "data": {
            "application/vnd.jupyter.widget-view+json": {
              "model_id": "6e8045fceee744a68a9dfb418f205292",
              "version_minor": 0,
              "version_major": 2
            },
            "text/plain": [
              "Validating: 0it [00:00, ?it/s]"
            ]
          },
          "metadata": {
            "tags": []
          }
        },
        {
          "output_type": "display_data",
          "data": {
            "application/vnd.jupyter.widget-view+json": {
              "model_id": "309dd9ccacad495dbab1899e0cb847e7",
              "version_minor": 0,
              "version_major": 2
            },
            "text/plain": [
              "Validating: 0it [00:00, ?it/s]"
            ]
          },
          "metadata": {
            "tags": []
          }
        },
        {
          "output_type": "stream",
          "text": [
            "/usr/local/lib/python3.7/dist-packages/pytorch_lightning/trainer/trainer.py:897: UserWarning: Detected KeyboardInterrupt, attempting graceful shutdown...\n",
            "  rank_zero_warn('Detected KeyboardInterrupt, attempting graceful shutdown...')\n"
          ],
          "name": "stderr"
        }
      ]
    },
    {
      "cell_type": "code",
      "metadata": {
        "id": "_OQZGwZfFaI5"
      },
      "source": [
        "def evalulate_randomly(model, dataset, n=10):\n",
        "    for i in range(n):\n",
        "        input_sentence, output_sentence = random.choice(dataset.train_pairs)\n",
        "        if hparams.swap_langs:\n",
        "            input_sentence, output_sentence = output_sentence, input_sentence\n",
        "        print('>', input_sentence)\n",
        "        print('=', output_sentence)\n",
        "        output_words, attentions = model.evaluate(dataset, input_sentence)\n",
        "        output_sentence = ' '.join(output_words)\n",
        "        print('<', output_sentence)\n",
        "        print('')"
      ],
      "execution_count": 172,
      "outputs": []
    },
    {
      "cell_type": "code",
      "metadata": {
        "colab": {
          "base_uri": "https://localhost:8080/"
        },
        "id": "MIwfEQKRV5sg",
        "outputId": "db1a8f75-3444-4688-e0c8-4a854e19473e"
      },
      "source": [
        "evalulate_randomly(torch_model, torch_dataset)"
      ],
      "execution_count": 173,
      "outputs": [
        {
          "output_type": "stream",
          "text": [
            "> elle est de mauvaise humeur .\n",
            "= she is in a bad mood .\n",
            "< she is in a mood . <EOS>\n",
            "\n",
            "> je suis dure a cuire .\n",
            "= i m tough .\n",
            "< i m tough . <EOS>\n",
            "\n",
            "> j etudie l economie a l universite .\n",
            "= i m studying economics at university .\n",
            "< i m studying the college . <EOS>\n",
            "\n",
            "> je n en suis pas trop convaincu .\n",
            "= i m not too convinced .\n",
            "< i m not too too . <EOS>\n",
            "\n",
            "> je suis ravie de t aider .\n",
            "= i am glad to help you .\n",
            "< i m glad to help you . <EOS>\n",
            "\n",
            "> elle a tres peur des chiens .\n",
            "= she s very afraid of dogs .\n",
            "< she is very afraid of dogs . <EOS>\n",
            "\n",
            "> il est fier d etre musicien .\n",
            "= he is proud of being a musician .\n",
            "< he s proud of a of . <EOS>\n",
            "\n",
            "> c est le portrait crache de son pere .\n",
            "= he is the image of his father .\n",
            "< he is the for father father . <EOS>\n",
            "\n",
            "> je suis juste paresseuse .\n",
            "= i m just lazy .\n",
            "< i m just . . <EOS>\n",
            "\n",
            "> nous sommes en train de nous en charger .\n",
            "= we re handling it .\n",
            "< we re back . <EOS>\n",
            "\n"
          ],
          "name": "stdout"
        }
      ]
    },
    {
      "cell_type": "code",
      "metadata": {
        "id": "IT33noL3V7oZ",
        "colab": {
          "base_uri": "https://localhost:8080/",
          "height": 297
        },
        "outputId": "9a30005d-bc0a-415d-c1c9-26f400adf112"
      },
      "source": [
        "import matplotlib.pyplot as plt\n",
        "\n",
        "output_words, attentions = torch_model.evaluate(torch_dataset, \"je suis trop froid .\")\n",
        "plt.matshow(attentions.numpy())"
      ],
      "execution_count": 174,
      "outputs": [
        {
          "output_type": "execute_result",
          "data": {
            "text/plain": [
              "<matplotlib.image.AxesImage at 0x7f93a641cdd0>"
            ]
          },
          "metadata": {
            "tags": []
          },
          "execution_count": 174
        },
        {
          "output_type": "display_data",
          "data": {
            "image/png": "[encoded data removed]",
            "text/plain": [
              "<Figure size 288x288 with 1 Axes>"
            ]
          },
          "metadata": {
            "tags": []
          }
        }
      ]
    },
    {
      "cell_type": "code",
      "metadata": {
        "id": "Z_20nHUFGchk"
      },
      "source": [
        "import matplotlib.pyplot as plt\n",
        "import matplotlib.ticker as ticker\n",
        "import numpy as np\n",
        "import seaborn as sns\n",
        "sns.set()\n",
        "sns.set_style(\"dark\")\n",
        "\n",
        "def showAttention(input_sentence, output_words, attentions):\n",
        "    # Set up figure with colorbar\n",
        "    fig = plt.figure()\n",
        "    ax = fig.add_subplot(111)\n",
        "    cax = ax.matshow(attentions.numpy(), cmap='bone')\n",
        "    fig.colorbar(cax)\n",
        "\n",
        "    # Set up axes\n",
        "    ax.set_xticklabels([''] + input_sentence.split(' ') +\n",
        "                       ['<EOS>'], rotation=90)\n",
        "    ax.set_yticklabels([''] + output_words)\n",
        "\n",
        "    # Show label at every tick\n",
        "    ax.xaxis.set_major_locator(ticker.MultipleLocator(1))\n",
        "    ax.yaxis.set_major_locator(ticker.MultipleLocator(1))\n",
        "\n",
        "    plt.show()\n",
        "\n",
        "\n",
        "def evaluateAndShowAttention(model, dataset, input_sentence):\n",
        "    output_words, attentions = model.evaluate(dataset, input_sentence)\n",
        "    print('input =', input_sentence)\n",
        "    print('output =', ' '.join(output_words))\n",
        "    showAttention(input_sentence, output_words, attentions)"
      ],
      "execution_count": 175,
      "outputs": []
    },
    {
      "cell_type": "code",
      "metadata": {
        "colab": {
          "base_uri": "https://localhost:8080/",
          "height": 334
        },
        "id": "0xVH-4pcIdFI",
        "outputId": "e03a6ab6-f0ee-45a8-cbe8-1af98cdda61b"
      },
      "source": [
        "evaluateAndShowAttention(torch_model, torch_dataset, 'je suis sur la paille et fatigue .')"
      ],
      "execution_count": 176,
      "outputs": [
        {
          "output_type": "stream",
          "text": [
            "input = je suis sur la paille et fatigue .\n",
            "output = i m sure and are . <EOS>\n"
          ],
          "name": "stdout"
        },
        {
          "output_type": "display_data",
          "data": {
            "image/png": "[encoded data removed]",
            "text/plain": [
              "<Figure size 432x288 with 2 Axes>"
            ]
          },
          "metadata": {
            "tags": []
          }
        }
      ]
    },
    {
      "cell_type": "code",
      "metadata": {
        "colab": {
          "base_uri": "https://localhost:8080/",
          "height": 342
        },
        "id": "c7f9dAZUIipc",
        "outputId": "fb359238-615c-4e6a-afdc-676d615e9597"
      },
      "source": [
        "evaluateAndShowAttention(torch_model, torch_dataset, 'il trouve toujours a redire aux autres .')"
      ],
      "execution_count": 177,
      "outputs": [
        {
          "output_type": "stream",
          "text": [
            "input = il trouve toujours a redire aux autres .\n",
            "output = he is always always for fault . <EOS>\n"
          ],
          "name": "stdout"
        },
        {
          "output_type": "display_data",
          "data": {
            "image/png": "[encoded data removed]",
            "text/plain": [
              "<Figure size 432x288 with 2 Axes>"
            ]
          },
          "metadata": {
            "tags": []
          }
        }
      ]
    },
    {
      "cell_type": "code",
      "metadata": {
        "colab": {
          "base_uri": "https://localhost:8080/",
          "height": 346
        },
        "id": "8UWwrTlpIo0P",
        "outputId": "bedd8d40-11b4-4856-bc44-d8ca35fc0c34"
      },
      "source": [
        "evaluateAndShowAttention(torch_model, torch_dataset, \"c est un jeune directeur plein de talent .\")"
      ],
      "execution_count": 178,
      "outputs": [
        {
          "output_type": "stream",
          "text": [
            "input = c est un jeune directeur plein de talent .\n",
            "output = he s a young young . . <EOS>\n"
          ],
          "name": "stdout"
        },
        {
          "output_type": "display_data",
          "data": {
            "image/png": "[encoded data removed]",
            "text/plain": [
              "<Figure size 432x288 with 2 Axes>"
            ]
          },
          "metadata": {
            "tags": []
          }
        }
      ]
    },
    {
      "cell_type": "code",
      "metadata": {
        "colab": {
          "base_uri": "https://localhost:8080/",
          "height": 338
        },
        "id": "Z4spHFDTjGyo",
        "outputId": "5b6ad570-5238-4770-f62f-8f4eda45e33c"
      },
      "source": [
        "evaluateAndShowAttention(torch_model, torch_dataset, \"je ne crains pas de mourir .\")"
      ],
      "execution_count": 179,
      "outputs": [
        {
          "output_type": "stream",
          "text": [
            "input = je ne crains pas de mourir .\n",
            "output = i m not afraid to die . <EOS>\n"
          ],
          "name": "stdout"
        },
        {
          "output_type": "display_data",
          "data": {
            "image/png": "[encoded data removed]",
            "text/plain": [
              "<Figure size 432x288 with 2 Axes>"
            ]
          },
          "metadata": {
            "tags": []
          }
        }
      ]
    },
    {
      "cell_type": "markdown",
      "metadata": {
        "id": "PkH00NUKjZ0o"
      },
      "source": [
        "## Tensorboard Logs"
      ]
    },
    {
      "cell_type": "code",
      "metadata": {
        "id": "exmRpBWIjMFI"
      },
      "source": [
        "! tensorboard dev upload --logdir lightning_logs \\\n",
        "    --name \"END2 11_Attention_Advances - Satyajit\" \\\n",
        "    --description \"Experiments on Attention model on PyTorch's Language Dataset\""
      ],
      "execution_count": null,
      "outputs": []
    },
    {
      "cell_type": "markdown",
      "metadata": {
        "id": "GnfP7dnAjuPB"
      },
      "source": [
        "\n",
        "## Tensorboard Logs: https://tensorboard.dev/experiment/kwH5WKoQTOaJLhOc9oYy6Q/"
      ]
    },
    {
      "cell_type": "code",
      "metadata": {
        "id": "KF8vIxOrjjBT"
      },
      "source": [
        ""
      ],
      "execution_count": null,
      "outputs": []
    }
  ]
}