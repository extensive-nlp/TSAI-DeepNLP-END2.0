{
  "nbformat": 4,
  "nbformat_minor": 0,
  "metadata": {
    "colab": {
      "name": "Attention-Is-All-You-Need-(TPU).ipynb",
      "provenance": [],
      "collapsed_sections": [],
      "authorship_tag": "ABX9TyPh0yq+kPgheWGVwp6CK96W",
      "include_colab_link": true
    },
    "kernelspec": {
      "name": "python3",
      "display_name": "Python 3"
    },
    "language_info": {
      "name": "python"
    },
    "accelerator": "TPU"
  },
  "cells": [
    {
      "cell_type": "markdown",
      "metadata": {
        "id": "view-in-github",
        "colab_type": "text"
      },
      "source": [
        "<a href=\"https://colab.research.google.com/github/satyajitghana/TSAI-DeepNLP-END2.0/blob/main/12_AttentionIsAllYouNeed/Attention_Is_All_You_Need_(TPU).ipynb\" target=\"_parent\"><img src=\"https://colab.research.google.com/assets/colab-badge.svg\" alt=\"Open In Colab\"/></a>"
      ]
    },
    {
      "cell_type": "markdown",
      "metadata": {
        "id": "mtppaRG100nw"
      },
      "source": [
        "# Attention Is All You Need !"
      ]
    },
    {
      "cell_type": "code",
      "metadata": {
        "colab": {
          "base_uri": "https://localhost:8080/"
        },
        "id": "uc-9GnV3Rjwm",
        "outputId": "0333efdb-d868-4450-8c1b-725024afbf64"
      },
      "source": [
        "! pip3 install cloud-tpu-client==0.10 https://storage.googleapis.com/tpu-pytorch/wheels/torch_xla-1.9-cp37-cp37m-linux_x86_64.whl"
      ],
      "execution_count": 1,
      "outputs": [
        {
          "output_type": "stream",
          "text": [
            "Collecting torch-xla==1.9\n",
            "  Downloading https://storage.googleapis.com/tpu-pytorch/wheels/torch_xla-1.9-cp37-cp37m-linux_x86_64.whl (149.9 MB)\n",
            "\u001b[K     |████████████████████████████████| 149.9 MB 70 kB/s \n",
            "\u001b[?25hCollecting cloud-tpu-client==0.10\n",
            "  Downloading cloud_tpu_client-0.10-py3-none-any.whl (7.4 kB)\n",
            "Collecting google-api-python-client==1.8.0\n",
            "  Downloading google_api_python_client-1.8.0-py3-none-any.whl (57 kB)\n",
            "\u001b[K     |████████████████████████████████| 57 kB 2.6 MB/s \n",
            "\u001b[?25hRequirement already satisfied: oauth2client in /usr/local/lib/python3.7/dist-packages (from cloud-tpu-client==0.10) (4.1.3)\n",
            "Requirement already satisfied: google-auth>=1.4.1 in /usr/local/lib/python3.7/dist-packages (from google-api-python-client==1.8.0->cloud-tpu-client==0.10) (1.32.1)\n",
            "Requirement already satisfied: uritemplate<4dev,>=3.0.0 in /usr/local/lib/python3.7/dist-packages (from google-api-python-client==1.8.0->cloud-tpu-client==0.10) (3.0.1)\n",
            "Requirement already satisfied: six<2dev,>=1.6.1 in /usr/local/lib/python3.7/dist-packages (from google-api-python-client==1.8.0->cloud-tpu-client==0.10) (1.15.0)\n",
            "Requirement already satisfied: google-api-core<2dev,>=1.13.0 in /usr/local/lib/python3.7/dist-packages (from google-api-python-client==1.8.0->cloud-tpu-client==0.10) (1.26.3)\n",
            "Requirement already satisfied: google-auth-httplib2>=0.0.3 in /usr/local/lib/python3.7/dist-packages (from google-api-python-client==1.8.0->cloud-tpu-client==0.10) (0.0.4)\n",
            "Requirement already satisfied: httplib2<1dev,>=0.9.2 in /usr/local/lib/python3.7/dist-packages (from google-api-python-client==1.8.0->cloud-tpu-client==0.10) (0.17.4)\n",
            "Requirement already satisfied: packaging>=14.3 in /usr/local/lib/python3.7/dist-packages (from google-api-core<2dev,>=1.13.0->google-api-python-client==1.8.0->cloud-tpu-client==0.10) (21.0)\n",
            "Requirement already satisfied: protobuf>=3.12.0 in /usr/local/lib/python3.7/dist-packages (from google-api-core<2dev,>=1.13.0->google-api-python-client==1.8.0->cloud-tpu-client==0.10) (3.17.3)\n",
            "Requirement already satisfied: requests<3.0.0dev,>=2.18.0 in /usr/local/lib/python3.7/dist-packages (from google-api-core<2dev,>=1.13.0->google-api-python-client==1.8.0->cloud-tpu-client==0.10) (2.23.0)\n",
            "Requirement already satisfied: pytz in /usr/local/lib/python3.7/dist-packages (from google-api-core<2dev,>=1.13.0->google-api-python-client==1.8.0->cloud-tpu-client==0.10) (2018.9)\n",
            "Requirement already satisfied: googleapis-common-protos<2.0dev,>=1.6.0 in /usr/local/lib/python3.7/dist-packages (from google-api-core<2dev,>=1.13.0->google-api-python-client==1.8.0->cloud-tpu-client==0.10) (1.53.0)\n",
            "Requirement already satisfied: setuptools>=40.3.0 in /usr/local/lib/python3.7/dist-packages (from google-api-core<2dev,>=1.13.0->google-api-python-client==1.8.0->cloud-tpu-client==0.10) (57.2.0)\n",
            "Requirement already satisfied: rsa<5,>=3.1.4 in /usr/local/lib/python3.7/dist-packages (from google-auth>=1.4.1->google-api-python-client==1.8.0->cloud-tpu-client==0.10) (4.7.2)\n",
            "Requirement already satisfied: pyasn1-modules>=0.2.1 in /usr/local/lib/python3.7/dist-packages (from google-auth>=1.4.1->google-api-python-client==1.8.0->cloud-tpu-client==0.10) (0.2.8)\n",
            "Requirement already satisfied: cachetools<5.0,>=2.0.0 in /usr/local/lib/python3.7/dist-packages (from google-auth>=1.4.1->google-api-python-client==1.8.0->cloud-tpu-client==0.10) (4.2.2)\n",
            "Requirement already satisfied: pyparsing>=2.0.2 in /usr/local/lib/python3.7/dist-packages (from packaging>=14.3->google-api-core<2dev,>=1.13.0->google-api-python-client==1.8.0->cloud-tpu-client==0.10) (2.4.7)\n",
            "Requirement already satisfied: pyasn1<0.5.0,>=0.4.6 in /usr/local/lib/python3.7/dist-packages (from pyasn1-modules>=0.2.1->google-auth>=1.4.1->google-api-python-client==1.8.0->cloud-tpu-client==0.10) (0.4.8)\n",
            "Requirement already satisfied: certifi>=2017.4.17 in /usr/local/lib/python3.7/dist-packages (from requests<3.0.0dev,>=2.18.0->google-api-core<2dev,>=1.13.0->google-api-python-client==1.8.0->cloud-tpu-client==0.10) (2021.5.30)\n",
            "Requirement already satisfied: urllib3!=1.25.0,!=1.25.1,<1.26,>=1.21.1 in /usr/local/lib/python3.7/dist-packages (from requests<3.0.0dev,>=2.18.0->google-api-core<2dev,>=1.13.0->google-api-python-client==1.8.0->cloud-tpu-client==0.10) (1.24.3)\n",
            "Requirement already satisfied: idna<3,>=2.5 in /usr/local/lib/python3.7/dist-packages (from requests<3.0.0dev,>=2.18.0->google-api-core<2dev,>=1.13.0->google-api-python-client==1.8.0->cloud-tpu-client==0.10) (2.10)\n",
            "Requirement already satisfied: chardet<4,>=3.0.2 in /usr/local/lib/python3.7/dist-packages (from requests<3.0.0dev,>=2.18.0->google-api-core<2dev,>=1.13.0->google-api-python-client==1.8.0->cloud-tpu-client==0.10) (3.0.4)\n",
            "Installing collected packages: google-api-python-client, torch-xla, cloud-tpu-client\n",
            "  Attempting uninstall: google-api-python-client\n",
            "    Found existing installation: google-api-python-client 1.12.8\n",
            "    Uninstalling google-api-python-client-1.12.8:\n",
            "      Successfully uninstalled google-api-python-client-1.12.8\n",
            "\u001b[31mERROR: pip's dependency resolver does not currently take into account all the packages that are installed. This behaviour is the source of the following dependency conflicts.\n",
            "earthengine-api 0.1.272 requires google-api-python-client<2,>=1.12.1, but you have google-api-python-client 1.8.0 which is incompatible.\u001b[0m\n",
            "Successfully installed cloud-tpu-client-0.10 google-api-python-client-1.8.0 torch-xla-1.9\n"
          ],
          "name": "stdout"
        }
      ]
    },
    {
      "cell_type": "code",
      "metadata": {
        "colab": {
          "base_uri": "https://localhost:8080/"
        },
        "id": "5gonBEQt6sTR",
        "outputId": "ec4e2ab2-e8a5-4c06-8c41-d924ae72a2f1"
      },
      "source": [
        "! pip3 install git+https://github.com/extensive-nlp/ttc_nlp --quiet"
      ],
      "execution_count": 2,
      "outputs": [
        {
          "output_type": "stream",
          "text": [
            "  Installing build dependencies ... \u001b[?25l\u001b[?25hdone\n",
            "  Getting requirements to build wheel ... \u001b[?25l\u001b[?25hdone\n",
            "    Preparing wheel metadata ... \u001b[?25l\u001b[?25hdone\n",
            "\u001b[K     |████████████████████████████████| 913 kB 5.3 MB/s \n",
            "\u001b[K     |████████████████████████████████| 74 kB 2.5 MB/s \n",
            "\u001b[K     |████████████████████████████████| 234 kB 58.2 MB/s \n",
            "\u001b[K     |████████████████████████████████| 22.3 MB 2.0 MB/s \n",
            "\u001b[K     |████████████████████████████████| 6.4 MB 31.7 MB/s \n",
            "\u001b[K     |████████████████████████████████| 76 kB 4.3 MB/s \n",
            "\u001b[?25h  Installing build dependencies ... \u001b[?25l\u001b[?25hdone\n",
            "  Getting requirements to build wheel ... \u001b[?25l\u001b[?25hdone\n",
            "    Preparing wheel metadata ... \u001b[?25l\u001b[?25hdone\n",
            "\u001b[K     |████████████████████████████████| 112 kB 42.8 MB/s \n",
            "\u001b[K     |████████████████████████████████| 636 kB 34.1 MB/s \n",
            "\u001b[K     |████████████████████████████████| 10.6 MB 37.2 MB/s \n",
            "\u001b[K     |████████████████████████████████| 118 kB 57.6 MB/s \n",
            "\u001b[K     |████████████████████████████████| 829 kB 47.4 MB/s \n",
            "\u001b[K     |████████████████████████████████| 1.3 MB 45.4 MB/s \n",
            "\u001b[K     |████████████████████████████████| 42 kB 1.3 MB/s \n",
            "\u001b[K     |████████████████████████████████| 10.1 MB 42.7 MB/s \n",
            "\u001b[K     |████████████████████████████████| 621 kB 37.6 MB/s \n",
            "\u001b[K     |████████████████████████████████| 456 kB 38.2 MB/s \n",
            "\u001b[K     |████████████████████████████████| 294 kB 49.1 MB/s \n",
            "\u001b[K     |████████████████████████████████| 142 kB 56.5 MB/s \n",
            "\u001b[?25h  Building wheel for ttctext (PEP 517) ... \u001b[?25l\u001b[?25hdone\n",
            "  Building wheel for gdown (PEP 517) ... \u001b[?25l\u001b[?25hdone\n",
            "  Building wheel for antlr4-python3-runtime (setup.py) ... \u001b[?25l\u001b[?25hdone\n",
            "  Building wheel for future (setup.py) ... \u001b[?25l\u001b[?25hdone\n",
            "\u001b[31mERROR: pip's dependency resolver does not currently take into account all the packages that are installed. This behaviour is the source of the following dependency conflicts.\n",
            "tensorflow 2.5.0 requires tensorboard~=2.5, but you have tensorboard 2.4.1 which is incompatible.\n",
            "earthengine-api 0.1.272 requires google-api-python-client<2,>=1.12.1, but you have google-api-python-client 1.8.0 which is incompatible.\u001b[0m\n"
          ],
          "name": "stdout"
        }
      ]
    },
    {
      "cell_type": "code",
      "metadata": {
        "colab": {
          "base_uri": "https://localhost:8080/"
        },
        "id": "T5rsz9p48MpL",
        "outputId": "e1d70c6c-8ccc-4899-a928-c2caeacfdf36"
      },
      "source": [
        "! python -m spacy download en_core_web_sm --quiet\n",
        "! python -m spacy download de_core_news_sm --quiet"
      ],
      "execution_count": 3,
      "outputs": [
        {
          "output_type": "stream",
          "text": [
            "2021-07-29 17:25:15.604892: I tensorflow/stream_executor/platform/default/dso_loader.cc:53] Successfully opened dynamic library libcudart.so.11.0\n",
            "\u001b[K     |████████████████████████████████| 13.6 MB 71 kB/s \n",
            "\u001b[?25h\u001b[38;5;2m✔ Download and installation successful\u001b[0m\n",
            "You can now load the package via spacy.load('en_core_web_sm')\n",
            "2021-07-29 17:25:24.900708: I tensorflow/stream_executor/platform/default/dso_loader.cc:53] Successfully opened dynamic library libcudart.so.11.0\n",
            "\u001b[K     |████████████████████████████████| 18.8 MB 1.3 MB/s \n",
            "\u001b[?25h\u001b[38;5;2m✔ Download and installation successful\u001b[0m\n",
            "You can now load the package via spacy.load('de_core_news_sm')\n"
          ],
          "name": "stdout"
        }
      ]
    },
    {
      "cell_type": "markdown",
      "metadata": {
        "id": "fIouDGTIGuCo"
      },
      "source": [
        "## Dataset"
      ]
    },
    {
      "cell_type": "code",
      "metadata": {
        "colab": {
          "base_uri": "https://localhost:8080/"
        },
        "id": "4O7TnzEp6iSR",
        "outputId": "4aec046e-0439-4e97-e39b-b0ac0c0d0dbf"
      },
      "source": [
        "import torch\n",
        "import pytorch_lightning as pl\n",
        "from torchtext.datasets import Multi30k, IWSLT2016\n",
        "\n",
        "from torchtext.data.utils import get_tokenizer\n",
        "from torchtext.vocab import build_vocab_from_iterator\n",
        "\n",
        "from torch.utils.data import DataLoader\n",
        "\n",
        "from torchtext.datasets import Multi30k, IWSLT2016\n",
        "\n",
        "from typing import *\n",
        "\n",
        "# helper function to club together sequential operations\n",
        "def sequential_transforms(*transforms):\n",
        "    def func(txt_input):\n",
        "        for transform in transforms:\n",
        "            txt_input = transform(txt_input)\n",
        "        return txt_input\n",
        "    return func\n",
        "\n",
        "class TTCTranslation(pl.LightningDataModule):\n",
        "\n",
        "    DATASET_OPTIONS = ['multi30k', 'iwslt2016']\n",
        "    LANGUAGE_OPTIONS = ['en', 'fr', 'de', 'cs', 'ar']\n",
        "\n",
        "    # Define special symbols and indices\n",
        "    UNK_IDX, PAD_IDX, BOS_IDX, EOS_IDX = 0, 1, 2, 3\n",
        "    # Make sure the tokens are in order of their indices to properly insert them in vocab\n",
        "    SPECIAL_SYMBOLS = ['<unk>', '<pad>', '<bos>', '<eos>']\n",
        "\n",
        "    def __init__(self, language_pair=('en', 'de'), spacy_language_pair=('en_core_web_sm', 'de_core_news_sm'), dataset='multi30k', batch_size=64, batch_first=True):\n",
        "        super().__init__()\n",
        "\n",
        "        assert len(language_pair) == 2 and len(spacy_language_pair), f'tf are you doing? give me a language \\\"pair\\\"'\n",
        "        assert dataset in self.DATASET_OPTIONS, f'{self.DATASET_OPTIONS} are only supported'\n",
        "        assert all(x in self.LANGUAGE_OPTIONS for x in language_pair), f'{self.LANGUAGE_OPTIONS} are only supported'\n",
        "\n",
        "        self.batch_size = batch_size\n",
        "        self.batch_first = batch_first\n",
        "\n",
        "        self.language_pair = language_pair\n",
        "        self.src_lang, self.tgt_lang = language_pair\n",
        "        self.spacy_src_lang, self.spacy_tgt_lang = spacy_language_pair\n",
        "\n",
        "        if dataset == 'multi30k':\n",
        "            self.train_dataset = Multi30k(split='train', language_pair=self.language_pair)\n",
        "            self.val_dataset = Multi30k(split='valid', language_pair=self.language_pair)\n",
        "            self.test_dataset = Multi30k(split='test', language_pair=self.language_pair)\n",
        "        elif dataset == 'iwslt2016':\n",
        "            self.train_dataset = IWSLT2016(split='train', language_pair=self.language_pair)\n",
        "            self.val_dataset = IWSLT2016(split='valid', language_pair=self.language_pair)\n",
        "            self.test_dataset = IWSLT2016(split='test', language_pair=self.language_pair)\n",
        "        \n",
        "        self.train_dataset, self.val_dataset, self.test_dataset = list(self.train_dataset), list(self.val_dataset), list(self.test_dataset)\n",
        "\n",
        "        # --- token transform ---\n",
        "\n",
        "        self.token_transform = {}\n",
        "        self.token_transform[self.src_lang] = get_tokenizer('spacy', language=self.spacy_src_lang)\n",
        "        self.token_transform[self.tgt_lang] = get_tokenizer('spacy', language=self.spacy_tgt_lang)\n",
        "\n",
        "        # --- vocab transform ---\n",
        "        # helper function to yield list of tokens\n",
        "        def yield_tokens(data_iter: Iterable, language: str) -> List[str]:\n",
        "            language_index = {self.src_lang: 0, self.tgt_lang: 1}\n",
        "\n",
        "            for data_sample in data_iter:\n",
        "                yield self.token_transform[language](data_sample[language_index[language]])\n",
        "        \n",
        "        self.vocab_transform = {}\n",
        "        for ln in self.language_pair:\n",
        "            # Create torchtext's Vocab object \n",
        "            self.vocab_transform[ln] = build_vocab_from_iterator(yield_tokens(self.train_dataset, ln),\n",
        "                                                            min_freq=1,\n",
        "                                                            specials=self.SPECIAL_SYMBOLS,\n",
        "                                                            special_first=True)\n",
        "\n",
        "        # Set UNK_IDX as the default index. This index is returned when the token is not found. \n",
        "        # If not set, it throws RuntimeError when the queried token is not found in the Vocabulary. \n",
        "        for ln in self.language_pair:\n",
        "            self.vocab_transform[ln].set_default_index(self.UNK_IDX)\n",
        "\n",
        "        # --- text/tensor transform ---\n",
        "\n",
        "        # function to add BOS/EOS and create tensor for input sequence indices\n",
        "        def tensor_transform(token_ids: List[int]):\n",
        "            return torch.cat((torch.tensor([self.BOS_IDX]), \n",
        "                            torch.tensor(token_ids), \n",
        "                            torch.tensor([self.EOS_IDX])))\n",
        "\n",
        "        # src and tgt language text transforms to convert raw strings into tensors indices\n",
        "        self.text_transform = {}\n",
        "        for ln in self.language_pair:\n",
        "            self.text_transform[ln] = sequential_transforms(self.token_transform[ln], #Tokenization\n",
        "                                                    self.vocab_transform[ln], #Numericalization\n",
        "                                                    tensor_transform) # Add BOS/EOS and create tensor\n",
        "\n",
        "    def prepare_data(self):\n",
        "        # download, split, etc...\n",
        "        # only called on 1 GPU/TPU in distributed\n",
        "        pass\n",
        "\n",
        "    def setup(self, stage):\n",
        "        # make assignments here (val/train/test split)\n",
        "        # called on every process in DDP\n",
        "        pass\n",
        "\n",
        "    def train_dataloader(self):\n",
        "        return DataLoader(\n",
        "            self.train_dataset,\n",
        "            batch_size=self.batch_size,\n",
        "            collate_fn=self.collator_fn \n",
        "        )\n",
        "\n",
        "    def val_dataloader(self):\n",
        "        return DataLoader(\n",
        "            self.val_dataset,\n",
        "            batch_size=self.batch_size,\n",
        "            collate_fn=self.collator_fn\n",
        "        )\n",
        "\n",
        "    def test_dataloader(self):\n",
        "        return DataLoader(\n",
        "            self.test_dataset,\n",
        "            batch_size=self.batch_size,\n",
        "            collate_fn=self.collator_fn\n",
        "        )\n",
        "\n",
        "    @property\n",
        "    def collator_fn(self):\n",
        "        def wrapper(batch):\n",
        "            src_batch, tgt_batch = [], []\n",
        "            for src_sample, tgt_sample in batch:\n",
        "                src_batch.append(self.text_transform[self.src_lang](src_sample.rstrip(\"\\n\")))\n",
        "                tgt_batch.append(self.text_transform[self.tgt_lang](tgt_sample.rstrip(\"\\n\")))\n",
        "\n",
        "            src_batch = torch.nn.utils.rnn.pad_sequence(src_batch, padding_value=self.PAD_IDX, batch_first=self.batch_first)\n",
        "            tgt_batch = torch.nn.utils.rnn.pad_sequence(tgt_batch, padding_value=self.PAD_IDX, batch_first=self.batch_first)\n",
        "\n",
        "            return src_batch, tgt_batch\n",
        "\n",
        "        return wrapper\n",
        "\n",
        "    def teardown(self):\n",
        "        # clean up after fit or test\n",
        "        # called on every process in DDP\n",
        "        pass"
      ],
      "execution_count": 4,
      "outputs": [
        {
          "output_type": "stream",
          "text": [
            "WARNING:root:Waiting for TPU to be start up with version pytorch-1.9...\n",
            "WARNING:root:Waiting for TPU to be start up with version pytorch-1.9...\n",
            "WARNING:root:Waiting for TPU to be start up with version pytorch-1.9...\n",
            "WARNING:root:TPU has started up successfully with version pytorch-1.9\n"
          ],
          "name": "stderr"
        }
      ]
    },
    {
      "cell_type": "code",
      "metadata": {
        "colab": {
          "base_uri": "https://localhost:8080/"
        },
        "id": "-MfeeS21Crwf",
        "outputId": "dd6aec30-5b21-458e-d5f2-5db9f8c2fa82"
      },
      "source": [
        "ttc_translation = TTCTranslation(\n",
        "    language_pair=('en', 'de'),\n",
        "    spacy_language_pair=('en_core_web_sm', 'de_core_news_sm'),\n",
        "    dataset='multi30k',\n",
        "    batch_size=4\n",
        ")"
      ],
      "execution_count": 5,
      "outputs": [
        {
          "output_type": "stream",
          "text": [
            "training.tar.gz: 100%|██████████| 1.21M/1.21M [00:01<00:00, 1.19MB/s]\n",
            "validation.tar.gz: 100%|██████████| 46.3k/46.3k [00:00<00:00, 231kB/s]\n",
            "mmt16_task1_test.tar.gz: 100%|██████████| 43.9k/43.9k [00:00<00:00, 218kB/s]\n"
          ],
          "name": "stderr"
        }
      ]
    },
    {
      "cell_type": "code",
      "metadata": {
        "id": "68iBuPFbDbvz"
      },
      "source": [
        "train_loader = ttc_translation.train_dataloader()"
      ],
      "execution_count": 6,
      "outputs": []
    },
    {
      "cell_type": "code",
      "metadata": {
        "id": "KJNraooSD7co"
      },
      "source": [
        "src, tgt = next(iter(train_loader))"
      ],
      "execution_count": 7,
      "outputs": []
    },
    {
      "cell_type": "code",
      "metadata": {
        "colab": {
          "base_uri": "https://localhost:8080/"
        },
        "id": "t9GipskXD9sm",
        "outputId": "481f4a3c-30d1-4124-b8b7-04380e78224c"
      },
      "source": [
        "src.shape, tgt.shape"
      ],
      "execution_count": 8,
      "outputs": [
        {
          "output_type": "execute_result",
          "data": {
            "text/plain": [
              "(torch.Size([4, 17]), torch.Size([4, 17]))"
            ]
          },
          "metadata": {
            "tags": []
          },
          "execution_count": 8
        }
      ]
    },
    {
      "cell_type": "code",
      "metadata": {
        "id": "u5hJyp4wE2DH"
      },
      "source": [
        "src_itos = ttc_translation.vocab_transform[ttc_translation.src_lang].get_itos()\n",
        "tgt_itos = ttc_translation.vocab_transform[ttc_translation.tgt_lang].get_itos()"
      ],
      "execution_count": 9,
      "outputs": []
    },
    {
      "cell_type": "code",
      "metadata": {
        "colab": {
          "base_uri": "https://localhost:8080/"
        },
        "id": "6mEU4MUbE1Cz",
        "outputId": "33bd362f-f750-4c50-c6d1-009d674b2268"
      },
      "source": [
        "src[0]"
      ],
      "execution_count": 10,
      "outputs": [
        {
          "output_type": "execute_result",
          "data": {
            "text/plain": [
              "tensor([   2,   20,   26,   16, 1170,  809,   18,   58,   85,  337, 1340,    6,\n",
              "           3,    1,    1,    1,    1])"
            ]
          },
          "metadata": {
            "tags": []
          },
          "execution_count": 10
        }
      ]
    },
    {
      "cell_type": "code",
      "metadata": {
        "colab": {
          "base_uri": "https://localhost:8080/"
        },
        "id": "3gzLNmacFyzz",
        "outputId": "45ae6d04-8744-4a56-b639-61dfe5675c2d"
      },
      "source": [
        "tgt[0]"
      ],
      "execution_count": 11,
      "outputs": [
        {
          "output_type": "execute_result",
          "data": {
            "text/plain": [
              "tensor([   2,   22,   86,  258,   32,   88,   23,   95,    8,   17,  113, 7911,\n",
              "        3210,    5,    3,    1,    1])"
            ]
          },
          "metadata": {
            "tags": []
          },
          "execution_count": 11
        }
      ]
    },
    {
      "cell_type": "code",
      "metadata": {
        "colab": {
          "base_uri": "https://localhost:8080/",
          "height": 35
        },
        "id": "H06TOSurFUJ_",
        "outputId": "7777336c-0580-43f8-c697-059df347ec35"
      },
      "source": [
        "' '.join(src_itos[x] for x in src[0])"
      ],
      "execution_count": 12,
      "outputs": [
        {
          "output_type": "execute_result",
          "data": {
            "application/vnd.google.colaboratory.intrinsic+json": {
              "type": "string"
            },
            "text/plain": [
              "'<bos> Two young , White males are outside near many bushes . <eos> <pad> <pad> <pad> <pad>'"
            ]
          },
          "metadata": {
            "tags": []
          },
          "execution_count": 12
        }
      ]
    },
    {
      "cell_type": "code",
      "metadata": {
        "colab": {
          "base_uri": "https://localhost:8080/",
          "height": 35
        },
        "id": "LsgOu_SMFa5m",
        "outputId": "23b5f62b-0717-4ef9-ae19-e1480a7f1b91"
      },
      "source": [
        "' '.join(tgt_itos[x] for x in tgt[0])"
      ],
      "execution_count": 13,
      "outputs": [
        {
          "output_type": "execute_result",
          "data": {
            "application/vnd.google.colaboratory.intrinsic+json": {
              "type": "string"
            },
            "text/plain": [
              "'<bos> Zwei junge weiße Männer sind im Freien in der Nähe vieler Büsche . <eos> <pad> <pad>'"
            ]
          },
          "metadata": {
            "tags": []
          },
          "execution_count": 13
        }
      ]
    },
    {
      "cell_type": "code",
      "metadata": {
        "colab": {
          "base_uri": "https://localhost:8080/"
        },
        "id": "vq9lavAKPfHI",
        "outputId": "e99a941e-5e10-4f49-9239-b170389ba472"
      },
      "source": [
        "tgt"
      ],
      "execution_count": 14,
      "outputs": [
        {
          "output_type": "execute_result",
          "data": {
            "text/plain": [
              "tensor([[   2,   22,   86,  258,   32,   88,   23,   95,    8,   17,  113, 7911,\n",
              "         3210,    5,    3,    1,    1],\n",
              "        [   2,   85,   32,   11,  848, 2209,   16, 8269,    5,    3,    1,    1,\n",
              "            1,    1,    1,    1,    1],\n",
              "        [   2,    6,   70,   28,  220,    8,   16, 6770,   56,  509,    5,    3,\n",
              "            1,    1,    1,    1,    1],\n",
              "        [   2,    6,   13,    8,    7,   48,   42,   31,   12,   14,  544,   10,\n",
              "          699,   16,  249,    5,    3]])"
            ]
          },
          "metadata": {
            "tags": []
          },
          "execution_count": 14
        }
      ]
    },
    {
      "cell_type": "code",
      "metadata": {
        "colab": {
          "base_uri": "https://localhost:8080/"
        },
        "id": "MlTxxhxIPbsY",
        "outputId": "542361d4-ad4e-498f-bf02-108d9ff013cb"
      },
      "source": [
        "tgt[:, 1:]"
      ],
      "execution_count": 15,
      "outputs": [
        {
          "output_type": "execute_result",
          "data": {
            "text/plain": [
              "tensor([[  22,   86,  258,   32,   88,   23,   95,    8,   17,  113, 7911, 3210,\n",
              "            5,    3,    1,    1],\n",
              "        [  85,   32,   11,  848, 2209,   16, 8269,    5,    3,    1,    1,    1,\n",
              "            1,    1,    1,    1],\n",
              "        [   6,   70,   28,  220,    8,   16, 6770,   56,  509,    5,    3,    1,\n",
              "            1,    1,    1,    1],\n",
              "        [   6,   13,    8,    7,   48,   42,   31,   12,   14,  544,   10,  699,\n",
              "           16,  249,    5,    3]])"
            ]
          },
          "metadata": {
            "tags": []
          },
          "execution_count": 15
        }
      ]
    },
    {
      "cell_type": "markdown",
      "metadata": {
        "id": "c0wXz9ouGq3o"
      },
      "source": [
        "## Model"
      ]
    },
    {
      "cell_type": "code",
      "metadata": {
        "id": "SbkWA68rSULX"
      },
      "source": [
        "import torch\n",
        "import torch.nn as nn\n",
        "\n",
        "\n",
        "class SelfAttention(nn.Module):\n",
        "    def __init__(self, embed_size, heads):\n",
        "        super(SelfAttention, self).__init__()\n",
        "        self.embed_size = embed_size\n",
        "        self.heads = heads\n",
        "        self.head_dim = embed_size // heads\n",
        "\n",
        "        assert (\n",
        "            self.head_dim * heads == embed_size\n",
        "        ), \"Embedding size needs to be divisible by heads\"\n",
        "\n",
        "        self.values = nn.Linear(self.head_dim, self.head_dim, bias=False)\n",
        "        self.keys = nn.Linear(self.head_dim, self.head_dim, bias=False)\n",
        "        self.queries = nn.Linear(self.head_dim, self.head_dim, bias=False)\n",
        "        self.fc_out = nn.Linear(heads * self.head_dim, embed_size)\n",
        "\n",
        "    def forward(self, values, keys, query, mask):\n",
        "        # Get number of training examples\n",
        "        N = query.shape[0]\n",
        "\n",
        "        value_len, key_len, query_len = values.shape[1], keys.shape[1], query.shape[1]\n",
        "\n",
        "        # Split the embedding into self.heads different pieces\n",
        "        values = values.reshape(N, value_len, self.heads, self.head_dim)\n",
        "        keys = keys.reshape(N, key_len, self.heads, self.head_dim)\n",
        "        query = query.reshape(N, query_len, self.heads, self.head_dim)\n",
        "\n",
        "        values = self.values(values)  # (N, value_len, heads, head_dim)\n",
        "        keys = self.keys(keys)  # (N, key_len, heads, head_dim)\n",
        "        queries = self.queries(query)  # (N, query_len, heads, heads_dim)\n",
        "\n",
        "        # Einsum does matrix mult. for query*keys for each training example\n",
        "        # with every other training example, don't be confused by einsum\n",
        "        # it's just how I like doing matrix multiplication & bmm\n",
        "\n",
        "        energy = torch.einsum(\"nqhd,nkhd->nhqk\", [queries, keys])\n",
        "        # queries shape: (N, query_len, heads, heads_dim),\n",
        "        # keys shape: (N, key_len, heads, heads_dim)\n",
        "        # energy: (N, heads, query_len, key_len)\n",
        "\n",
        "        # Mask padded indices so their weights become 0\n",
        "        if mask is not None:\n",
        "            energy = energy.masked_fill(mask == 0, float(\"-1e20\"))\n",
        "\n",
        "        # Normalize energy values similarly to seq2seq + attention\n",
        "        # so that they sum to 1. Also divide by scaling factor for\n",
        "        # better stability\n",
        "        attention = torch.softmax(energy / (self.embed_size ** (1 / 2)), dim=3)\n",
        "        # attention shape: (N, heads, query_len, key_len)\n",
        "\n",
        "        out = torch.einsum(\"nhql,nlhd->nqhd\", [attention, values]).reshape(\n",
        "            N, query_len, self.heads * self.head_dim\n",
        "        )\n",
        "        # attention shape: (N, heads, query_len, key_len)\n",
        "        # values shape: (N, value_len, heads, heads_dim)\n",
        "        # out after matrix multiply: (N, query_len, heads, head_dim), then\n",
        "        # we reshape and flatten the last two dimensions.\n",
        "\n",
        "        out = self.fc_out(out)\n",
        "        # Linear layer doesn't modify the shape, final shape will be\n",
        "        # (N, query_len, embed_size)\n",
        "\n",
        "        return out\n",
        "\n",
        "\n",
        "class TransformerBlock(nn.Module):\n",
        "    def __init__(self, embed_size, heads, dropout, forward_expansion):\n",
        "        super(TransformerBlock, self).__init__()\n",
        "        self.attention = SelfAttention(embed_size, heads)\n",
        "        self.norm1 = nn.LayerNorm(embed_size)\n",
        "        self.norm2 = nn.LayerNorm(embed_size)\n",
        "\n",
        "        self.feed_forward = nn.Sequential(\n",
        "            nn.Linear(embed_size, forward_expansion * embed_size),\n",
        "            nn.ReLU(),\n",
        "            nn.Linear(forward_expansion * embed_size, embed_size),\n",
        "        )\n",
        "\n",
        "        self.dropout = nn.Dropout(dropout)\n",
        "\n",
        "    def forward(self, value, key, query, mask):\n",
        "        attention = self.attention(value, key, query, mask)\n",
        "\n",
        "        # Add skip connection, run through normalization and finally dropout\n",
        "        x = self.dropout(self.norm1(attention + query))\n",
        "        forward = self.feed_forward(x)\n",
        "        out = self.dropout(self.norm2(forward + x))\n",
        "        return out\n",
        "\n",
        "\n",
        "class Encoder(nn.Module):\n",
        "    def __init__(\n",
        "        self,\n",
        "        src_vocab_size,\n",
        "        embed_size,\n",
        "        num_layers,\n",
        "        heads,\n",
        "        forward_expansion,\n",
        "        dropout,\n",
        "        max_length,\n",
        "    ):\n",
        "\n",
        "        super(Encoder, self).__init__()\n",
        "        self.embed_size = embed_size\n",
        "        self.word_embedding = nn.Embedding(src_vocab_size, embed_size)\n",
        "        self.position_embedding = nn.Embedding(max_length, embed_size)\n",
        "\n",
        "        self.layers = nn.ModuleList(\n",
        "            [\n",
        "                TransformerBlock(\n",
        "                    embed_size,\n",
        "                    heads,\n",
        "                    dropout=dropout,\n",
        "                    forward_expansion=forward_expansion,\n",
        "                )\n",
        "                for _ in range(num_layers)\n",
        "            ]\n",
        "        )\n",
        "\n",
        "        self.dropout = nn.Dropout(dropout)\n",
        "\n",
        "    def forward(self, x, mask, device):\n",
        "        N, seq_length = x.shape\n",
        "        positions = torch.arange(0, seq_length).expand(N, seq_length).to(device)\n",
        "        out = self.dropout(\n",
        "            (self.word_embedding(x) + self.position_embedding(positions))\n",
        "        )\n",
        "\n",
        "        # In the Encoder the query, key, value are all the same, it's in the\n",
        "        # decoder this will change. This might look a bit odd in this case.\n",
        "        for layer in self.layers:\n",
        "            out = layer(out, out, out, mask)\n",
        "\n",
        "        return out\n",
        "\n",
        "\n",
        "class DecoderBlock(nn.Module):\n",
        "    def __init__(self, embed_size, heads, forward_expansion, dropout):\n",
        "        super(DecoderBlock, self).__init__()\n",
        "        self.norm = nn.LayerNorm(embed_size)\n",
        "        self.attention = SelfAttention(embed_size, heads=heads)\n",
        "        self.transformer_block = TransformerBlock(\n",
        "            embed_size, heads, dropout, forward_expansion\n",
        "        )\n",
        "        self.dropout = nn.Dropout(dropout)\n",
        "\n",
        "    def forward(self, x, value, key, src_mask, trg_mask):\n",
        "        attention = self.attention(x, x, x, trg_mask)\n",
        "        query = self.dropout(self.norm(attention + x))\n",
        "        out = self.transformer_block(value, key, query, src_mask)\n",
        "        return out\n",
        "\n",
        "\n",
        "class Decoder(nn.Module):\n",
        "    def __init__(\n",
        "        self,\n",
        "        trg_vocab_size,\n",
        "        embed_size,\n",
        "        num_layers,\n",
        "        heads,\n",
        "        forward_expansion,\n",
        "        dropout,\n",
        "        max_length,\n",
        "    ):\n",
        "        super(Decoder, self).__init__()\n",
        "        self.word_embedding = nn.Embedding(trg_vocab_size, embed_size)\n",
        "        self.position_embedding = nn.Embedding(max_length, embed_size)\n",
        "\n",
        "        self.layers = nn.ModuleList(\n",
        "            [\n",
        "                DecoderBlock(embed_size, heads, forward_expansion, dropout)\n",
        "                for _ in range(num_layers)\n",
        "            ]\n",
        "        )\n",
        "        self.fc_out = nn.Linear(embed_size, trg_vocab_size)\n",
        "        self.dropout = nn.Dropout(dropout)\n",
        "\n",
        "    def forward(self, x, enc_out, src_mask, trg_mask, device):\n",
        "        N, seq_length = x.shape\n",
        "        positions = torch.arange(0, seq_length).expand(N, seq_length).to(device)\n",
        "        x = self.dropout((self.word_embedding(x) + self.position_embedding(positions)))\n",
        "\n",
        "        for layer in self.layers:\n",
        "            x = layer(x, enc_out, enc_out, src_mask, trg_mask)\n",
        "\n",
        "        out = self.fc_out(x)\n",
        "\n",
        "        return out\n",
        "\n",
        "\n",
        "class Transformer(nn.Module):\n",
        "    def __init__(\n",
        "        self,\n",
        "        src_vocab_size,\n",
        "        trg_vocab_size,\n",
        "        src_pad_idx,\n",
        "        trg_pad_idx,\n",
        "        embed_size=512,\n",
        "        num_layers=6,\n",
        "        forward_expansion=4,\n",
        "        heads=8,\n",
        "        dropout=0,\n",
        "        max_length=100,\n",
        "    ):\n",
        "\n",
        "        super(Transformer, self).__init__()\n",
        "\n",
        "        self.encoder = Encoder(\n",
        "            src_vocab_size,\n",
        "            embed_size,\n",
        "            num_layers,\n",
        "            heads,\n",
        "            forward_expansion,\n",
        "            dropout,\n",
        "            max_length,\n",
        "        )\n",
        "\n",
        "        self.decoder = Decoder(\n",
        "            trg_vocab_size,\n",
        "            embed_size,\n",
        "            num_layers,\n",
        "            heads,\n",
        "            forward_expansion,\n",
        "            dropout,\n",
        "            max_length,\n",
        "        )\n",
        "\n",
        "        self.src_pad_idx = src_pad_idx\n",
        "        self.trg_pad_idx = trg_pad_idx\n",
        "\n",
        "    def make_src_mask(self, src, device):\n",
        "        src_mask = (src != self.src_pad_idx).unsqueeze(1).unsqueeze(2)\n",
        "        # (N, 1, 1, src_len)\n",
        "        return src_mask.to(device)\n",
        "\n",
        "    def make_trg_mask(self, trg, device):\n",
        "        N, trg_len = trg.shape\n",
        "        trg_mask = torch.tril(torch.ones((trg_len, trg_len))).expand(\n",
        "            N, 1, trg_len, trg_len\n",
        "        )\n",
        "\n",
        "        return trg_mask.to(device)\n",
        "\n",
        "    def forward(self, src, trg, device):\n",
        "        src_mask = self.make_src_mask(src, device)\n",
        "        trg_mask = self.make_trg_mask(trg, device)\n",
        "        enc_src = self.encoder(src, src_mask, device)\n",
        "        out = self.decoder(trg, enc_src, src_mask, trg_mask, device)\n",
        "        return out"
      ],
      "execution_count": 27,
      "outputs": []
    },
    {
      "cell_type": "code",
      "metadata": {
        "id": "0m-euSwnG5xq"
      },
      "source": [
        "import pytorch_lightning as pl\n",
        "import torch\n",
        "import torch.nn as nn\n",
        "import torch.nn.functional as F\n",
        "\n",
        "class TransformerTranslateModel(pl.LightningModule):\n",
        "\n",
        "    def __init__(self, hparams, *args, **kwargs):\n",
        "        super().__init__()\n",
        "\n",
        "        self.save_hyperparameters(hparams)\n",
        "\n",
        "        print(f'Hparams =>\\n\\n{hparams}')\n",
        "\n",
        "        self.model = Transformer(\n",
        "            self.hparams.src_vocab_size,\n",
        "            self.hparams.tgt_vocab_size,\n",
        "            self.hparams.src_pad_idx,\n",
        "            self.hparams.tgt_pad_idx,\n",
        "            embed_size=self.hparams.embed_size,\n",
        "            num_layers=self.hparams.num_layers,\n",
        "            forward_expansion=self.hparams.forward_expansion,\n",
        "            heads=self.hparams.heads,\n",
        "            dropout=self.hparams.dropout,\n",
        "            max_length=self.hparams.max_length,\n",
        "        )\n",
        "\n",
        "        self.loss = nn.CrossEntropyLoss(ignore_index=self.hparams.tgt_pad_idx)\n",
        "\n",
        "    def forward(self, src_text, tgt_text):\n",
        "\n",
        "        output = self.model(src_text, tgt_text, device=self.device)\n",
        "\n",
        "        return output\n",
        "\n",
        "    def shared_step(self, batch, batch_idx):\n",
        "        src_text, tgt_text = batch\n",
        "\n",
        "        # print(src_text.shape, tgt_text.shape)\n",
        "\n",
        "        # remove <eos> from target and send\n",
        "        logits = self(src_text, tgt_text[:, :-1])\n",
        "\n",
        "        # reshape it into words * output_dim\n",
        "        logits = logits.reshape(-1, logits.shape[2])\n",
        "        # print(logits.shape)\n",
        "        # we remove the <bos> from target\n",
        "        target = tgt_text[:, 1:].reshape(-1)\n",
        "\n",
        "        # print(target.shape)\n",
        "        \n",
        "        loss = self.loss(logits, target)\n",
        "\n",
        "        metric = {'loss': loss}\n",
        "\n",
        "        return metric\n",
        "\n",
        "\n",
        "    def training_step(self, batch, batch_idx):\n",
        "        metrics = self.shared_step(batch, batch_idx)\n",
        "\n",
        "        log_metrics = {'train_loss': metrics['loss']}\n",
        "\n",
        "        self.log_dict(log_metrics, prog_bar=True)\n",
        "\n",
        "        return metrics\n",
        "\n",
        "\n",
        "    def validation_step(self, batch, batch_idx):\n",
        "        metrics = self.shared_step(batch, batch_idx)\n",
        "\n",
        "        return metrics\n",
        "    \n",
        "\n",
        "    def validation_epoch_end(self, outputs):\n",
        "        loss = torch.stack([x['loss'] for x in outputs]).mean()\n",
        "\n",
        "        log_metrics = {'val_loss': loss}\n",
        "\n",
        "        self.log_dict(log_metrics, prog_bar=True)\n",
        "\n",
        "        return log_metrics\n",
        "\n",
        "\n",
        "    def test_step(self, batch, batch_idx):\n",
        "        return self.validation_step(batch, batch_idx)\n",
        "\n",
        "    def configure_optimizers(self):\n",
        "        optimizer = torch.optim.Adam(self.model.parameters(), lr=self.hparams.lr)\n",
        "        return optimizer"
      ],
      "execution_count": 45,
      "outputs": []
    },
    {
      "cell_type": "code",
      "metadata": {
        "id": "fV744TNNV3Z9"
      },
      "source": [
        "ttc_translation = TTCTranslation(\n",
        "    language_pair=('en', 'de'),\n",
        "    spacy_language_pair=('en_core_web_sm', 'de_core_news_sm'),\n",
        "    dataset='multi30k',\n",
        "    batch_size=128\n",
        ")"
      ],
      "execution_count": 36,
      "outputs": []
    },
    {
      "cell_type": "code",
      "metadata": {
        "id": "i_mGv8q_HRBx"
      },
      "source": [
        "from omegaconf import OmegaConf"
      ],
      "execution_count": 37,
      "outputs": []
    },
    {
      "cell_type": "code",
      "metadata": {
        "id": "0-ql0U5yHTfv"
      },
      "source": [
        "hparams = OmegaConf.create({\n",
        "    'src_vocab_size': len(ttc_translation.vocab_transform[ttc_translation.src_lang]),\n",
        "    'tgt_vocab_size': len(ttc_translation.vocab_transform[ttc_translation.tgt_lang]),\n",
        "    'src_pad_idx': ttc_translation.PAD_IDX,\n",
        "    'tgt_pad_idx': ttc_translation.PAD_IDX,\n",
        "    'embed_size': 128,\n",
        "    'num_layers': 2,\n",
        "    'forward_expansion': 2,\n",
        "    'heads': 2,\n",
        "    'dropout': 0,\n",
        "    'max_length': 10,\n",
        "    'lr': 5e-4,\n",
        "    'epochs': 5,\n",
        "    'use_lr_finder': False\n",
        "})"
      ],
      "execution_count": 50,
      "outputs": []
    },
    {
      "cell_type": "code",
      "metadata": {
        "colab": {
          "base_uri": "https://localhost:8080/"
        },
        "id": "KqxMjFSJLYgF",
        "outputId": "4270ed6b-2289-4906-c5d4-2dfaaba18b56"
      },
      "source": [
        "transformer = TransformerTranslateModel(hparams)"
      ],
      "execution_count": 51,
      "outputs": [
        {
          "output_type": "stream",
          "text": [
            "Hparams =>\n",
            "\n",
            "{'src_vocab_size': 10838, 'tgt_vocab_size': 19215, 'src_pad_idx': 1, 'tgt_pad_idx': 1, 'embed_size': 128, 'num_layers': 2, 'forward_expansion': 2, 'heads': 2, 'dropout': 0, 'max_length': 10, 'lr': 0.0005, 'epochs': 5, 'use_lr_finder': False}\n"
          ],
          "name": "stdout"
        }
      ]
    },
    {
      "cell_type": "code",
      "metadata": {
        "id": "KrNj_LXuLnVs"
      },
      "source": [
        "# trainer = pl.Trainer(gpus=0, max_epochs=hparams.epochs)"
      ],
      "execution_count": 52,
      "outputs": []
    },
    {
      "cell_type": "code",
      "metadata": {
        "colab": {
          "base_uri": "https://localhost:8080/"
        },
        "id": "imOIaX6UTk34",
        "outputId": "8695e058-0f2c-47c5-fbe7-e0e23ff68e47"
      },
      "source": [
        "trainer = pl.Trainer(tpu_cores=8, max_epochs=hparams.epochs, checkpoint_callback=False)"
      ],
      "execution_count": 53,
      "outputs": [
        {
          "output_type": "stream",
          "text": [
            "GPU available: False, used: False\n",
            "TPU available: True, using: 8 TPU cores\n",
            "IPU available: False, using: 0 IPUs\n"
          ],
          "name": "stderr"
        }
      ]
    },
    {
      "cell_type": "code",
      "metadata": {
        "colab": {
          "base_uri": "https://localhost:8080/",
          "height": 162
        },
        "id": "8p7IrtzuLsAT",
        "outputId": "447cc943-e130-46c6-c2a4-2ccafccd70e5"
      },
      "source": [
        "trainer.fit(transformer, ttc_translation)"
      ],
      "execution_count": 1,
      "outputs": [
        {
          "output_type": "error",
          "ename": "NameError",
          "evalue": "ignored",
          "traceback": [
            "\u001b[0;31m---------------------------------------------------------------------------\u001b[0m",
            "\u001b[0;31mNameError\u001b[0m                                 Traceback (most recent call last)",
            "\u001b[0;32m<ipython-input-1-9292488f02cc>\u001b[0m in \u001b[0;36m<module>\u001b[0;34m()\u001b[0m\n\u001b[0;32m----> 1\u001b[0;31m \u001b[0mtrainer\u001b[0m\u001b[0;34m.\u001b[0m\u001b[0mfit\u001b[0m\u001b[0;34m(\u001b[0m\u001b[0mtransformer\u001b[0m\u001b[0;34m,\u001b[0m \u001b[0mttc_translation\u001b[0m\u001b[0;34m)\u001b[0m\u001b[0;34m\u001b[0m\u001b[0;34m\u001b[0m\u001b[0m\n\u001b[0m",
            "\u001b[0;31mNameError\u001b[0m: name 'trainer' is not defined"
          ]
        }
      ]
    },
    {
      "cell_type": "code",
      "metadata": {
        "colab": {
          "base_uri": "https://localhost:8080/"
        },
        "id": "77jwJ6BrbUzl",
        "outputId": "1772e778-bbbd-4505-8bc3-27338f1bfd18"
      },
      "source": [
        "transformer.device"
      ],
      "execution_count": 58,
      "outputs": [
        {
          "output_type": "execute_result",
          "data": {
            "text/plain": [
              "device(type='cpu')"
            ]
          },
          "metadata": {
            "tags": []
          },
          "execution_count": 58
        }
      ]
    },
    {
      "cell_type": "code",
      "metadata": {
        "id": "xwmdzCW9bLed"
      },
      "source": [
        "def translate_sentence(model, datamodule, sentence, device, max_length=20):\n",
        "    # Load german tokenizer\n",
        "    spacy_ger = spacy.load(\"de\")\n",
        "\n",
        "    # Create tokens using spacy and everything in lower case (which is what our vocab is)\n",
        "    if type(sentence) == str:\n",
        "        tokens = [token.text.lower() for token in spacy_ger(sentence)]\n",
        "    else:\n",
        "        tokens = [token.lower() for token in sentence]\n",
        "\n",
        "    # Add <SOS> and <EOS> in beginning and end respectively\n",
        "    tokens.insert(0, german.init_token)\n",
        "    tokens.append(german.eos_token)\n",
        "\n",
        "    # Go through each german token and convert to an index\n",
        "    text_to_indices = [german.vocab.stoi[token] for token in tokens]\n",
        "\n",
        "    # Convert to Tensor\n",
        "    sentence_tensor = torch.LongTensor(text_to_indices).unsqueeze(1).to(device)\n",
        "\n",
        "    outputs = [english.vocab.stoi[\"<sos>\"]]\n",
        "    for i in range(max_length):\n",
        "        trg_tensor = torch.LongTensor(outputs).unsqueeze(1).to(device)\n",
        "\n",
        "        with torch.no_grad():\n",
        "            output = model(sentence_tensor, trg_tensor)\n",
        "\n",
        "        best_guess = output.argmax(2)[-1, :].item()\n",
        "        outputs.append(best_guess)\n",
        "\n",
        "        if best_guess == english.vocab.stoi[\"<eos>\"]:\n",
        "            break\n",
        "\n",
        "    translated_sentence = [english.vocab.itos[idx] for idx in outputs]\n",
        "    # remove start token\n",
        "    return translated_sentence[1:]"
      ],
      "execution_count": null,
      "outputs": []
    },
    {
      "cell_type": "code",
      "metadata": {
        "id": "l3Srzt5rbOx1"
      },
      "source": [
        "sentence = \"hi how are you\""
      ],
      "execution_count": 80,
      "outputs": []
    },
    {
      "cell_type": "code",
      "metadata": {
        "colab": {
          "base_uri": "https://localhost:8080/"
        },
        "id": "S7KIC2WXbiUr",
        "outputId": "293feca3-1278-4806-9252-faa8de63fdaa"
      },
      "source": [
        "# Create tokens using spacy and everything in lower case (which is what our vocab is)\n",
        "if type(sentence) == str:\n",
        "    tokens = [token.lower() for token in ttc_translation.token_transform[ttc_translation.src_lang](sentence)]\n",
        "else:\n",
        "    tokens = [token.lower() for token in sentence]\n",
        "\n",
        "# Add <SOS> and <EOS> in beginning and end respectively\n",
        "tokens.insert(0, '<bos>')\n",
        "tokens.append('<eos>')\n",
        "\n",
        "# Go through each german token and convert to an index\n",
        "text_to_indices = [ttc_translation.vocab_transform[ttc_translation.src_lang].get_stoi()[token] for token in tokens]\n",
        "\n",
        "# Convert to Tensor\n",
        "sentence_tensor = torch.LongTensor(text_to_indices).unsqueeze(0)\n",
        "\n",
        "outputs = [ttc_translation.BOS_IDX]\n",
        "for i in range(10):\n",
        "    print(i)\n",
        "    trg_tensor = torch.LongTensor(outputs).unsqueeze(0)\n",
        "\n",
        "    with torch.no_grad():\n",
        "        output = transformer(sentence_tensor, trg_tensor)\n",
        "\n",
        "    best_guess = output.argmax(2)[:, -1].item()\n",
        "    outputs.append(best_guess)\n",
        "\n",
        "    if best_guess == ttc_translation.EOS_IDX:\n",
        "        break\n",
        "\n",
        "translated_sentence = [ttc_translation.vocab_transform[ttc_translation.tgt_lang].get_itos()[idx] for idx in outputs]"
      ],
      "execution_count": 81,
      "outputs": [
        {
          "output_type": "stream",
          "text": [
            "0\n",
            "1\n",
            "2\n",
            "3\n",
            "4\n",
            "5\n",
            "6\n",
            "7\n",
            "8\n",
            "9\n"
          ],
          "name": "stdout"
        }
      ]
    },
    {
      "cell_type": "code",
      "metadata": {
        "colab": {
          "base_uri": "https://localhost:8080/"
        },
        "id": "vAA6lyHYdo6_",
        "outputId": "c529cec2-af2d-414a-e2ec-ff2933e77ac1"
      },
      "source": [
        "translated_sentence"
      ],
      "execution_count": 82,
      "outputs": [
        {
          "output_type": "execute_result",
          "data": {
            "text/plain": [
              "['<bos>',\n",
              " 'Theater-Schild',\n",
              " 'Streitkräfte',\n",
              " 'Mariachi-Kleidung',\n",
              " 'nächtliches',\n",
              " 'verzehr',\n",
              " 'Halbnackter',\n",
              " 'Bohnen',\n",
              " 'Vögeln',\n",
              " 'Zeitungsgeschäft',\n",
              " 'operiert']"
            ]
          },
          "metadata": {
            "tags": []
          },
          "execution_count": 82
        }
      ]
    },
    {
      "cell_type": "code",
      "metadata": {
        "colab": {
          "base_uri": "https://localhost:8080/"
        },
        "id": "GA8_Z-85wJXy",
        "outputId": "469560ed-04e8-4a15-f8ec-39e6d6d16b8f"
      },
      "source": [
        "device = torch.device(\"cuda\" if torch.cuda.is_available() else \"cpu\")\n",
        "print(device)\n",
        "\n",
        "x = torch.tensor([[1, 5, 6, 4, 3, 9, 5, 2, 0], [1, 8, 7, 3, 4, 5, 6, 7, 2]]).to(\n",
        "    device\n",
        ")\n",
        "trg = torch.tensor([[1, 7, 4, 3, 5, 9, 2, 0], [1, 5, 6, 2, 4, 7, 6, 2]]).to(device)"
      ],
      "execution_count": 58,
      "outputs": [
        {
          "output_type": "stream",
          "text": [
            "cpu\n"
          ],
          "name": "stdout"
        }
      ]
    },
    {
      "cell_type": "code",
      "metadata": {
        "id": "Y9wk47tcQuYh"
      },
      "source": [
        "a, b = trg.shape"
      ],
      "execution_count": 101,
      "outputs": []
    },
    {
      "cell_type": "code",
      "metadata": {
        "colab": {
          "base_uri": "https://localhost:8080/"
        },
        "id": "F9LbvRQFwOXD",
        "outputId": "186d06db-0852-4b67-ecad-6ac8f532c099"
      },
      "source": [
        "x.shape, trg.shape"
      ],
      "execution_count": 60,
      "outputs": [
        {
          "output_type": "execute_result",
          "data": {
            "text/plain": [
              "(torch.Size([2, 9]), torch.Size([2, 8]))"
            ]
          },
          "metadata": {
            "tags": []
          },
          "execution_count": 60
        }
      ]
    },
    {
      "cell_type": "code",
      "metadata": {
        "id": "JLc2GzowwM0U"
      },
      "source": [
        "\n",
        "src_pad_idx = 0\n",
        "trg_pad_idx = 0\n",
        "src_vocab_size = 10\n",
        "trg_vocab_size = 19\n",
        "model = Transformer(src_vocab_size, trg_vocab_size, src_pad_idx, trg_pad_idx, device=device).to(\n",
        "    device\n",
        ")\n"
      ],
      "execution_count": 61,
      "outputs": []
    },
    {
      "cell_type": "code",
      "metadata": {
        "colab": {
          "base_uri": "https://localhost:8080/"
        },
        "id": "8HsyngTuwWvL",
        "outputId": "5a4810f4-6f8c-4232-977d-59d8cff9627c"
      },
      "source": [
        "x"
      ],
      "execution_count": 62,
      "outputs": [
        {
          "output_type": "execute_result",
          "data": {
            "text/plain": [
              "tensor([[1, 5, 6, 4, 3, 9, 5, 2, 0],\n",
              "        [1, 8, 7, 3, 4, 5, 6, 7, 2]])"
            ]
          },
          "metadata": {
            "tags": []
          },
          "execution_count": 62
        }
      ]
    },
    {
      "cell_type": "code",
      "metadata": {
        "colab": {
          "base_uri": "https://localhost:8080/"
        },
        "id": "20yqKr21wa1b",
        "outputId": "bef60f35-4b7c-42dd-dbe4-665e053fc4a1"
      },
      "source": [
        "trg"
      ],
      "execution_count": 63,
      "outputs": [
        {
          "output_type": "execute_result",
          "data": {
            "text/plain": [
              "tensor([[1, 7, 4, 3, 5, 9, 2, 0],\n",
              "        [1, 5, 6, 2, 4, 7, 6, 2]])"
            ]
          },
          "metadata": {
            "tags": []
          },
          "execution_count": 63
        }
      ]
    },
    {
      "cell_type": "code",
      "metadata": {
        "colab": {
          "base_uri": "https://localhost:8080/"
        },
        "id": "4XvajsxmwYMb",
        "outputId": "a3bd4696-88aa-4e75-8ebf-ae7a902437ca"
      },
      "source": [
        "trg[:, :-1]"
      ],
      "execution_count": 64,
      "outputs": [
        {
          "output_type": "execute_result",
          "data": {
            "text/plain": [
              "tensor([[1, 7, 4, 3, 5, 9, 2],\n",
              "        [1, 5, 6, 2, 4, 7, 6]])"
            ]
          },
          "metadata": {
            "tags": []
          },
          "execution_count": 64
        }
      ]
    },
    {
      "cell_type": "code",
      "metadata": {
        "colab": {
          "base_uri": "https://localhost:8080/"
        },
        "id": "AImtkA5XwRo2",
        "outputId": "decc7704-bb46-4a4f-c068-b64cb6fba9b7"
      },
      "source": [
        "out = model(x, trg)\n",
        "print(out.shape)"
      ],
      "execution_count": 65,
      "outputs": [
        {
          "output_type": "stream",
          "text": [
            "torch.Size([2, 8, 19])\n"
          ],
          "name": "stdout"
        }
      ]
    },
    {
      "cell_type": "code",
      "metadata": {
        "colab": {
          "base_uri": "https://localhost:8080/"
        },
        "id": "fTeC9vJmweW1",
        "outputId": "e01bdc66-1e7c-495a-9014-b75ad0f138e4"
      },
      "source": [
        "out = model(x, trg[:, :-1])\n",
        "print(out.shape)"
      ],
      "execution_count": 66,
      "outputs": [
        {
          "output_type": "stream",
          "text": [
            "torch.Size([2, 7, 19])\n"
          ],
          "name": "stdout"
        }
      ]
    },
    {
      "cell_type": "code",
      "metadata": {
        "colab": {
          "base_uri": "https://localhost:8080/"
        },
        "id": "jVCK0aWJwh8-",
        "outputId": "d027f131-1338-4221-8e79-3644a75f723f"
      },
      "source": [
        "out"
      ],
      "execution_count": 67,
      "outputs": [
        {
          "output_type": "execute_result",
          "data": {
            "text/plain": [
              "tensor([[[ 0.2951,  0.1643, -0.2747,  0.3652, -0.1972, -0.8278,  0.4282,\n",
              "           0.3892, -0.1439,  0.2059, -0.6906, -0.7613, -0.3035, -0.1787,\n",
              "          -0.5844, -0.9108, -0.5637, -0.5992, -0.7560],\n",
              "         [ 0.0180,  0.9289, -0.2546,  0.0580, -0.5211,  0.3094,  0.6083,\n",
              "           0.1999,  1.1048,  0.8458,  0.0587, -1.0493,  0.5115,  0.4687,\n",
              "          -0.3855, -0.3557, -0.1830, -0.7329, -1.3219],\n",
              "         [ 0.3778,  0.6247,  0.4919, -0.0576,  0.0851, -0.0025,  0.8352,\n",
              "          -0.0375,  0.5682, -0.0363, -0.3135, -0.6415,  1.0322,  0.2658,\n",
              "          -0.5410, -0.6383,  0.0127, -0.4191, -0.2977],\n",
              "         [-0.1501, -0.1214, -0.5211,  0.8485,  0.0799,  0.2861, -0.2637,\n",
              "          -0.1062, -1.1467,  0.0139, -0.2851, -1.0000,  0.9866,  0.1749,\n",
              "          -0.3502, -1.0612,  0.1819, -1.4339, -0.1691],\n",
              "         [ 0.0605,  0.3795, -0.7087,  0.1393,  0.2491,  0.1029,  0.5625,\n",
              "          -0.1687,  0.0632,  0.5568,  0.9216, -0.4791,  0.8981,  0.3617,\n",
              "          -0.5308, -0.8235,  0.0753, -0.8778, -0.7452],\n",
              "         [-0.0628, -0.6751, -0.3242,  0.9639, -0.3000, -0.2840,  0.0349,\n",
              "          -0.4121,  0.4887, -0.2129,  0.0310, -0.8143,  0.7135,  0.5065,\n",
              "          -0.3007, -0.3054, -0.4509, -0.2978, -0.9210],\n",
              "         [ 0.2106, -0.3181,  0.9226, -0.3037,  0.4285,  0.3390, -0.0625,\n",
              "           0.8386,  0.6901,  0.4473,  0.8968,  0.2696,  0.6717,  1.0908,\n",
              "          -0.1417, -0.3064, -0.0109, -0.5003, -0.2388]],\n",
              "\n",
              "        [[ 0.4122,  0.0431, -0.3558,  0.5086, -0.1410, -0.9248,  0.4124,\n",
              "           0.3683, -0.0750,  0.2639, -0.6219, -0.8344, -0.3408, -0.2655,\n",
              "          -0.5490, -0.7898, -0.5064, -0.5470, -0.8968],\n",
              "         [-0.1977,  0.4611, -0.1777, -0.5492,  0.3426, -0.2356,  0.7429,\n",
              "           0.0304,  0.8458,  0.3708, -0.0608, -0.8496,  0.7922,  0.1559,\n",
              "          -0.3295, -0.2014, -0.0189, -0.7379, -0.9920],\n",
              "         [ 0.7073, -0.0475, -0.4606, -0.1093,  0.0580,  0.0428,  0.2998,\n",
              "           0.4121,  0.0878,  0.0227, -0.3368, -0.9181,  0.6804,  0.3498,\n",
              "          -0.5647, -0.4680, -0.7336, -0.1709, -0.3977],\n",
              "         [-0.1568,  0.0717,  0.3394,  0.6026,  1.0447,  0.1838,  0.1044,\n",
              "           0.4203,  0.2315,  0.1192,  0.1840, -0.4064,  0.6429,  0.5872,\n",
              "          -0.0112,  0.0575,  0.1574, -0.1756, -0.9118],\n",
              "         [ 0.0579,  0.3235, -0.2982,  0.2636,  0.1603, -0.6076,  0.4941,\n",
              "          -0.8172,  0.3300,  0.2458,  0.4980, -0.5647,  0.8632,  0.1182,\n",
              "          -0.5811, -0.1135,  0.3435, -1.1265, -0.3381],\n",
              "         [ 0.3962,  0.3023, -0.2172,  1.4551, -0.8017,  0.0752,  0.2922,\n",
              "          -0.2295,  0.4392,  1.0965,  0.2471, -1.1831,  0.0644,  0.6284,\n",
              "          -0.8577, -0.5504, -0.1971, -0.4676, -1.2117],\n",
              "         [ 0.5175, -0.7290, -0.7294, -0.4713, -0.2919, -0.2882, -0.2261,\n",
              "           0.2007, -0.0293,  0.9544,  0.4745, -0.6733,  0.5664,  0.2515,\n",
              "          -1.0514, -0.3449, -0.0130, -0.9683, -0.1289]]],\n",
              "       grad_fn=<AddBackward0>)"
            ]
          },
          "metadata": {
            "tags": []
          },
          "execution_count": 67
        }
      ]
    },
    {
      "cell_type": "code",
      "metadata": {
        "id": "6TfpNK5yFo_W"
      },
      "source": [
        ""
      ],
      "execution_count": null,
      "outputs": []
    }
  ]
}